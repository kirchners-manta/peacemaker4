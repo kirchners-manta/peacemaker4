{
 "cells": [
  {
   "cell_type": "code",
   "execution_count": 15,
   "metadata": {},
   "outputs": [],
   "source": [
    "import numpy as np\n",
    "import sympy as sp"
   ]
  },
  {
   "cell_type": "markdown",
   "metadata": {},
   "source": [
    "#### Constants (Peacemaker)"
   ]
  },
  {
   "cell_type": "code",
   "execution_count": 16,
   "metadata": {},
   "outputs": [],
   "source": [
    "pi = 4.0 * np.arctan(1.0)\n",
    "planck = 6.62606957e-34         # J s\n",
    "avogadro = 6.0221413e23\n",
    "kb = 1.3806488e-23              # J K^-1\n",
    "speed_of_light = 299792458.0    # m s^-1\n",
    "amu = 1.660538921e-27           # kg\n",
    "gas_constant = avogadro*kb\n",
    "hbar = planck/(2.0*pi)\n",
    "global_eps = 1.0e-10"
   ]
  },
  {
   "cell_type": "markdown",
   "metadata": {},
   "source": [
    "# Moment of inertia - process_coordinate_record : cluster.f90"
   ]
  },
  {
   "cell_type": "markdown",
   "metadata": {},
   "source": [
    "The subroutine calculates the moments of inertia for a cluster.\n",
    "For that, first the total mass of the cluster is calculated. \n",
    "Using the coordinates of the atoms each, the center of mass is determined and set as origin.\n",
    "Then the inertia tensor is calculated.\n",
    "This tensor is diagonalized to obtain the eigenvalues which correspond to the moments of inertia in x, y and z direction of the corresponding cluster.\n",
    "The moments of inertia are saved, and the clusters are assigned as atom, linear or nonlinear"
   ]
  },
  {
   "cell_type": "markdown",
   "metadata": {},
   "source": [
    "### Calculation of the total mass"
   ]
  },
  {
   "cell_type": "markdown",
   "metadata": {},
   "source": [
    "### Diagonalization of symmetric 3x3 matrices (Direct calculation)"
   ]
  },
  {
   "cell_type": "markdown",
   "metadata": {},
   "source": [
    "Starting with a symmetric 3x3 matrix.\n",
    "\n",
    "$ \\text{A} = \\begin{pmatrix} a_{11} & a_{12} & a_{13} \\\\ a_{21} & a_{22} & a_{23} \\\\ a_{31} & a_{32} & a_{33} \\end{pmatrix}$, </p>\n",
    "$ \\det(\\text{A}) = a_{11}a_{22}a_{33} + 2a_{12}a_{23}a_{13} - a_{13}^2a_{22} - a_{23}^2a_{11} - a_{12}^2a_{33}$, </p>\n",
    "$ \\text{tr}(\\text{A}^2) = a_{11}^2+a_{22}^2+a_{33}^2 + 2 (a_{12}^2+a_{23}^2+a_{13}^2)$, </p>\n",
    "$ \\text{tr}^2(\\text{A}) = a_{11}^2+a_{22}^2+a_{33}^2 + 2 ( a_{11}a_{33}+ a_{11}a_{22}+ a_{22}a_{33})$ </p></br>\n",
    "\n",
    "For the calculation of the eigenvalues, the characteristic polynomial is needed. </p>\n",
    "$ \\text{A} \\nu = \\alpha \\nu $ </p>\n",
    "$\\small p_{\\text{A}}(\\alpha) = \\det(\\text{A} - \\alpha I) = -\\alpha^3 + \\alpha^2 (a_{11}+a_{22}+a_{33}) + \\alpha (a_{12}^2+a_{23}^2+a_{13}^2 - a_{11}a_{33}- a_{11}a_{22}- a_{22}a_{33}) + a_{11}a_{22}a_{33} + 2a_{12}a_{23}a_{13} - a_{13}^2a_{22} - a_{23}^2a_{11} - a_{12}^2a_{33}$ </p>\n",
    "$ 0 = \\alpha^3 - \\text{tr}(\\text{A}) \\alpha^2 - \\frac{1}{2} (\\text{tr}(\\text{A}^2)-\\text{tr}^2(\\text{A})) - \\det(\\text{A})$ </p> </br>\n",
    "    \n",
    "This is solved via the trigonometric solution. </p>\n",
    "$ \\text{B} \\mu = \\beta \\mu $ </p>\n",
    "$ \\text{A} = p \\text{B} + q \\text{I}~~~~$ with I being the identity matrix.</p></br>\n",
    "A and B have the same eigenvalues if: </p>\n",
    "$ \\alpha = p \\beta + q$ </p></br>\n",
    "$ q = \\text{tr}(\\text{A})/3~~~~$ and $~~~~p = \\sqrt{\\frac{\\text{tr}(\\text{A}-q\\text{I})^2}{6}}$ </p> \n",
    "$ \\det(\\beta \\text{I} - B) = \\beta^3 -3\\beta -\\det(B)$ </p></br>\n",
    "\n",
    "Substitution and simplification:</p>\n",
    "$\\beta = 2\\cos(\\theta)$ </p>\n",
    "$cos(3\\theta) = 4\\cos^3(\\theta) - 3\\cos(\\theta)$ </p>\n",
    "Leads to: </p>\n",
    "$ \\cos(3\\theta) = \\det(B)/2 $ </p></br>\n",
    "\n",
    "Thus the eigenvalues are: </p>\n",
    "$ \\beta = 2 \\cos(\\frac{1}{3} \\arccos(\\det(B)/2)+\\frac{2k\\pi}{3}) $, $~~~~k = 0,1,2$\n"
   ]
  },
  {
   "cell_type": "code",
   "execution_count": 17,
   "metadata": {},
   "outputs": [],
   "source": [
    "# Calculates the eigenvalues of a 3x3 matrix\n",
    "def diagonalization(a, eig):\n",
    "   # a     : input     - 3x3 matrix\n",
    "   # eig   : output    - array of the three eigenvalues\n",
    "    \n",
    "   p1 = a[0][1]**2 + a[0][2]**2 + a[1][2]**2\n",
    "   if (p1 == 0):\n",
    "      # The matrix is already in its diagonal form\n",
    "      eig = np.diag(a)\n",
    "   else:\n",
    "      q = np.trace(a)/3\n",
    "      p2 = (a[0][0]-q)**2 + (a[1][1]-q)**2 + (a[2][2]-q)**2 + 2*p1\n",
    "      p = np.sqrt(p2/6)\n",
    "      b = (a - q*np.identity(3))/p\n",
    "      r = np.linalg.det(b)/2 # determinant\n",
    "      print(r)\n",
    "\n",
    "   # In exact arithmetic for a symmetric matrix  -1 <= r <= 1\n",
    "   # but computation error can leave it slightly outside this range.\n",
    "   if (r <= -1):\n",
    "      phi = pi/3\n",
    "   elif (r >= 1):\n",
    "      phi = 0\n",
    "   else:\n",
    "      phi = np.arccos(r)/3\n",
    "\n",
    "   # Calculation of the eigenvalues\n",
    "      \n",
    "   # the eigenvalues satisfy eig3 <= eig2 <= eig1\n",
    "   eig[0] = q + 2 * p * np.cos(phi)\n",
    "   eig[2] = q + 2 * p * np.cos(phi + (2*pi/3))\n",
    "   eig[1] = 3 * q - eig[0] - eig[2]     # since trace(A) = eig1 + eig2 + eig3\n",
    "\n",
    "   return(eig)\n"
   ]
  },
  {
   "cell_type": "markdown",
   "metadata": {},
   "source": [
    "#### Check with an external python module"
   ]
  },
  {
   "cell_type": "code",
   "execution_count": 18,
   "metadata": {},
   "outputs": [],
   "source": [
    "def diagonalization_sympy(a, eig):\n",
    "    \n",
    "   a = sp.Matrix(a)\n",
    "   eig = a.eigenvals()\n",
    "   \n",
    "   # sort eigenvalues from biggest to smallest\n",
    "   eig = sorted(eig, reverse=True)\n",
    "\n",
    "   return(eig)"
   ]
  },
  {
   "cell_type": "markdown",
   "metadata": {},
   "source": [
    "#### Tests"
   ]
  },
  {
   "cell_type": "markdown",
   "metadata": {},
   "source": [
    "Test matrix </p>\n",
    "$ \\text{A} = \\begin{pmatrix} 2 & 2 & -1 \\\\ 2 & 1 & 0 \\\\ -1 & 0 & 4 \\end{pmatrix}~~~~~~~~~~~~~$ Eigenvalues: $2 - \\sqrt{7},~~ 3,~~ 2 + \\sqrt{7}$"
   ]
  },
  {
   "cell_type": "code",
   "execution_count": 19,
   "metadata": {},
   "outputs": [
    {
     "name": "stdout",
     "output_type": "stream",
     "text": [
      "-0.6008383824567203\n",
      "Direct method :  [ 4.64575131  3.         -0.64575131]\n",
      "sympy         :  [2 + sqrt(7), 3, 2 - sqrt(7)]\n",
      "\n",
      "Eigenvalue  1  is the same\n",
      "Eigenvalue  2  is the same\n",
      "Eigenvalue  3  is the same\n"
     ]
    }
   ],
   "source": [
    "# Matrix and initial eigenvalues\n",
    "a = [[2,2,-1],[2,1,0],[-1,0,4]]\n",
    "eig = np.zeros(3)\n",
    "\n",
    "# Calculation with direct method\n",
    "direct = diagonalization(a, eig)\n",
    "print('Direct method : ',direct)\n",
    "\n",
    "# Calculation with sympy\n",
    "sympy = diagonalization_sympy(a, eig)\n",
    "print('sympy         : ',sympy)\n",
    "print()\n",
    "\n",
    "# Check wether differences are smaller than 10^-10\n",
    "diff = np.abs(direct - sympy)\n",
    "for i in range(3):\n",
    "    if (diff[i] < 1.0e-10):\n",
    "        print('Eigenvalue ',i+1,' is the same')\n",
    "    else:\n",
    "        print('Eigenvalue ',i+1,' is different')"
   ]
  },
  {
   "cell_type": "code",
   "execution_count": null,
   "metadata": {},
   "outputs": [],
   "source": []
  }
 ],
 "metadata": {
  "kernelspec": {
   "display_name": "base",
   "language": "python",
   "name": "python3"
  },
  "language_info": {
   "codemirror_mode": {
    "name": "ipython",
    "version": 3
   },
   "file_extension": ".py",
   "mimetype": "text/x-python",
   "name": "python",
   "nbconvert_exporter": "python",
   "pygments_lexer": "ipython3",
   "version": "3.10.9"
  }
 },
 "nbformat": 4,
 "nbformat_minor": 2
}
