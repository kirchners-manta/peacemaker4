{
 "cells": [
  {
   "cell_type": "code",
   "execution_count": 102,
   "metadata": {},
   "outputs": [],
   "source": [
    "import numpy as np\n",
    "import sympy as sp"
   ]
  },
  {
   "cell_type": "markdown",
   "metadata": {},
   "source": [
    "#### Constants (Peacemaker)"
   ]
  },
  {
   "cell_type": "code",
   "execution_count": 103,
   "metadata": {},
   "outputs": [],
   "source": [
    "pi = 4.0 * np.arctan(1.0)\n",
    "planck = 6.62606957e-34         # J s\n",
    "avogadro = 6.0221413e23\n",
    "kb = 1.3806488e-23              # J K^-1\n",
    "speed_of_light = 299792458.0    # m s^-1\n",
    "amu = 1.660538921e-27           # kg\n",
    "gas_constant = avogadro*kb\n",
    "hbar = planck/(2.0*pi)\n",
    "global_eps = 1.0e-10"
   ]
  },
  {
   "cell_type": "markdown",
   "metadata": {},
   "source": [
    "# Moment of inertia - process_coordinate_record : cluster.f90"
   ]
  },
  {
   "cell_type": "markdown",
   "metadata": {},
   "source": [
    "The subroutine calculates the moments of inertia for a cluster.\n",
    "For that, first the total mass of the cluster is calculated. \n",
    "Using the coordinates of the atoms each, the center of mass is determined and set as origin.\n",
    "Then the inertia tensor is calculated.\n",
    "This tensor is diagonalized to obtain the eigenvalues which correspond to the moments of inertia in x, y and z direction of the corresponding cluster.\n",
    "The moments of inertia are saved, and the clusters are assigned as atom, linear or nonlinear"
   ]
  },
  {
   "cell_type": "markdown",
   "metadata": {},
   "source": [
    "### Calculation of the center of mass"
   ]
  },
  {
   "cell_type": "code",
   "execution_count": 104,
   "metadata": {},
   "outputs": [],
   "source": [
    "# Provide masses for elements\n",
    "def element_mass(element, mass):\n",
    "    if element == 'H':\n",
    "        mass = 1.008\n",
    "    elif element == 'C':\n",
    "        mass = 12.01\n",
    "    elif element == 'O':\n",
    "        mass = 16.00\n",
    "    elif element == 'Cl':\n",
    "        mass = 35.45\n",
    "        \n",
    "    return mass   "
   ]
  },
  {
   "cell_type": "code",
   "execution_count": 105,
   "metadata": {},
   "outputs": [],
   "source": [
    "# Provided is a one array with masses of the atoms in the cluster\n",
    "# and a second array with the coordinates of the atoms in the cluster\n",
    "# The function calculates the center of mass of the cluster\n",
    "\n",
    "def center_of_mass(nr_atoms, masses, coordinates):\n",
    "    com = np.zeros(3)\n",
    "    for i in range(nr_atoms):\n",
    "        com += masses[i]*coordinates[i]\n",
    "        \n",
    "    com /= np.sum(masses)\n",
    "    \n",
    "    return com"
   ]
  },
  {
   "cell_type": "code",
   "execution_count": 106,
   "metadata": {},
   "outputs": [],
   "source": [
    "# Set com as the origin of the coordinate system\n",
    "def com_origin(nr_atoms, coordinates, com):\n",
    "    for i in range(nr_atoms):\n",
    "        coordinates[i] -= com\n",
    "        \n",
    "    return coordinates"
   ]
  },
  {
   "cell_type": "markdown",
   "metadata": {},
   "source": [
    "#### Tests"
   ]
  },
  {
   "cell_type": "markdown",
   "metadata": {},
   "source": [
    "Test - cluster (c1m1w3-7.xyz)</p>\n",
    "20   $~~~~~$     $\\textcolor{darkred}{\\text{number of atoms}}$</br>\n",
    "-39.771584979232   $~~~~~$   $\\textcolor{darkred}{\\text{energy (ignored)}}$ </br>\n",
    "C    $~~~~~$   -1.16898944033827  $~~~$ -0.14805428493990  $~~~$  0.32745185542377        $~~~~~$   $\\textcolor{darkred}{\\text{atom type, coordinates}}$</br>\n",
    "Cl   $~~~~~$   -2.34784356765353  $~~~$ -1.28928508067893  $~~~$  0.99930307590600 </br>\n",
    "Cl   $~~~~~$   -0.65822727470503  $~~~$ -0.69129854923607  $~~~$ -1.27452373497366 </br>\n",
    "H    $~~~~~$   -0.29281244953045  $~~~$ -0.09624032526792  $~~~$  0.98689811267938 </br>\n",
    "Cl   $~~~~~$   -1.88998652011726  $~~~$  1.46443581796416  $~~~$  0.20551396958876 </br>\n",
    "C    $~~~~~$    2.76478224676894  $~~~$ -2.07459581216681  $~~~$ -0.19885824933856 </br>\n",
    "H    $~~~~~$    3.04017750865408  $~~~$ -2.64738864366591  $~~~$  0.69127857857294 </br>\n",
    "O    $~~~~~$    3.01513896067189  $~~~$ -0.70150365130769  $~~~$ -0.02078584488278 </br>\n",
    "H    $~~~~~$    1.71213083048118  $~~~$ -2.26384057006596  $~~~$ -0.43213510816834 </br>\n",
    "H    $~~~~~$    3.37938957253550  $~~~$ -2.40571568513168  $~~~$ -1.03494010845601 </br>\n",
    "H    $~~~~~$    2.47344440334455  $~~~$ -0.37364082813805  $~~~$  0.72736968185670 </br>\n",
    "O    $~~~~~$    1.38749152659684  $~~~$  0.47508052337209  $~~~$  1.86216790536171 </br>\n",
    "H    $~~~~~$    1.75428367438544  $~~~$  0.63637236685189  $~~~$  2.73283384502543 </br>\n",
    "H    $~~~~~$    1.39549826682973  $~~~$  1.34971325441160  $~~~$  1.39534117990936 </br>\n",
    "O    $~~~~~$    1.34486902387060  $~~~$  2.68669110647591  $~~~$  0.41214803245629 </br>\n",
    "H    $~~~~~$    1.71731567397097  $~~~$  2.30907836219124  $~~~$ -0.41677149677762 </br>\n",
    "H    $~~~~~$    0.47187877834489  $~~~$  3.01687474618809  $~~~$  0.18984991489869 </br>\n",
    "O    $~~~~~$    2.14004917691883  $~~~$  1.26284234041995  $~~~$ -1.72480591317545 </br>\n",
    "H    $~~~~~$    2.62134584522111  $~~~$  0.56485487037962  $~~~$ -1.23969806978062 </br>\n",
    "H    $~~~~~$    1.40266719753673  $~~~$  0.82485404829678  $~~~$ -2.15680622354843 </br>"
   ]
  },
  {
   "cell_type": "code",
   "execution_count": 107,
   "metadata": {},
   "outputs": [
    {
     "name": "stdout",
     "output_type": "stream",
     "text": [
      "Center of mass: [-0.04072005485   0.075443830234  0.043744512318]\n"
     ]
    },
    {
     "data": {
      "text/plain": [
       "'x-coordinates:'"
      ]
     },
     "metadata": {},
     "output_type": "display_data"
    },
    {
     "data": {
      "text/plain": [
       "array([-1.128269385488, -2.307123512803, -0.617507219855, -0.25209239468 ,\n",
       "       -1.849266465267,  2.805502301619,  3.080897563504,  3.055859015522,\n",
       "        1.752850885331,  3.420109627386,  2.514164458195,  1.428211581447,\n",
       "        1.795003729236,  1.43621832168 ,  1.385589078721,  1.758035728821,\n",
       "        0.512598833195,  2.180769231769,  2.662065900071,  1.443387252387])"
      ]
     },
     "metadata": {},
     "output_type": "display_data"
    },
    {
     "data": {
      "text/plain": [
       "array([-0.223498115174, -1.364728910913, -0.76674237947 , -0.171684155502,\n",
       "        1.38899198773 , -2.150039642401, -2.7228324739  , -0.776947481542,\n",
       "       -2.3392844003  , -2.481159515366, -0.449084658372,  0.399636693138,\n",
       "        0.560928536618,  1.274269424177,  2.611247276242,  2.233634531957,\n",
       "        2.941430915954,  1.187398510186,  0.489411040145,  0.749410218063])"
      ]
     },
     "metadata": {},
     "output_type": "display_data"
    },
    {
     "data": {
      "text/plain": [
       "array([ 0.283707343106,  0.955558563588, -1.318268247292,  0.943153600361,\n",
       "        0.161769457271, -0.242602761657,  0.647534066255, -0.064530357201,\n",
       "       -0.475879620487, -1.078684620774,  0.683625169538,  1.818423393044,\n",
       "        2.689089332707,  1.351596667591,  0.368403520138, -0.460516009096,\n",
       "        0.14610540258 , -1.768550425494, -1.283442582099, -2.200550735867])"
      ]
     },
     "metadata": {},
     "output_type": "display_data"
    }
   ],
   "source": [
    "# Array containing the atom types\n",
    "elements = ['C','Cl', 'Cl','H', 'Cl', 'C', 'H', 'O', 'H', 'H', 'H', 'O', 'H', 'H', 'O', 'H', 'H', 'O', 'H', 'H']\n",
    "nr_atoms = len(elements)\n",
    "\n",
    "# Array containing the masses of the atoms\n",
    "masses = np.array([element_mass(element, 0.0) for element in elements])\n",
    "\n",
    "# matrix containing the coordinates of the atoms\n",
    "coordinates = np.array(\n",
    "[[-1.16898944033827,   -0.14805428493990,    0.32745185542377],\n",
    "[ -2.34784356765353,   -1.28928508067893,    0.99930307590600],\n",
    "[ -0.65822727470503,   -0.69129854923607,   -1.27452373497366],\n",
    "[ -0.29281244953045,   -0.09624032526792,    0.98689811267938],\n",
    "[ -1.88998652011726,    1.46443581796416,    0.20551396958876],\n",
    "[  2.76478224676894,   -2.07459581216681,   -0.19885824933856],\n",
    "[  3.04017750865408,   -2.64738864366591,    0.69127857857294],\n",
    "[  3.01513896067189,   -0.70150365130769,   -0.02078584488278],\n",
    "[  1.71213083048118,   -2.26384057006596,   -0.43213510816834],\n",
    "[  3.37938957253550,   -2.40571568513168,   -1.03494010845601],\n",
    "[  2.47344440334455,   -0.37364082813805,    0.72736968185670],\n",
    "[  1.38749152659684,    0.47508052337209,    1.86216790536171],\n",
    "[  1.75428367438544,    0.63637236685189,    2.73283384502543],\n",
    "[  1.39549826682973,    1.34971325441160,    1.39534117990936],\n",
    "[  1.34486902387060,    2.68669110647591,    0.41214803245629],\n",
    "[  1.71731567397097,    2.30907836219124,   -0.41677149677762],\n",
    "[  0.47187877834489,    3.01687474618809,    0.18984991489869],\n",
    "[  2.14004917691883,    1.26284234041995,   -1.72480591317545],\n",
    "[  2.62134584522111,    0.56485487037962,   -1.23969806978062],\n",
    "[  1.40266719753673,    0.82485404829678,   -2.15680622354843]])\n",
    "\n",
    "# Calculate the center of mass\n",
    "com = center_of_mass(nr_atoms, masses, coordinates)\n",
    "print('Center of mass:', com)\n",
    "\n",
    "# Set the center of mass as the origin of the coordinate system\n",
    "coordinates = com_origin(nr_atoms, coordinates, com)\n",
    "x = coordinates[:,0]\n",
    "y = coordinates[:,1]\n",
    "z = coordinates[:,2]\n",
    "np.set_printoptions(precision=12)\n",
    "display('x-coordinates:', x, y, z)"
   ]
  },
  {
   "cell_type": "markdown",
   "metadata": {},
   "source": [
    "### Calculation of the inertia tensor"
   ]
  },
  {
   "cell_type": "markdown",
   "metadata": {},
   "source": [
    "Inertia tensor for a rigid body is given by the following expression: </p>\n",
    "$ I = \\begin{bmatrix} I_{xx} & I_{xy} & I_{xz} \\\\ I_{yx} & I_{yy} & I_{yz} \\\\ I_{zx} & I_{zy} & I_{zz} \\end{bmatrix}$ </p>\n",
    "where the elements of the tensor are given by: </p>\n",
    "$ I_{xx} = \\sum_{i=1}^{n} m_i (y_i^2 + z_i^2) $ </p>\n",
    "$ I_{yy} = \\sum_{i=1}^{n} m_i (x_i^2 + z_i^2) $ </p>\n",
    "$ I_{zz} = \\sum_{i=1}^{n} m_i (x_i^2 + y_i^2) $ </p>\n",
    "$ I_{xy} = I_{yx} = - \\sum_{i=1}^{n} m_i x_i y_i $ </p>\n",
    "$ I_{xz} = I_{zx} = - \\sum_{i=1}^{n} m_i x_i z_i $ </p>\n",
    "$ I_{yz} = I_{zy} = - \\sum_{i=1}^{n} m_i y_i z_i $ </p>\n",
    "where $m_i$ is the mass of the atom, and $x_i$, $y_i$ and $z_i$ are the coordinates of the atom.    "
   ]
  },
  {
   "cell_type": "code",
   "execution_count": 108,
   "metadata": {},
   "outputs": [],
   "source": [
    "# Calculate the moment of inertia tensor for one cluster\n",
    "def moment_of_inertia(nr_atoms, masses, coordinates):\n",
    "    I = np.zeros((3,3))\n",
    "    for i in range(nr_atoms):\n",
    "        I[0,0] += masses[i]*(coordinates[i,1]**2 + coordinates[i,2]**2)\n",
    "        I[1,1] += masses[i]*(coordinates[i,0]**2 + coordinates[i,2]**2)\n",
    "        I[2,2] += masses[i]*(coordinates[i,0]**2 + coordinates[i,1]**2)\n",
    "        I[0,1] -= masses[i]*coordinates[i,0]*coordinates[i,1]\n",
    "        I[0,2] -= masses[i]*coordinates[i,0]*coordinates[i,2]\n",
    "        I[1,2] -= masses[i]*coordinates[i,1]*coordinates[i,2]\n",
    "        \n",
    "    I[1,0] = I[0,1]\n",
    "    I[2,0] = I[0,2]\n",
    "    I[2,1] = I[1,2]\n",
    "    \n",
    "    return I"
   ]
  },
  {
   "cell_type": "markdown",
   "metadata": {},
   "source": [
    "#### Tests"
   ]
  },
  {
   "cell_type": "code",
   "execution_count": 109,
   "metadata": {},
   "outputs": [
    {
     "data": {
      "text/plain": [
       "'Moment of inertia tensor:'"
      ]
     },
     "metadata": {},
     "output_type": "display_data"
    },
    {
     "data": {
      "text/plain": [
       "array([[ 6.120516601215e+02, -2.689910123451e+01,  8.868159766987e+01],\n",
       "       [-2.689910123451e+01,  9.918256337610e+02,  7.800215517093e-01],\n",
       "       [ 8.868159766987e+01,  7.800215517093e-01,  1.162148369943e+03]])"
      ]
     },
     "metadata": {},
     "output_type": "display_data"
    }
   ],
   "source": [
    "I = moment_of_inertia(nr_atoms, masses, coordinates)\n",
    "np.set_printoptions(precision=12)\n",
    "display('Moment of inertia tensor:', I)"
   ]
  },
  {
   "cell_type": "markdown",
   "metadata": {},
   "source": [
    "### Diagonalization of symmetric 3x3 matrices (Direct calculation)"
   ]
  },
  {
   "cell_type": "markdown",
   "metadata": {},
   "source": [
    "Starting with a symmetric 3x3 matrix.\n",
    "\n",
    "$ \\text{A} = \\begin{pmatrix} a_{11} & a_{12} & a_{13} \\\\ a_{21} & a_{22} & a_{23} \\\\ a_{31} & a_{32} & a_{33} \\end{pmatrix}$, </p>\n",
    "$ \\det(\\text{A}) = a_{11}a_{22}a_{33} + 2a_{12}a_{23}a_{13} - a_{13}^2a_{22} - a_{23}^2a_{11} - a_{12}^2a_{33}$, </p>\n",
    "$ \\text{tr}(\\text{A}^2) = a_{11}^2+a_{22}^2+a_{33}^2 + 2 (a_{12}^2+a_{23}^2+a_{13}^2)$, </p>\n",
    "$ \\text{tr}^2(\\text{A}) = a_{11}^2+a_{22}^2+a_{33}^2 + 2 ( a_{11}a_{33}+ a_{11}a_{22}+ a_{22}a_{33})$ </p></br>\n",
    "\n",
    "For the calculation of the eigenvalues, the characteristic polynomial is needed. </p>\n",
    "$ \\text{A} \\nu = \\alpha \\nu $ </p>\n",
    "$\\small p_{\\text{A}}(\\alpha) = \\det(\\text{A} - \\alpha I) = -\\alpha^3 + \\alpha^2 (a_{11}+a_{22}+a_{33}) + \\alpha (a_{12}^2+a_{23}^2+a_{13}^2 - a_{11}a_{33}- a_{11}a_{22}- a_{22}a_{33}) + a_{11}a_{22}a_{33} + 2a_{12}a_{23}a_{13} - a_{13}^2a_{22} - a_{23}^2a_{11} - a_{12}^2a_{33}$ </p>\n",
    "$ 0 = \\alpha^3 - \\text{tr}(\\text{A}) \\alpha^2 - \\frac{1}{2} (\\text{tr}(\\text{A}^2)-\\text{tr}^2(\\text{A})) - \\det(\\text{A})$ </p> </br>\n",
    "    \n",
    "This is solved via the trigonometric solution. </p>\n",
    "$ \\text{B} \\mu = \\beta \\mu $ </p>\n",
    "$ \\text{A} = p \\text{B} + q \\text{I}~~~~$ with I being the identity matrix.</p></br>\n",
    "A and B have the same eigenvalues if: </p>\n",
    "$ \\alpha = p \\beta + q$ </p></br>\n",
    "$ q = \\text{tr}(\\text{A})/3~~~~$ and $~~~~p = \\sqrt{\\frac{\\text{tr}(\\text{A}-q\\text{I})^2}{6}}$ </p> \n",
    "$ \\det(\\beta \\text{I} - B) = \\beta^3 -3\\beta -\\det(B)$ </p></br>\n",
    "\n",
    "Substitution and simplification:</p>\n",
    "$\\beta = 2\\cos(\\theta)$ </p>\n",
    "$cos(3\\theta) = 4\\cos^3(\\theta) - 3\\cos(\\theta)$ </p>\n",
    "Leads to: </p>\n",
    "$ \\cos(3\\theta) = \\det(B)/2 $ </p></br>\n",
    "\n",
    "Thus the eigenvalues are: </p>\n",
    "$ \\beta = 2 \\cos(\\frac{1}{3} \\arccos(\\det(B)/2)+\\frac{2k\\pi}{3}) $, $~~~~k = 0,1,2$\n"
   ]
  },
  {
   "cell_type": "code",
   "execution_count": 110,
   "metadata": {},
   "outputs": [],
   "source": [
    "# Calculates the eigenvalues of a 3x3 matrix\n",
    "def diagonalization(a, eig):\n",
    "   # a     : input     - 3x3 matrix\n",
    "   # eig   : output    - array of the three eigenvalues\n",
    "    \n",
    "   p1 = a[0][1]**2 + a[0][2]**2 + a[1][2]**2\n",
    "   if (p1 == 0):\n",
    "      # The matrix is already in its diagonal form\n",
    "      eig = np.diag(a)\n",
    "   else:\n",
    "      q = np.trace(a)/3\n",
    "      p2 = (a[0][0]-q)**2 + (a[1][1]-q)**2 + (a[2][2]-q)**2 + 2*p1\n",
    "      p = np.sqrt(p2/6)\n",
    "      b = (a - q*np.identity(3))/p\n",
    "      r = np.linalg.det(b)/2 # determinant\n",
    "      print(r)\n",
    "\n",
    "   # In exact arithmetic for a symmetric matrix  -1 <= r <= 1\n",
    "   # but computation error can leave it slightly outside this range.\n",
    "   if (r <= -1):\n",
    "      phi = pi/3\n",
    "   elif (r >= 1):\n",
    "      phi = 0\n",
    "   else:\n",
    "      phi = np.arccos(r)/3\n",
    "\n",
    "   # Calculation of the eigenvalues\n",
    "      \n",
    "   # the eigenvalues satisfy eig3 <= eig2 <= eig1\n",
    "   eig[0] = q + 2 * p * np.cos(phi)\n",
    "   eig[2] = q + 2 * p * np.cos(phi + (2*pi/3))\n",
    "   eig[1] = 3 * q - eig[0] - eig[2]     # since trace(A) = eig1 + eig2 + eig3\n",
    "\n",
    "   return(eig)\n"
   ]
  },
  {
   "cell_type": "markdown",
   "metadata": {},
   "source": [
    "#### Check with an external python module"
   ]
  },
  {
   "cell_type": "code",
   "execution_count": 111,
   "metadata": {},
   "outputs": [],
   "source": [
    "def diagonalization_sympy(a, eig):\n",
    "    \n",
    "   a = sp.Matrix(a)\n",
    "   eig = a.eigenvals()\n",
    "   \n",
    "   # sort eigenvalues from biggest to smallest\n",
    "   eig = sorted(eig, reverse=True)\n",
    "\n",
    "   return(eig)"
   ]
  },
  {
   "cell_type": "markdown",
   "metadata": {},
   "source": [
    "#### Tests"
   ]
  },
  {
   "cell_type": "markdown",
   "metadata": {},
   "source": [
    "Test matrix </p>\n",
    "$ \\text{A} = \\begin{pmatrix} 2 & 2 & -1 \\\\ 2 & 1 & 0 \\\\ -1 & 0 & 4 \\end{pmatrix}~~~~~~~~~~~~~$ Eigenvalues: $2 - \\sqrt{7},~~ 3,~~ 2 + \\sqrt{7}$"
   ]
  },
  {
   "cell_type": "code",
   "execution_count": 112,
   "metadata": {},
   "outputs": [
    {
     "name": "stdout",
     "output_type": "stream",
     "text": [
      "-0.6008383824567203\n",
      "Direct method :  [ 4.645751311065  3.             -0.645751311065]\n",
      "sympy         :  [2 + sqrt(7), 3, 2 - sqrt(7)]\n",
      "\n",
      "Eigenvalue  1  is the same\n",
      "Eigenvalue  2  is the same\n",
      "Eigenvalue  3  is the same\n"
     ]
    }
   ],
   "source": [
    "# Matrix and initial eigenvalues\n",
    "a = [[2,2,-1],[2,1,0],[-1,0,4]]\n",
    "eig = np.zeros(3)\n",
    "\n",
    "# Calculation with direct method\n",
    "direct = diagonalization(a, eig)\n",
    "print('Direct method : ',direct)\n",
    "\n",
    "# Calculation with sympy\n",
    "sympy = diagonalization_sympy(a, eig)\n",
    "print('sympy         : ',sympy)\n",
    "print()\n",
    "\n",
    "# Check wether differences are smaller than 10^-10\n",
    "diff = np.abs(direct - sympy)\n",
    "for i in range(3):\n",
    "    if (diff[i] < 1.0e-10):\n",
    "        print('Eigenvalue ',i+1,' is the same')\n",
    "    else:\n",
    "        print('Eigenvalue ',i+1,' is different')"
   ]
  },
  {
   "cell_type": "code",
   "execution_count": 117,
   "metadata": {},
   "outputs": [
    {
     "name": "stdout",
     "output_type": "stream",
     "text": [
      "-0.5905325342934504\n",
      "Direct method :  [1176.154814207935  993.563899202036  596.306950415176]\n",
      "sympy         :  [1176.15481420793, 993.563899202036, 596.306950415176]\n",
      "\n",
      "Eigenvalue  1  is the same\n",
      "Eigenvalue  2  is the same\n",
      "Eigenvalue  3  is the same\n"
     ]
    }
   ],
   "source": [
    "# Direct method\n",
    "eig = np.zeros(3)\n",
    "direct = diagonalization(I, eig)\n",
    "print('Direct method : ',direct)\n",
    "\n",
    "# Calculation with sympy\n",
    "sympy = diagonalization_sympy(I, eig)\n",
    "print('sympy         : ',sympy)\n",
    "print()\n",
    "\n",
    "# Check wether differences are smaller than 10^-10\n",
    "diff = np.abs(direct - sympy)\n",
    "for i in range(3):\n",
    "    if (diff[i] < 1.0e-10):\n",
    "        print('Eigenvalue ',i+1,' is the same')\n",
    "    else:\n",
    "        print('Eigenvalue ',i+1,' is different')"
   ]
  },
  {
   "cell_type": "code",
   "execution_count": null,
   "metadata": {},
   "outputs": [],
   "source": []
  }
 ],
 "metadata": {
  "kernelspec": {
   "display_name": "base",
   "language": "python",
   "name": "python3"
  },
  "language_info": {
   "codemirror_mode": {
    "name": "ipython",
    "version": 3
   },
   "file_extension": ".py",
   "mimetype": "text/x-python",
   "name": "python",
   "nbconvert_exporter": "python",
   "pygments_lexer": "ipython3",
   "version": "3.10.9"
  }
 },
 "nbformat": 4,
 "nbformat_minor": 2
}
