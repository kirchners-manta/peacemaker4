{
 "cells": [
  {
   "cell_type": "code",
   "execution_count": 51,
   "metadata": {},
   "outputs": [],
   "source": [
    "import numpy as np\n",
    "import sympy as sp"
   ]
  },
  {
   "cell_type": "markdown",
   "metadata": {},
   "source": [
    "#### Constants (Peacemaker)"
   ]
  },
  {
   "cell_type": "code",
   "execution_count": 52,
   "metadata": {},
   "outputs": [],
   "source": [
    "pi = 4.0 * np.arctan(1.0)\n",
    "planck = 6.62606957e-34         # J s\n",
    "avogadro = 6.0221413e23\n",
    "kb = 1.3806488e-23              # J K^-1\n",
    "speed_of_light = 299792458.0    # m s^-1\n",
    "amu = 1.660538921e-27           # kg\n",
    "gas_constant = avogadro*kb\n",
    "hbar = planck/(2.0*pi)\n",
    "global_eps = 1.0e-10"
   ]
  },
  {
   "cell_type": "markdown",
   "metadata": {},
   "source": [
    "# Moment of inertia - process_coordinate_record : cluster.f90"
   ]
  },
  {
   "cell_type": "markdown",
   "metadata": {},
   "source": [
    "The subroutine calculates the moments of inertia for a cluster.\n",
    "For that, first the total mass of the cluster is calculated. \n",
    "Using the coordinates of the atoms each, the center of mass is determined and set as origin.\n",
    "Then the inertia tensor is calculated.\n",
    "This tensor is diagonalized to obtain the eigenvalues which correspond to the moments of inertia in x, y and z direction of the corresponding cluster.\n",
    "The moments of inertia are saved, and the clusters are assigned as atom, linear or nonlinear"
   ]
  },
  {
   "cell_type": "markdown",
   "metadata": {},
   "source": [
    "### Calculation of the total mass"
   ]
  },
  {
   "cell_type": "code",
   "execution_count": 53,
   "metadata": {},
   "outputs": [],
   "source": [
    "# Provide masses for elements\n",
    "def element_mass(element, mass):\n",
    "    if element == 'H':\n",
    "        mass = 1.008\n",
    "    elif element == 'C':\n",
    "        mass = 12.01\n",
    "    elif element == 'O':\n",
    "        mass = 16.00\n",
    "    elif element == 'Cl':\n",
    "        mass = 35.45\n",
    "        \n",
    "    return mass   "
   ]
  },
  {
   "cell_type": "code",
   "execution_count": 54,
   "metadata": {},
   "outputs": [],
   "source": [
    "# Provided is a one array with masses of the atoms in the cluster\n",
    "# and a second array with the coordinates of the atoms in the cluster\n",
    "# The function calculates the center of mass of the cluster\n",
    "\n",
    "def center_of_mass(nr_atoms, masses, coordinates):\n",
    "    com = np.zeros(3)\n",
    "    for i in range(nr_atoms):\n",
    "        com += masses[i]*coordinates[i]\n",
    "        \n",
    "        \n",
    "    com /= np.sum(masses)\n",
    "    \n",
    "    return com"
   ]
  },
  {
   "cell_type": "code",
   "execution_count": 55,
   "metadata": {},
   "outputs": [],
   "source": [
    "# Set com as the origin of the coordinate system\n",
    "def com_origin(nr_atoms, coordinates, com):\n",
    "    for i in range(nr_atoms):\n",
    "        coordinates[i] -= com\n",
    "        \n",
    "    return coordinates"
   ]
  },
  {
   "cell_type": "markdown",
   "metadata": {},
   "source": [
    "#### Tests"
   ]
  },
  {
   "cell_type": "markdown",
   "metadata": {},
   "source": [
    "Test - cluster (c1m1w3-7.xyz)</p>\n",
    "20   $~~~~~$     $\\textcolor{darkred}{\\text{number of atoms}}$</br>\n",
    "-39.771584979232   $~~~~~$   $\\textcolor{darkred}{\\text{energy (ignored)}}$ </br>\n",
    "C    $~~~~~$   -1.16898944033827  $~~~$ -0.14805428493990  $~~~$  0.32745185542377        $~~~~~$   $\\textcolor{darkred}{\\text{atom type, coordinates}}$</br>\n",
    "Cl   $~~~~~$   -2.34784356765353  $~~~$ -1.28928508067893  $~~~$  0.99930307590600 </br>\n",
    "Cl   $~~~~~$   -0.65822727470503  $~~~$ -0.69129854923607  $~~~$ -1.27452373497366 </br>\n",
    "H    $~~~~~$   -0.29281244953045  $~~~$ -0.09624032526792  $~~~$  0.98689811267938 </br>\n",
    "Cl   $~~~~~$   -1.88998652011726  $~~~$  1.46443581796416  $~~~$  0.20551396958876 </br>\n",
    "C    $~~~~~$    2.76478224676894  $~~~$ -2.07459581216681  $~~~$ -0.19885824933856 </br>\n",
    "H    $~~~~~$    3.04017750865408  $~~~$ -2.64738864366591  $~~~$  0.69127857857294 </br>\n",
    "O    $~~~~~$    3.01513896067189  $~~~$ -0.70150365130769  $~~~$ -0.02078584488278 </br>\n",
    "H    $~~~~~$    1.71213083048118  $~~~$ -2.26384057006596  $~~~$ -0.43213510816834 </br>\n",
    "H    $~~~~~$    3.37938957253550  $~~~$ -2.40571568513168  $~~~$ -1.03494010845601 </br>\n",
    "H    $~~~~~$    2.47344440334455  $~~~$ -0.37364082813805  $~~~$  0.72736968185670 </br>\n",
    "O    $~~~~~$    1.38749152659684  $~~~$  0.47508052337209  $~~~$  1.86216790536171 </br>\n",
    "H    $~~~~~$    1.75428367438544  $~~~$  0.63637236685189  $~~~$  2.73283384502543 </br>\n",
    "H    $~~~~~$    1.39549826682973  $~~~$  1.34971325441160  $~~~$  1.39534117990936 </br>\n",
    "O    $~~~~~$    1.34486902387060  $~~~$  2.68669110647591  $~~~$  0.41214803245629 </br>\n",
    "H    $~~~~~$    1.71731567397097  $~~~$  2.30907836219124  $~~~$ -0.41677149677762 </br>\n",
    "H    $~~~~~$    0.47187877834489  $~~~$  3.01687474618809  $~~~$  0.18984991489869 </br>\n",
    "O    $~~~~~$    2.14004917691883  $~~~$  1.26284234041995  $~~~$ -1.72480591317545 </br>\n",
    "H    $~~~~~$    2.62134584522111  $~~~$  0.56485487037962  $~~~$ -1.23969806978062 </br>\n",
    "H    $~~~~~$    1.40266719753673  $~~~$  0.82485404829678  $~~~$ -2.15680622354843 </br>"
   ]
  },
  {
   "cell_type": "code",
   "execution_count": 64,
   "metadata": {},
   "outputs": [
    {
     "name": "stdout",
     "output_type": "stream",
     "text": [
      "Center of mass: [-0.04072005  0.07544383  0.04374451]\n"
     ]
    },
    {
     "data": {
      "text/plain": [
       "'x-coordinates:'"
      ]
     },
     "metadata": {},
     "output_type": "display_data"
    },
    {
     "data": {
      "text/plain": [
       "array([-1.12826939, -2.30712351, -0.61750722, -0.25209239, -1.84926647,\n",
       "        2.8055023 ,  3.08089756,  3.05585902,  1.75285089,  3.42010963,\n",
       "        2.51416446,  1.42821158,  1.79500373,  1.43621832,  1.38558908,\n",
       "        1.75803573,  0.51259883,  2.18076923,  2.6620659 ,  1.44338725])"
      ]
     },
     "metadata": {},
     "output_type": "display_data"
    },
    {
     "data": {
      "text/plain": [
       "array([-0.22349812, -1.36472891, -0.76674238, -0.17168416,  1.38899199,\n",
       "       -2.15003964, -2.72283247, -0.77694748, -2.3392844 , -2.48115952,\n",
       "       -0.44908466,  0.39963669,  0.56092854,  1.27426942,  2.61124728,\n",
       "        2.23363453,  2.94143092,  1.18739851,  0.48941104,  0.74941022])"
      ]
     },
     "metadata": {},
     "output_type": "display_data"
    },
    {
     "data": {
      "text/plain": [
       "array([ 0.28370734,  0.95555856, -1.31826825,  0.9431536 ,  0.16176946,\n",
       "       -0.24260276,  0.64753407, -0.06453036, -0.47587962, -1.07868462,\n",
       "        0.68362517,  1.81842339,  2.68908933,  1.35159667,  0.36840352,\n",
       "       -0.46051601,  0.1461054 , -1.76855043, -1.28344258, -2.20055074])"
      ]
     },
     "metadata": {},
     "output_type": "display_data"
    }
   ],
   "source": [
    "# Array containing the atom types\n",
    "elements = ['C','Cl', 'Cl','H', 'Cl', 'C', 'H', 'O', 'H', 'H', 'H', 'O', 'H', 'H', 'O', 'H', 'H', 'O', 'H', 'H']\n",
    "nr_atoms = len(elements)\n",
    "\n",
    "# Array containing the masses of the atoms\n",
    "masses = np.array([element_mass(element, 0.0) for element in elements])\n",
    "\n",
    "# matrix containing the coordinates of the atoms\n",
    "coordinates = np.array(\n",
    "[[-1.16898944033827,   -0.14805428493990,    0.32745185542377],\n",
    "[ -2.34784356765353,   -1.28928508067893,    0.99930307590600],\n",
    "[ -0.65822727470503,   -0.69129854923607,   -1.27452373497366],\n",
    "[ -0.29281244953045,   -0.09624032526792,    0.98689811267938],\n",
    "[ -1.88998652011726,    1.46443581796416,    0.20551396958876],\n",
    "[  2.76478224676894,   -2.07459581216681,   -0.19885824933856],\n",
    "[  3.04017750865408,   -2.64738864366591,    0.69127857857294],\n",
    "[  3.01513896067189,   -0.70150365130769,   -0.02078584488278],\n",
    "[  1.71213083048118,   -2.26384057006596,   -0.43213510816834],\n",
    "[  3.37938957253550,   -2.40571568513168,   -1.03494010845601],\n",
    "[  2.47344440334455,   -0.37364082813805,    0.72736968185670],\n",
    "[  1.38749152659684,    0.47508052337209,    1.86216790536171],\n",
    "[  1.75428367438544,    0.63637236685189,    2.73283384502543],\n",
    "[  1.39549826682973,    1.34971325441160,    1.39534117990936],\n",
    "[  1.34486902387060,    2.68669110647591,    0.41214803245629],\n",
    "[  1.71731567397097,    2.30907836219124,   -0.41677149677762],\n",
    "[  0.47187877834489,    3.01687474618809,    0.18984991489869],\n",
    "[  2.14004917691883,    1.26284234041995,   -1.72480591317545],\n",
    "[  2.62134584522111,    0.56485487037962,   -1.23969806978062],\n",
    "[  1.40266719753673,    0.82485404829678,   -2.15680622354843]])\n",
    "\n",
    "# Calculate the center of mass\n",
    "com = center_of_mass(nr_atoms, masses, coordinates)\n",
    "print('Center of mass:', com)\n",
    "\n",
    "# Set the center of mass as the origin of the coordinate system\n",
    "coordinates = com_origin(nr_atoms, coordinates, com)\n",
    "x = coordinates[:,0]\n",
    "y = coordinates[:,1]\n",
    "z = coordinates[:,2]\n",
    "display('x-coordinates:', x, y, z)"
   ]
  },
  {
   "cell_type": "markdown",
   "metadata": {},
   "source": [
    "### Diagonalization of symmetric 3x3 matrices (Direct calculation)"
   ]
  },
  {
   "cell_type": "markdown",
   "metadata": {},
   "source": [
    "Starting with a symmetric 3x3 matrix.\n",
    "\n",
    "$ \\text{A} = \\begin{pmatrix} a_{11} & a_{12} & a_{13} \\\\ a_{21} & a_{22} & a_{23} \\\\ a_{31} & a_{32} & a_{33} \\end{pmatrix}$, </p>\n",
    "$ \\det(\\text{A}) = a_{11}a_{22}a_{33} + 2a_{12}a_{23}a_{13} - a_{13}^2a_{22} - a_{23}^2a_{11} - a_{12}^2a_{33}$, </p>\n",
    "$ \\text{tr}(\\text{A}^2) = a_{11}^2+a_{22}^2+a_{33}^2 + 2 (a_{12}^2+a_{23}^2+a_{13}^2)$, </p>\n",
    "$ \\text{tr}^2(\\text{A}) = a_{11}^2+a_{22}^2+a_{33}^2 + 2 ( a_{11}a_{33}+ a_{11}a_{22}+ a_{22}a_{33})$ </p></br>\n",
    "\n",
    "For the calculation of the eigenvalues, the characteristic polynomial is needed. </p>\n",
    "$ \\text{A} \\nu = \\alpha \\nu $ </p>\n",
    "$\\small p_{\\text{A}}(\\alpha) = \\det(\\text{A} - \\alpha I) = -\\alpha^3 + \\alpha^2 (a_{11}+a_{22}+a_{33}) + \\alpha (a_{12}^2+a_{23}^2+a_{13}^2 - a_{11}a_{33}- a_{11}a_{22}- a_{22}a_{33}) + a_{11}a_{22}a_{33} + 2a_{12}a_{23}a_{13} - a_{13}^2a_{22} - a_{23}^2a_{11} - a_{12}^2a_{33}$ </p>\n",
    "$ 0 = \\alpha^3 - \\text{tr}(\\text{A}) \\alpha^2 - \\frac{1}{2} (\\text{tr}(\\text{A}^2)-\\text{tr}^2(\\text{A})) - \\det(\\text{A})$ </p> </br>\n",
    "    \n",
    "This is solved via the trigonometric solution. </p>\n",
    "$ \\text{B} \\mu = \\beta \\mu $ </p>\n",
    "$ \\text{A} = p \\text{B} + q \\text{I}~~~~$ with I being the identity matrix.</p></br>\n",
    "A and B have the same eigenvalues if: </p>\n",
    "$ \\alpha = p \\beta + q$ </p></br>\n",
    "$ q = \\text{tr}(\\text{A})/3~~~~$ and $~~~~p = \\sqrt{\\frac{\\text{tr}(\\text{A}-q\\text{I})^2}{6}}$ </p> \n",
    "$ \\det(\\beta \\text{I} - B) = \\beta^3 -3\\beta -\\det(B)$ </p></br>\n",
    "\n",
    "Substitution and simplification:</p>\n",
    "$\\beta = 2\\cos(\\theta)$ </p>\n",
    "$cos(3\\theta) = 4\\cos^3(\\theta) - 3\\cos(\\theta)$ </p>\n",
    "Leads to: </p>\n",
    "$ \\cos(3\\theta) = \\det(B)/2 $ </p></br>\n",
    "\n",
    "Thus the eigenvalues are: </p>\n",
    "$ \\beta = 2 \\cos(\\frac{1}{3} \\arccos(\\det(B)/2)+\\frac{2k\\pi}{3}) $, $~~~~k = 0,1,2$\n"
   ]
  },
  {
   "cell_type": "code",
   "execution_count": 57,
   "metadata": {},
   "outputs": [],
   "source": [
    "# Calculates the eigenvalues of a 3x3 matrix\n",
    "def diagonalization(a, eig):\n",
    "   # a     : input     - 3x3 matrix\n",
    "   # eig   : output    - array of the three eigenvalues\n",
    "    \n",
    "   p1 = a[0][1]**2 + a[0][2]**2 + a[1][2]**2\n",
    "   if (p1 == 0):\n",
    "      # The matrix is already in its diagonal form\n",
    "      eig = np.diag(a)\n",
    "   else:\n",
    "      q = np.trace(a)/3\n",
    "      p2 = (a[0][0]-q)**2 + (a[1][1]-q)**2 + (a[2][2]-q)**2 + 2*p1\n",
    "      p = np.sqrt(p2/6)\n",
    "      b = (a - q*np.identity(3))/p\n",
    "      r = np.linalg.det(b)/2 # determinant\n",
    "      print(r)\n",
    "\n",
    "   # In exact arithmetic for a symmetric matrix  -1 <= r <= 1\n",
    "   # but computation error can leave it slightly outside this range.\n",
    "   if (r <= -1):\n",
    "      phi = pi/3\n",
    "   elif (r >= 1):\n",
    "      phi = 0\n",
    "   else:\n",
    "      phi = np.arccos(r)/3\n",
    "\n",
    "   # Calculation of the eigenvalues\n",
    "      \n",
    "   # the eigenvalues satisfy eig3 <= eig2 <= eig1\n",
    "   eig[0] = q + 2 * p * np.cos(phi)\n",
    "   eig[2] = q + 2 * p * np.cos(phi + (2*pi/3))\n",
    "   eig[1] = 3 * q - eig[0] - eig[2]     # since trace(A) = eig1 + eig2 + eig3\n",
    "\n",
    "   return(eig)\n"
   ]
  },
  {
   "cell_type": "markdown",
   "metadata": {},
   "source": [
    "#### Check with an external python module"
   ]
  },
  {
   "cell_type": "code",
   "execution_count": 58,
   "metadata": {},
   "outputs": [],
   "source": [
    "def diagonalization_sympy(a, eig):\n",
    "    \n",
    "   a = sp.Matrix(a)\n",
    "   eig = a.eigenvals()\n",
    "   \n",
    "   # sort eigenvalues from biggest to smallest\n",
    "   eig = sorted(eig, reverse=True)\n",
    "\n",
    "   return(eig)"
   ]
  },
  {
   "cell_type": "markdown",
   "metadata": {},
   "source": [
    "#### Tests"
   ]
  },
  {
   "cell_type": "markdown",
   "metadata": {},
   "source": [
    "Test matrix </p>\n",
    "$ \\text{A} = \\begin{pmatrix} 2 & 2 & -1 \\\\ 2 & 1 & 0 \\\\ -1 & 0 & 4 \\end{pmatrix}~~~~~~~~~~~~~$ Eigenvalues: $2 - \\sqrt{7},~~ 3,~~ 2 + \\sqrt{7}$"
   ]
  },
  {
   "cell_type": "code",
   "execution_count": 59,
   "metadata": {},
   "outputs": [
    {
     "name": "stdout",
     "output_type": "stream",
     "text": [
      "-0.6008383824567203\n",
      "Direct method :  [ 4.64575131  3.         -0.64575131]\n",
      "sympy         :  [2 + sqrt(7), 3, 2 - sqrt(7)]\n",
      "\n",
      "Eigenvalue  1  is the same\n",
      "Eigenvalue  2  is the same\n",
      "Eigenvalue  3  is the same\n"
     ]
    }
   ],
   "source": [
    "# Matrix and initial eigenvalues\n",
    "a = [[2,2,-1],[2,1,0],[-1,0,4]]\n",
    "eig = np.zeros(3)\n",
    "\n",
    "# Calculation with direct method\n",
    "direct = diagonalization(a, eig)\n",
    "print('Direct method : ',direct)\n",
    "\n",
    "# Calculation with sympy\n",
    "sympy = diagonalization_sympy(a, eig)\n",
    "print('sympy         : ',sympy)\n",
    "print()\n",
    "\n",
    "# Check wether differences are smaller than 10^-10\n",
    "diff = np.abs(direct - sympy)\n",
    "for i in range(3):\n",
    "    if (diff[i] < 1.0e-10):\n",
    "        print('Eigenvalue ',i+1,' is the same')\n",
    "    else:\n",
    "        print('Eigenvalue ',i+1,' is different')"
   ]
  },
  {
   "cell_type": "code",
   "execution_count": null,
   "metadata": {},
   "outputs": [],
   "source": []
  }
 ],
 "metadata": {
  "kernelspec": {
   "display_name": "base",
   "language": "python",
   "name": "python3"
  },
  "language_info": {
   "codemirror_mode": {
    "name": "ipython",
    "version": 3
   },
   "file_extension": ".py",
   "mimetype": "text/x-python",
   "name": "python",
   "nbconvert_exporter": "python",
   "pygments_lexer": "ipython3",
   "version": "3.10.9"
  }
 },
 "nbformat": 4,
 "nbformat_minor": 2
}
