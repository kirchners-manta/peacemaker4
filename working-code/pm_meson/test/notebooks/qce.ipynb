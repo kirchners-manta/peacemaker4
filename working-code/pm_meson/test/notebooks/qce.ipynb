{
 "cells": [
  {
   "cell_type": "code",
   "execution_count": 46,
   "metadata": {},
   "outputs": [],
   "source": [
    "import numpy as np\n",
    "import sympy as sp"
   ]
  },
  {
   "cell_type": "code",
   "execution_count": 47,
   "metadata": {},
   "outputs": [],
   "source": [
    "pi = 4.0 * np.arctan(1.0)\n",
    "planck = 6.62606957e-34         # J s\n",
    "avogadro = 6.0221413e23\n",
    "kb = 1.3806488e-23              # J K^-1\n",
    "speed_of_light = 299792458.0    # m s^-1\n",
    "amu = 1.660538921e-27           # kg\n",
    "gas_constant = avogadro*kb\n",
    "hbar = planck/(2.0*pi)\n",
    "global_eps = 1.0e-10"
   ]
  },
  {
   "cell_type": "markdown",
   "metadata": {},
   "source": [
    "### Check_convergence\n",
    "This subroutine is called after each qce_iteration. \n",
    "It uses the Gibbs energy to check if the optimization has converged.\n",
    "The Gibbs energy is used since it depends on the volume and the populations of the clusters."
   ]
  },
  {
   "cell_type": "markdown",
   "metadata": {},
   "source": [
    "$$\\begin{aligned} G &= - \\frac{\\ln{Q}}{\\beta} + PV \\\\\n",
    "                    &= - \\frac{\\ln{\\frac{1}{N!}q^N}}{\\beta} + PV \\\\\n",
    "                    &= k_{\\text{B}}T \\bigg( \\ln{N!} - N \\ln{q} \\bigg) +PV \\end{aligned}$$"
   ]
  },
  {
   "cell_type": "code",
   "execution_count": 48,
   "metadata": {},
   "outputs": [],
   "source": [
    "def calc_gibbs(temp, vol, pressure, populations, lnq):\n",
    "    \n",
    "    gibbs = 0.0\n",
    "    for i in range(len(populations)):\n",
    "        gibbs += kb*temp*(sp.log(sp.factorial(populations[i])) - populations[i]*lnq[i])\n",
    "        \n",
    "    gibbs += pressure*vol\n",
    "    \n",
    "    return gibbs"
   ]
  },
  {
   "cell_type": "markdown",
   "metadata": {},
   "source": [
    "#### Tests"
   ]
  },
  {
   "cell_type": "code",
   "execution_count": 49,
   "metadata": {},
   "outputs": [
    {
     "name": "stdout",
     "output_type": "stream",
     "text": [
      "204069.414303223\n"
     ]
    }
   ],
   "source": [
    "temp = 298.15\n",
    "vol = 1.0e-3\n",
    "pressure = 1.0e5\n",
    "populations = np.array([5.2e23, 1.1e23, 3.8e23, 2.3e23])\n",
    "lnq = np.array([5.3, -5, 38.2, -1.2])\n",
    "\n",
    "gibbs = calc_gibbs(temp, vol, pressure, populations, lnq)\n",
    "print(gibbs)"
   ]
  },
  {
   "cell_type": "code",
   "execution_count": 64,
   "metadata": {},
   "outputs": [
    {
     "name": "stdout",
     "output_type": "stream",
     "text": [
      "4284429.7080558800\n"
     ]
    }
   ],
   "source": [
    "np.set_printoptions(precision=12)\n",
    "temp = 512.15\n",
    "vol = 1.0e-5\n",
    "pressure = 1.0e7\n",
    "populations = np.array([5.8e22, 1.1e20, 3.1e25, 2.3e12, 1.0e15])\n",
    "lnq = np.array([25.3, -51.0, 38.2, -1.2, 111.0])\n",
    "\n",
    "gibbs = calc_gibbs(temp, vol, pressure, populations, lnq)\n",
    "print(\"{:.10f}\".format(gibbs))"
   ]
  },
  {
   "cell_type": "markdown",
   "metadata": {},
   "source": [
    "## Calculate heat capacity at constant volume (Is this possible?)"
   ]
  },
  {
   "cell_type": "markdown",
   "metadata": {},
   "source": []
  },
  {
   "cell_type": "markdown",
   "metadata": {},
   "source": []
  }
 ],
 "metadata": {
  "kernelspec": {
   "display_name": "base",
   "language": "python",
   "name": "python3"
  },
  "language_info": {
   "codemirror_mode": {
    "name": "ipython",
    "version": 3
   },
   "file_extension": ".py",
   "mimetype": "text/x-python",
   "name": "python",
   "nbconvert_exporter": "python",
   "pygments_lexer": "ipython3",
   "version": "3.10.9"
  }
 },
 "nbformat": 4,
 "nbformat_minor": 2
}
