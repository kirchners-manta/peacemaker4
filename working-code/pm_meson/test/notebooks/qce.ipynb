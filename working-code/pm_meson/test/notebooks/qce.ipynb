{
 "cells": [
  {
   "cell_type": "code",
   "execution_count": 46,
   "metadata": {},
   "outputs": [],
   "source": [
    "import numpy as np\n",
    "import sympy as sp"
   ]
  },
  {
   "cell_type": "code",
   "execution_count": 47,
   "metadata": {},
   "outputs": [],
   "source": [
    "pi = 4.0 * np.arctan(1.0)\n",
    "planck = 6.62606957e-34         # J s\n",
    "avogadro = 6.0221413e23\n",
    "kb = 1.3806488e-23              # J K^-1\n",
    "speed_of_light = 299792458.0    # m s^-1\n",
    "amu = 1.660538921e-27           # kg\n",
    "gas_constant = avogadro*kb\n",
    "hbar = planck/(2.0*pi)\n",
    "global_eps = 1.0e-10"
   ]
  },
  {
   "cell_type": "markdown",
   "metadata": {},
   "source": [
    "### Check_convergence\n",
    "This subroutine is called after each qce_iteration. \n",
    "It uses the Gibbs energy to check if the optimization has converged.\n",
    "The Gibbs energy is used since it depends on the volume and the populations of the clusters."
   ]
  },
  {
   "cell_type": "markdown",
   "metadata": {},
   "source": [
    "$$\\begin{aligned} G &= - \\frac{\\ln{Q}}{\\beta} + PV \\\\\n",
    "                    &= - \\frac{\\ln{\\frac{1}{N!}q^N}}{\\beta} + PV \\\\\n",
    "                    &= k_{\\text{B}}T \\bigg( \\ln{N!} - N \\ln{q} \\bigg) +PV \\end{aligned}$$"
   ]
  },
  {
   "cell_type": "code",
   "execution_count": 48,
   "metadata": {},
   "outputs": [],
   "source": [
    "def calc_gibbs(temp, vol, pressure, populations, lnq):\n",
    "    \n",
    "    gibbs = 0.0\n",
    "    for i in range(len(populations)):\n",
    "        gibbs += kb*temp*(sp.log(sp.factorial(populations[i])) - populations[i]*lnq[i])\n",
    "        \n",
    "    gibbs += pressure*vol\n",
    "    \n",
    "    return gibbs"
   ]
  },
  {
   "cell_type": "markdown",
   "metadata": {},
   "source": [
    "#### Tests"
   ]
  },
  {
   "cell_type": "code",
   "execution_count": 49,
   "metadata": {},
   "outputs": [
    {
     "name": "stdout",
     "output_type": "stream",
     "text": [
      "204069.414303223\n"
     ]
    }
   ],
   "source": [
    "temp = 298.15\n",
    "vol = 1.0e-3\n",
    "pressure = 1.0e5\n",
    "populations = np.array([5.2e23, 1.1e23, 3.8e23, 2.3e23])\n",
    "lnq = np.array([5.3, -5, 38.2, -1.2])\n",
    "\n",
    "gibbs = calc_gibbs(temp, vol, pressure, populations, lnq)\n",
    "print(gibbs)"
   ]
  },
  {
   "cell_type": "code",
   "execution_count": 64,
   "metadata": {},
   "outputs": [
    {
     "name": "stdout",
     "output_type": "stream",
     "text": [
      "4284429.7080558800\n"
     ]
    }
   ],
   "source": [
    "np.set_printoptions(precision=12)\n",
    "temp = 512.15\n",
    "vol = 1.0e-5\n",
    "pressure = 1.0e7\n",
    "populations = np.array([5.8e22, 1.1e20, 3.1e25, 2.3e12, 1.0e15])\n",
    "lnq = np.array([25.3, -51.0, 38.2, -1.2, 111.0])\n",
    "\n",
    "gibbs = calc_gibbs(temp, vol, pressure, populations, lnq)\n",
    "print(\"{:.10f}\".format(gibbs))"
   ]
  },
  {
   "cell_type": "markdown",
   "metadata": {},
   "source": [
    "## Downhill simplex\n",
    "The downhill simplex is a method developed by Nelder and Mead for geometrical optimization.\n",
    "It is a numerical method to find the minimum (or maximum) of a multidimensional function.\n",
    "It is a direct search method. It calculates the value of the function and compares it to other values.\n",
    "It does not use derivatives. The search method works well but is not guaranteed to converge. (Can get stuck in flat areas) </br></br>\n",
    "The Nelder-Mead method uses a simplex which is a shape consisting of $n$+1 vertices in $n$ dimensions: </br>\n",
    "\n",
    "    * 2-D function: simplex is a triangle\n",
    "    * 3-D function: simplex is a tetrahedron\n",
    "    * ...\n",
    "\n",
    "The triangle is used for visualization. </br>\n",
    "We have a function in 2D space, $f(x,y)$. We want to find a local minimum.\n",
    "We start with three arbitrary selected points to form our simplex.\n",
    "The steps for the method are as follows:\n",
    "\n",
    "1. Sort\n",
    "2. Reflect\n",
    "3. Extend\n",
    "4. Contract\n",
    "5. Shrink\n",
    "6. Check convergence"
   ]
  },
  {
   "cell_type": "markdown",
   "metadata": {},
   "source": [
    "1. $\\textbf{Sort}$ </br>\n",
    "Evalueate the function $f$ at the three points of the simplex.\n",
    "Sort and label the three points $\\textbf{u}$, $\\textbf{v}$ and $\\textbf{w}$ according to the functions value.\n",
    "That is: </br>\n",
    "$$f(u) < f(v) < f(w)$$\n",
    "According to the function, $\\textbf{u}$ gives the smallest value, then $\\textbf{v}$ and then $\\textbf{w}$. </p>\n",
    "![Triangle](figures/triangle.png)\n"
   ]
  },
  {
   "cell_type": "markdown",
   "metadata": {},
   "source": [
    "2. $\\textbf{Reflect}$ </br>\n",
    "Reflect the worst point $\\textbf{w}$ through the centroid of the remaining points $\\textbf{u}$ and $\\textbf{v}$ to obtain a reflected point $\\textbf{r}$. </p>\n",
    "![Triangle](figures/reflect.png) </p>\n",
    "Evaluate $f(r)$.\n",
    "If the cost at the reflected point $f(r)$ is better than $f(v)$ but not better than $f(u)$, then replace $\\textbf{w}$ with $\\textbf{r}$. With this change, $\\textbf{v}$ will become the worst performing point in the simplex. \n",
    "Go to step 6 and check convergence."
   ]
  },
  {
   "cell_type": "markdown",
   "metadata": {},
   "source": [
    "3. $\\textbf{Extend}$ if $f(r)$ < $f(u)$ </br>\n",
    "If the cost at the reflected point, $f(r)$ is better than $f(u)$, then extend the reflected point $\\textbf{r}$ even further to $\\textbf{e}$ Evaluate $f(e)$. </p>\n",
    "![Extend](figures/extend.png) </br>\n",
    "If the cost at the extended point $f(e)$ is even better than the cost at the reflected point, $f(r)$, replace the worst point $\\textbf{w}$ with the extended point $\\textbf{e}$. Go to step 6 and check convergence. </p>\n",
    "If the cost at the extended point $f(e)$ is not better than the cost at the reflected point, $f(r)$, replace the worst point $\\textbf{w}$ with the reflected point $\\textbf{r}$. Go to step 6 and check convergence.\n"
   ]
  },
  {
   "cell_type": "markdown",
   "metadata": {},
   "source": [
    "4. $\\textbf{Contract}$ If the checks in step 2 or step 3 are not satisfied </br>\n",
    "The reflected point $\\textbf{r}$ is not better than $\\textbf{v}$ or $\\textbf{u}$.\n",
    "Contract the worst point $\\textbf{w}$ to the points $\\textbf{c}_1$ and $\\textbf{c}_0$ along the line of reflection.\n",
    "    * $\\textbf{c}_1$ is the inside contracted point and is 1/4 of the way from $\\textbf{w}$ to $\\textbf{r}$.\n",
    "    * $\\textbf{c}_0$ is the outside contracted point and is 3/4 of the way from $\\textbf{w}$ to $\\textbf{r}$. </p>\n",
    "![Contract](figures/contract.png) </br> \n",
    "Evaluate the function at both locations. If either of these points performs better than $f(v)$, then replace $\\textbf{w}$ with the better performing point. Go to step 6 and check convergence. "
   ]
  },
  {
   "cell_type": "markdown",
   "metadata": {},
   "source": [
    "5. $\\textbf{Shrink}$ if neither of the contracted points performs better than $\\textbf{v}$ </br>\n",
    "We shrink the simplex towards the best point $\\textbf{u}$.\n",
    "* Replace $\\textbf{w}$ with $\\textbf{w}'$ which is 1/2 of the way from $\\textbf{w}$ to $\\textbf{u}$.\n",
    "* Replace $\\textbf{v}$ with $\\textbf{v}'$ which is 1/2 of the way from $\\textbf{v}$ to $\\textbf{u}$. </p>\n",
    "![Shrink](figures/shrink.png) </br>"
   ]
  },
  {
   "cell_type": "markdown",
   "metadata": {},
   "source": [
    "6. $\\textbf{Check convergence}$ </br>\n",
    "Calculate the difference between the best and worst point in the simplex. If the difference is less than a certain tolerance, the algorithm has converged. </br>"
   ]
  },
  {
   "cell_type": "markdown",
   "metadata": {},
   "source": []
  }
 ],
 "metadata": {
  "kernelspec": {
   "display_name": "base",
   "language": "python",
   "name": "python3"
  },
  "language_info": {
   "codemirror_mode": {
    "name": "ipython",
    "version": 3
   },
   "file_extension": ".py",
   "mimetype": "text/x-python",
   "name": "python",
   "nbconvert_exporter": "python",
   "pygments_lexer": "ipython3",
   "version": "3.10.9"
  }
 },
 "nbformat": 4,
 "nbformat_minor": 2
}
