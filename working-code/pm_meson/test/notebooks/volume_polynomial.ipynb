{
 "cells": [
  {
   "cell_type": "markdown",
   "metadata": {},
   "source": [
    "# Volume Polynomial - polynomial.f90 : solve_polynomial3"
   ]
  },
  {
   "cell_type": "markdown",
   "metadata": {},
   "source": [
    "The subroutine calculates the roots of a cubic polynomial. The polynomial is given by the equation:\n",
    "$$ a_3x^3 + a_2x^2 + a_1x + a_0 = 0 $$\n",
    "The polynomial is solved in complex space. \n",
    "First the following coefficients are calculated: </p>\n",
    "$$ \\begin{aligned} A_1 &= a_2^2 - 3a_3a_1 \\\\\n",
    "                   A_2 &= 2a_2^3 - 9a_3a_2a_1 + 27a_3^2a_0 \\\\\n",
    "                   A_3 &= \\sqrt[3]{\\frac{A_2 + \\sqrt{A_2^2 - 4A_1^3}}{2}} \\end{aligned}$$\n",
    "Then the roots are calculated as:\n",
    "                $$ x_k = \\frac{-1}{3a_3} (a_2 + \\sigma^k A_3 + \\frac{A_1}{\\sigma^k A_3}) $$\n",
    "where k = 1, 2, 3 and $\\sigma = \\frac{-1 + i\\sqrt{3}}{2}$\n",
    "This algorithm is based on the Cardano's method. </p>"
   ]
  },
  {
   "cell_type": "markdown",
   "metadata": {},
   "source": [
    "#### $\\textbf{Explicit usage}$\n",
    "One of the main tasks in Peacemaker is to find the equilibrium cluster populations. \n",
    "The determination of the populations requires the partition functions. These are easy to evaluate, but they depend on the volume.\n",
    "Thus the volume polynomial needs to be solved in order to find the volume at which the partition functions are evaluated before the populations are calculated.\n",
    "BUT to obtain a volume that is consistent with the external pressure, the populations need to be known. \n",
    "Thus the system needs to be solved iteratively. (The QCE iteration Doktorarbeit von Domaros) </br>\n",
    "The volume polynomial has the form:\n",
    "$$ \\begin{aligned} 0 &= - p\\textcolor{red}{V^3} + \\bigg( \\sum_i k_{\\text{B}}T N_i + p b_{\\text{xv}} \\sum_c v_c N_c^{tot} \\bigg) \\textcolor{red}{V^2} \\\\\n",
    "                     &= - \\bigg(\\sum_c \\sum_i n_i^c N_i a_{\\text{mf}} \\bigg) \\textcolor{red}{V} \\\\\n",
    "                     &= + \\sum_c \\sum_i n_i^c N_i a_{\\text{mf}} b_{\\text{xv}} \\sum_c v_c N_c^{\\text{tot}} \\textcolor{red}{V^0} \\end{aligned}$$\n",
    "(Doktorarbeit Johannes) </br>"
   ]
  },
  {
   "cell_type": "code",
   "execution_count": 1,
   "metadata": {},
   "outputs": [],
   "source": [
    "import numpy as np\n",
    "import sympy as sp"
   ]
  },
  {
   "cell_type": "markdown",
   "metadata": {},
   "source": [
    "### Solve example polynomials"
   ]
  },
  {
   "cell_type": "markdown",
   "metadata": {},
   "source": [
    "$ f(x) = 3.4x^3 + 2.8x^2 - 5.1x + 2.1 $ </br>"
   ]
  },
  {
   "cell_type": "code",
   "execution_count": 3,
   "metadata": {},
   "outputs": [
    {
     "name": "stdout",
     "output_type": "stream",
     "text": [
      "[(-1.82856633265660,), (0.502518460445945 - 0.291979234759594*I,), (0.502518460445945 + 0.291979234759594*I,)]\n"
     ]
    }
   ],
   "source": [
    "x = sp.symbols('x')\n",
    "eqs = [3.4*x**3 +2.8*x**2 -5.1*x +2.1]\n",
    "sol = sp.solve(eqs, (x))\n",
    "print(sol)"
   ]
  },
  {
   "cell_type": "markdown",
   "metadata": {},
   "source": [
    "$ f(x) = x^3 + 2.1 $"
   ]
  },
  {
   "cell_type": "code",
   "execution_count": 4,
   "metadata": {},
   "outputs": [
    {
     "name": "stdout",
     "output_type": "stream",
     "text": [
      "[(-1.28057916498749,), (0.640289582493747 - 1.10901408843623*I,), (0.640289582493747 + 1.10901408843623*I,)]\n"
     ]
    }
   ],
   "source": [
    "x = sp.symbols('x')\n",
    "eqs = [1.0*x**3 + 2.1]\n",
    "sol = sp.solve(eqs, (x))\n",
    "print(sol)"
   ]
  },
  {
   "cell_type": "code",
   "execution_count": null,
   "metadata": {},
   "outputs": [],
   "source": []
  }
 ],
 "metadata": {
  "kernelspec": {
   "display_name": "base",
   "language": "python",
   "name": "python3"
  },
  "language_info": {
   "codemirror_mode": {
    "name": "ipython",
    "version": 3
   },
   "file_extension": ".py",
   "mimetype": "text/x-python",
   "name": "python",
   "nbconvert_exporter": "python",
   "pygments_lexer": "ipython3",
   "version": "3.10.9"
  }
 },
 "nbformat": 4,
 "nbformat_minor": 2
}
