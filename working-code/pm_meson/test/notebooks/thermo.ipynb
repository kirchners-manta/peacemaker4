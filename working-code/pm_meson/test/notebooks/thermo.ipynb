{
 "cells": [
  {
   "cell_type": "code",
   "execution_count": 121,
   "metadata": {},
   "outputs": [],
   "source": [
    "import numpy as np\n",
    "import sympy as sp"
   ]
  },
  {
   "cell_type": "code",
   "execution_count": 122,
   "metadata": {},
   "outputs": [],
   "source": [
    "pi = 4.0 * np.arctan(1.0)\n",
    "planck = 6.62606957e-34         # J s\n",
    "avogadro = 6.0221413e23\n",
    "kb = 1.3806488e-23              # J K^-1\n",
    "speed_of_light = 299792458.0    # m s^-1\n",
    "amu = 1.660538921e-27           # kg\n",
    "gas_constant = avogadro*kb\n",
    "hbar = planck/(2.0*pi)\n",
    "global_eps = 1.0e-10"
   ]
  },
  {
   "cell_type": "markdown",
   "metadata": {},
   "source": [
    "# Calculation of thermodynamic data"
   ]
  },
  {
   "cell_type": "markdown",
   "metadata": {},
   "source": [
    "This is done in the end of all qce iterations. </br>\n",
    "The partition functions, volumes and populations are calculated for each molecule at each temperature. </br>\n",
    "They are then used for the calculation of the thermodynamic data."
   ]
  },
  {
   "cell_type": "markdown",
   "metadata": {},
   "source": [
    "## calculation of the system partition function\n",
    "Attention: This subroutine is missing the summand arising from the particle </br>\n",
    "indistinguishability.\n",
    "\n",
    "$$ Q_{\\text{sys}}(T) = \\prod_{i=1}^{N_{\\text{clust}}} Q(T)^{N_{\\text{clust}}(T)} $$\n",
    "$$ \\ln{Q_{\\text{sys}}(T)} = \\sum_{i=1}^{N_{\\text{clust}}} N_{\\text{clust}}(T) \\ln{Q(T)} $$"
   ]
  },
  {
   "cell_type": "code",
   "execution_count": 123,
   "metadata": {},
   "outputs": [],
   "source": [
    "def calc_lnq_sys(ntemp, nclust, pop, ln_clust, lnq_sys):\n",
    "    # ntemp     : input     - number of temperatures at which the system is simulated\n",
    "    # nclust    : input     - number of clusters in the system\n",
    "    # pop       : input     - population of each cluster at each temperature\n",
    "    # ln_clust  : input     - ln of the population of each cluster\n",
    "    # lnq_sys   : output    - ln of the partition function of the system\n",
    "    \n",
    "    lnq_sys = np.zeros(ntemp)\n",
    "    for i in range(ntemp):\n",
    "        for j in range(nclust):\n",
    "            lnq_sys[i] += pop[i][j] * ln_clust[i][j]\n",
    "            \n",
    "    return lnq_sys"
   ]
  },
  {
   "cell_type": "markdown",
   "metadata": {},
   "source": [
    "#### Tests"
   ]
  },
  {
   "cell_type": "code",
   "execution_count": 124,
   "metadata": {},
   "outputs": [
    {
     "name": "stdout",
     "output_type": "stream",
     "text": [
      "[-1.10000000e+00 -3.33066907e-16  1.15000000e+00  2.40000000e+00\n",
      "  3.65000000e+00]\n"
     ]
    }
   ],
   "source": [
    "ntemp = 5\n",
    "nclust = 4\n",
    "\n",
    "pop = np.array([[0.5, 0.3, 0.1, 0.1],\n",
    "                [0.4, 0.3, 0.2, 0.1],\n",
    "                [0.3, 0.3, 0.3, 0.1],\n",
    "                [0.2, 0.3, 0.4, 0.1],\n",
    "                [0.1, 0.3, 0.5, 0.1]])\n",
    "\n",
    "ln_clust = np.array([[-5.2, 3.8, 2.3, 1.3],\n",
    "                     [-4.2, 3.3, 2.8, 1.3],\n",
    "                     [-3.2, 3.3, 3.3, 1.3],\n",
    "                     [-2.2, 3.3, 4.3, 1.3],\n",
    "                     [-1.2, 3.3, 5.3, 1.3]])\n",
    "\n",
    "lnq_sys = np.zeros(ntemp)\n",
    "\n",
    "lnq_sys = calc_lnq_sys(ntemp, nclust, pop, ln_clust, lnq_sys)\n",
    "print(lnq_sys)"
   ]
  },
  {
   "cell_type": "markdown",
   "metadata": {},
   "source": [
    "## Add the particle indistinguishability "
   ]
  },
  {
   "cell_type": "markdown",
   "metadata": {},
   "source": [
    "$$ Q_{\\text{sys}}(T) = \\prod_{i=1}^{N_{\\text{clust}}} \\frac{1}{N!}Q(T)^{N_{\\text{clust}}(T)} $$\n",
    "$$ \\ln{Q_{\\text{sys}}(T)} = \\sum_{i=1}^{N_{\\text{clust}}} N_{\\text{clust}}(T) \\ln{Q(T)} - \\sum_{i=1}^{N_{\\text{clust}}} \\ln{N!}$$"
   ]
  },
  {
   "cell_type": "code",
   "execution_count": 125,
   "metadata": {},
   "outputs": [],
   "source": [
    "def add_lnq_indi(ntemp, nclust, pop, lnq_sys):\n",
    "    # ntemp     : input     - number of temperatures at which the system is simulated\n",
    "    # nclust    : input     - number of clusters in the system\n",
    "    # pop       : input     - population of each cluster at each temperature\n",
    "    # lnq_sys   : input     - ln of the partition function of the system\n",
    "    \n",
    "    lnq_indi = np.zeros(ntemp)\n",
    "    for i in range(ntemp):\n",
    "        for j in range(nclust):\n",
    "            lnq_sys[i] += - sp.log(sp.factorial(pop[i][j]))\n",
    "            \n",
    "    return lnq_indi"
   ]
  },
  {
   "cell_type": "markdown",
   "metadata": {},
   "source": [
    "#### Tests"
   ]
  },
  {
   "cell_type": "code",
   "execution_count": 126,
   "metadata": {},
   "outputs": [
    {
     "name": "stdout",
     "output_type": "stream",
     "text": [
      "[-0.771298070337215, 0.363034254943387, 1.52439686978342, 2.76303425494339, 3.97870192966279]\n"
     ]
    }
   ],
   "source": [
    "ntemp = 5\n",
    "nclust = 4\n",
    "\n",
    "pop = np.array([[0.5, 0.3, 0.1, 0.1],\n",
    "                [0.4, 0.3, 0.2, 0.1],\n",
    "                [0.3, 0.3, 0.3, 0.1],\n",
    "                [0.2, 0.3, 0.4, 0.1],\n",
    "                [0.1, 0.3, 0.5, 0.1]])\n",
    "\n",
    "lnq_sys = [-1.1, -3.33066907e-16,  1.15, 2.4,  3.65]\n",
    "\n",
    "add_lnq_indi(ntemp, nclust, pop, lnq_sys)\n",
    "print(lnq_sys)"
   ]
  },
  {
   "cell_type": "markdown",
   "metadata": {},
   "source": [
    "## Calculation of the Helmholtz energy\n",
    "$$ \\begin{aligned} A(T) &= -kT \\ln{Q} \\\\\n",
    "                        &= U - TS \\end{aligned}$$"
   ]
  },
  {
   "cell_type": "code",
   "execution_count": 127,
   "metadata": {},
   "outputs": [],
   "source": [
    "def calculate_helmholtz_energy(ntemp, temp, lnq):\n",
    "    # ntemp     : input     - number of temperatures at which the system is simulated\n",
    "    # temp      : input     - temperature of the system\n",
    "    # lnq       : input     - ln of the partition function of the system\n",
    "    # A         : output    - Helmholtz energy of the system\n",
    "    \n",
    "    A = np.zeros(ntemp)\n",
    "    for i in range(ntemp):\n",
    "        A[i] = - kb*temp[i] * lnq[i]\n",
    "        \n",
    "    return A"
   ]
  },
  {
   "cell_type": "markdown",
   "metadata": {},
   "source": [
    "#### Tests"
   ]
  },
  {
   "cell_type": "code",
   "execution_count": 128,
   "metadata": {},
   "outputs": [
    {
     "name": "stdout",
     "output_type": "stream",
     "text": [
      "[-1.38313459e-19 -6.76517912e-21 -1.32542285e-20 -2.79745610e-20\n",
      " -3.47923498e-20 -5.00347125e-20 -7.14873109e-20 -1.00221296e-19]\n"
     ]
    }
   ],
   "source": [
    "ntemp = 8\n",
    "temp = np.array([100.15, 200.0, 300.0, 406.05, 500.0, 604.0, 730.4, 850.0])\n",
    "lnq = np.array([100.03, 2.45, 3.2, 4.99, 5.04, 6.0, 7.089, 8.54])\n",
    "\n",
    "A = calculate_helmholtz_energy(ntemp, temp, lnq)\n",
    "print(A)"
   ]
  },
  {
   "cell_type": "markdown",
   "metadata": {},
   "source": [
    "## Calculation of Gibbs free energy"
   ]
  },
  {
   "cell_type": "markdown",
   "metadata": {},
   "source": [
    "$$\\begin{aligned} G &= - \\frac{\\ln{Q}}{\\beta} + PV \\\\\n",
    "                    &= - \\frac{\\ln{\\frac{1}{N!}q^N}}{\\beta} + PV \\\\\n",
    "                    &= k_{\\text{B}}T \\bigg( \\ln{N!} - N \\ln{q} \\bigg) +PV \\\\\n",
    "                    &= A(T) + PV \\end{aligned}$$"
   ]
  },
  {
   "cell_type": "code",
   "execution_count": 129,
   "metadata": {},
   "outputs": [],
   "source": [
    "def calculate_gibbs_enthalpy(ntemp, temp, lnq, press, vol):\n",
    "    # ntemp     : input     - number of temperatures at which the system is simulated\n",
    "    # temp      : input     - temperature of the system\n",
    "    # lnq       : input     - ln of the partition function of the system\n",
    "    # G         : output    - Gibbs free energy of the system\n",
    "    \n",
    "    a = calculate_helmholtz_energy(ntemp, temp, lnq)\n",
    "    \n",
    "    G = np.zeros(ntemp)\n",
    "    for i in range(ntemp):\n",
    "        G[i] = a[i] + press*vol[i]\n",
    "        \n",
    "    return G"
   ]
  },
  {
   "cell_type": "markdown",
   "metadata": {},
   "source": [
    "#### Tests"
   ]
  },
  {
   "cell_type": "code",
   "execution_count": 130,
   "metadata": {},
   "outputs": [
    {
     "name": "stdout",
     "output_type": "stream",
     "text": [
      "[ 0.506625  0.60795   4.762275  0.8106    0.911925  1.01325   1.114575\n",
      " 62.0109    1.317225  1.41855   1.519875 12.76695 ]\n"
     ]
    }
   ],
   "source": [
    "ntemp = 12\n",
    "temp = np.array([100.15, 233.4, 512.0, 406.05, 530.0, 604.0, 730.4, 850.0, 900.0, 423.0, 1100.0, 1200.8])\n",
    "lnq = np.array([1.03e-2, -2.45, 3.2, 1.99, 5.04, 53.0, -7.5, 8.54, 9.0, 10.0, 11.0, -12.0])\n",
    "press = 1.01325\n",
    "vol = np.array([0.5, 0.6, 4.7, 0.8, 0.9, 1.0, 1.1, 61.2, 1.3, 1.4, 1.5, 12.6])\n",
    "\n",
    "G = calculate_gibbs_enthalpy(ntemp, temp, lnq, press, vol)\n",
    "print(G)"
   ]
  },
  {
   "cell_type": "markdown",
   "metadata": {},
   "source": [
    "## Calculation of internal energy"
   ]
  },
  {
   "cell_type": "markdown",
   "metadata": {},
   "source": [
    "$$ \\begin{aligned} U(T) &= - \\frac{\\partial}{\\partial \\beta} \\ln{Q} \\\\\n",
    "                        &= k_{\\text{B}}T^2 \\ln{Q} \\end{aligned}$$"
   ]
  },
  {
   "cell_type": "code",
   "execution_count": 131,
   "metadata": {},
   "outputs": [],
   "source": [
    "def calculate_internal_energy(ntemp, temp, dlnq):\n",
    "    # ntemp     : input     - number of temperatures at which the system is simulated\n",
    "    # temp      : input     - temperature of the system\n",
    "    # lnq       : input     - ln of the partition function of the system\n",
    "    # U         : output    - Internal energy of the system\n",
    "    \n",
    "    U = np.zeros(ntemp)\n",
    "    for i in range(ntemp):\n",
    "        U[i] = kb*temp[i]**2 * dlnq[i]\n",
    "        \n",
    "    return U"
   ]
  },
  {
   "cell_type": "code",
   "execution_count": 132,
   "metadata": {},
   "outputs": [
    {
     "name": "stdout",
     "output_type": "stream",
     "text": [
      "[ 1.42633767e-21 -1.84268461e-18  1.15817216e-17  4.52997000e-18\n",
      "  1.95463421e-17  2.66951869e-16 -5.52415699e-17  8.51881019e-17\n",
      "  1.00649298e-16  2.47038109e-17  1.83764355e-16 -2.38894320e-16\n",
      "  1.42633767e-21 -1.84268461e-18  1.15817216e-17  4.52997000e-18\n",
      "  1.95463421e-17  2.66951869e-16 -5.52415699e-17  8.51881019e-17\n",
      "  1.00649298e-16]\n"
     ]
    }
   ],
   "source": [
    "ntemp = 21\n",
    "temp = np.array([100.15, 233.4, 512.0, 406.05, 530.0, 604.0, 730.4, 850.0, 900.0, 423.0, 1100.0, 1200.8, 100.15, 233.4, 512.0, 406.05, 530.0, 604.0, 730.4, 850.0, 900.0])\n",
    "dlnq = np.array([1.03e-2, -2.45, 3.2, 1.99, 5.04, 53.0, -7.5, 8.54, 9.0, 10.0, 11.0, -12.0, 1.03e-2, -2.45, 3.2, 1.99, 5.04, 53.0, -7.5, 8.54, 9.0])\n",
    "\n",
    "U = calculate_internal_energy(ntemp, temp, dlnq)\n",
    "print(U)"
   ]
  },
  {
   "cell_type": "markdown",
   "metadata": {},
   "source": [
    "## Calculation of enthalpy"
   ]
  },
  {
   "cell_type": "markdown",
   "metadata": {},
   "source": [
    "$$ H(T) = U(T) + PV $$"
   ]
  },
  {
   "cell_type": "code",
   "execution_count": 133,
   "metadata": {},
   "outputs": [],
   "source": [
    "def calculate_enthalpy(ntemp, temp, dlnq, vol, press):\n",
    "    # ntemp     : input     - number of temperatures at which the system is simulated\n",
    "    # temp      : input     - temperature of the system\n",
    "    # lnq       : input     - ln of the partition function of the system\n",
    "    # vol       : input     - volume of the system\n",
    "    # press     : input     - pressure of the system\n",
    "    # heat_cap  : output    - Enthalpy of the system\n",
    "    \n",
    "    u = calculate_internal_energy(ntemp, temp, dlnq)\n",
    "    \n",
    "    h = np.zeros(ntemp)\n",
    "    for i in range(ntemp):\n",
    "        h[i] = u[i] + press*vol[i]\n",
    "        \n",
    "    return h"
   ]
  },
  {
   "cell_type": "markdown",
   "metadata": {},
   "source": [
    "#### Tests"
   ]
  },
  {
   "cell_type": "code",
   "execution_count": 137,
   "metadata": {},
   "outputs": [
    {
     "name": "stdout",
     "output_type": "stream",
     "text": [
      "[-5.62809240e-18  8.32920629e-18  7.41152536e-17  4.53427000e-18\n",
      "  1.96293421e-17  2.66961869e-16 -5.52305699e-17  8.58001019e-17\n",
      "  1.00662298e-16  2.47178109e-17  1.83779355e-16 -2.38768320e-16\n",
      "  4.72633767e-21 -1.60768461e-18  1.17549216e-17  4.53427000e-18\n",
      "  1.96293421e-17  2.66961869e-16]\n"
     ]
    }
   ],
   "source": [
    "ntemp = 18\n",
    "temp = np.array([412.25, 123.4, 512.0, 406.05, 530.0, 604.0, 730.4, 850.0, 900.0, 423.0, 1100.0, 1200.8, 100.15, 233.4, 512.0, 406.05, 530.0, 604.0])\n",
    "dlnq = np.array([-2.4, 38.5, 20.43, 1.99, 5.04, 53.0, -7.5, 8.54, 9.0, 10.0, 11.0, -12.0, 1.03e-2, -2.45, 3.2, 1.99, 5.04, 53.0])\n",
    "vol = np.array([0.33, 23.5, 17.32, 0.43, 8.3, 1.0, 1.1, 61.2, 1.3, 1.4, 1.5, 12.6, 0.33, 23.5, 17.32, 0.43, 8.3, 1.0])\n",
    "press = 1e-20\n",
    "\n",
    "h = calculate_enthalpy(ntemp, temp, dlnq, vol, press)\n",
    "print(h)"
   ]
  },
  {
   "cell_type": "markdown",
   "metadata": {},
   "source": [
    "## Calculation of entropy"
   ]
  },
  {
   "cell_type": "markdown",
   "metadata": {},
   "source": [
    "$$ \\begin{aligned} S &= k_{\\text{B}} \\bigg( \\ln{Q} + \\beta \\frac{\\partial}{\\partial \\beta} \\ln{Q} \\bigg) \\\\\n",
    "                     &= \\frac{U(T) - A(T)}{T} \\end{aligned}$$"
   ]
  },
  {
   "cell_type": "code",
   "execution_count": 138,
   "metadata": {},
   "outputs": [],
   "source": [
    "def calculate_entropy(ntemp, temp, lnq, dlnq):\n",
    "    # ntemp     : input     - number of temperatures at which the system is simulated\n",
    "    # temp      : input     - temperature of the system\n",
    "    # lnq       : input     - ln of the partition function of the system\n",
    "    # dlnq      : input     - derivative of ln of the partition function of the system\n",
    "    # S         : output    - Entropy of the system\n",
    "    \n",
    "    u = calculate_internal_energy(ntemp, temp, dlnq)\n",
    "    a = calculate_helmholtz_energy(ntemp, temp, lnq)\n",
    "    \n",
    "    S = np.zeros(ntemp)\n",
    "    for i in range(ntemp):\n",
    "        S[i] = (u[i] - a[i])/temp[i]\n",
    "        \n",
    "    return S"
   ]
  },
  {
   "cell_type": "markdown",
   "metadata": {},
   "source": [
    "#### Tests"
   ]
  },
  {
   "cell_type": "code",
   "execution_count": 148,
   "metadata": {},
   "outputs": [
    {
     "name": "stdout",
     "output_type": "stream",
     "text": [
      "[ 2.54891930e-23 -3.64256573e-21  2.29026165e-20  1.11836626e-20\n",
      "  3.69494754e-20  4.42705038e-19 -7.57354899e-20  1.00339204e-19\n",
      "  1.11956811e-19  5.85395091e-20  1.67210376e-19 -1.99111647e-19\n",
      "  1.43842205e-23 -7.92878993e-21  2.26647307e-20  1.11836626e-20\n",
      "  3.69494754e-20  4.42705038e-19 -7.57354899e-20  1.00339204e-19\n",
      "  1.11956811e-19  5.85395091e-20  1.67210376e-19 -1.99111647e-19\n",
      "  1.43842205e-23 -7.92878993e-21  2.26647307e-20  1.11836626e-20\n",
      "  3.69494754e-20  4.42705038e-19 -7.57354899e-20  1.00339204e-19\n",
      "  1.11956811e-19]\n",
      "33\n"
     ]
    }
   ],
   "source": [
    "ntemp = 33\n",
    "temp = np.array([412.25, 123.4, 512.0, 406.05, 530.0, 604.0, 730.4, 850.0, 900.0, 423.0, 1100.0, 1200.8, 100.15, 233.4, 512.0, 406.05, 530.0, 604.0, 730.4, 850.0, 900.0, 423.0, 1100.0, 1200.8, 100.15, 233.4, 512.0, 406.05, 530.0, 604.0, 730.4, 850.0, 900.0])\n",
    "lnq = np.array([-2.4, 38.5, 20.43, 1.99, 5.04, 53.0, -7.5, 8.54, 9.0, 10.0, 11.0, -12.0, 1.03e-2, -2.45, 3.2, 1.99, 5.04, 53.0, -7.5, 8.54, 9.0, 10.0, 11.0, -12.0, 1.03e-2, -2.45, 3.2, 1.99, 5.04, 53.0, -7.5, 8.54, 9.0])\n",
    "dlnq = np.array([1.03e-2, -2.45, 3.2, 1.99, 5.04, 53.0, -7.5, 8.54, 9.0, 10.0, 11.0, -12.0, 1.03e-2, -2.45, 3.2, 1.99, 5.04, 53.0, -7.5, 8.54, 9.0, 10.0, 11.0, -12.0, 1.03e-2, -2.45, 3.2, 1.99, 5.04, 53.0, -7.5, 8.54, 9.0])\n",
    "\n",
    "S = calculate_entropy(ntemp, temp, lnq, dlnq)\n",
    "print(S)\n",
    "print(len(S))"
   ]
  },
  {
   "cell_type": "code",
   "execution_count": null,
   "metadata": {},
   "outputs": [],
   "source": []
  }
 ],
 "metadata": {
  "kernelspec": {
   "display_name": "base",
   "language": "python",
   "name": "python3"
  },
  "language_info": {
   "codemirror_mode": {
    "name": "ipython",
    "version": 3
   },
   "file_extension": ".py",
   "mimetype": "text/x-python",
   "name": "python",
   "nbconvert_exporter": "python",
   "pygments_lexer": "ipython3",
   "version": "3.10.9"
  }
 },
 "nbformat": 4,
 "nbformat_minor": 2
}
