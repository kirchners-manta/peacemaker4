{
 "cells": [
  {
   "cell_type": "code",
   "execution_count": 80,
   "metadata": {},
   "outputs": [],
   "source": [
    "import numpy as np\n",
    "import sympy as sp"
   ]
  },
  {
   "cell_type": "code",
   "execution_count": 81,
   "metadata": {},
   "outputs": [],
   "source": [
    "pi = 4.0 * np.arctan(1.0)\n",
    "planck = 6.62606957e-34         # J s\n",
    "avogadro = 6.0221413e23\n",
    "kb = 1.3806488e-23              # J K^-1\n",
    "speed_of_light = 299792458.0    # m s^-1\n",
    "amu = 1.660538921e-27           # kg\n",
    "gas_constant = avogadro*kb\n",
    "hbar = planck/(2.0*pi)\n",
    "global_eps = 1.0e-10"
   ]
  },
  {
   "cell_type": "markdown",
   "metadata": {},
   "source": [
    "# Calculation of thermodynamic data"
   ]
  },
  {
   "cell_type": "markdown",
   "metadata": {},
   "source": [
    "This is done in the end of all qce iterations. </br>\n",
    "The partition functions, volumes and populations are calculated for each molecule at each temperature. </br>\n",
    "They are then used for the calculation of the thermodynamic data."
   ]
  },
  {
   "cell_type": "markdown",
   "metadata": {},
   "source": [
    "## calculation of the system partition function\n",
    "Attention: This subroutine is missing the summand arising from the particle </br>\n",
    "indistinguishability.\n",
    "\n",
    "$$ Q_{\\text{sys}}(T) = \\prod_{i=1}^{N_{\\text{clust}}} Q(T)^{N_{\\text{clust}}(T)} $$\n",
    "$$ \\ln{Q_{\\text{sys}}(T)} = \\sum_{i=1}^{N_{\\text{clust}}} N_{\\text{clust}}(T) \\ln{Q(T)} $$"
   ]
  },
  {
   "cell_type": "code",
   "execution_count": 82,
   "metadata": {},
   "outputs": [],
   "source": [
    "def calc_lnq_sys(ntemp, nclust, pop, ln_clust, lnq_sys):\n",
    "    # ntemp     : input     - number of temperatures at which the system is simulated\n",
    "    # nclust    : input     - number of clusters in the system\n",
    "    # pop       : input     - population of each cluster at each temperature\n",
    "    # ln_clust  : input     - ln of the population of each cluster\n",
    "    # lnq_sys   : output    - ln of the partition function of the system\n",
    "    \n",
    "    lnq_sys = np.zeros(ntemp)\n",
    "    for i in range(ntemp):\n",
    "        for j in range(nclust):\n",
    "            lnq_sys[i] += pop[i][j] * ln_clust[i][j]\n",
    "            \n",
    "    return lnq_sys"
   ]
  },
  {
   "cell_type": "markdown",
   "metadata": {},
   "source": [
    "#### Tests"
   ]
  },
  {
   "cell_type": "code",
   "execution_count": 83,
   "metadata": {},
   "outputs": [
    {
     "name": "stdout",
     "output_type": "stream",
     "text": [
      "[-1.10000000e+00 -3.33066907e-16  1.15000000e+00  2.40000000e+00\n",
      "  3.65000000e+00]\n"
     ]
    }
   ],
   "source": [
    "ntemp = 5\n",
    "nclust = 4\n",
    "\n",
    "pop = np.array([[0.5, 0.3, 0.1, 0.1],\n",
    "                [0.4, 0.3, 0.2, 0.1],\n",
    "                [0.3, 0.3, 0.3, 0.1],\n",
    "                [0.2, 0.3, 0.4, 0.1],\n",
    "                [0.1, 0.3, 0.5, 0.1]])\n",
    "\n",
    "ln_clust = np.array([[-5.2, 3.8, 2.3, 1.3],\n",
    "                     [-4.2, 3.3, 2.8, 1.3],\n",
    "                     [-3.2, 3.3, 3.3, 1.3],\n",
    "                     [-2.2, 3.3, 4.3, 1.3],\n",
    "                     [-1.2, 3.3, 5.3, 1.3]])\n",
    "\n",
    "lnq_sys = np.zeros(ntemp)\n",
    "\n",
    "lnq_sys = calc_lnq_sys(ntemp, nclust, pop, ln_clust, lnq_sys)\n",
    "print(lnq_sys)"
   ]
  },
  {
   "cell_type": "markdown",
   "metadata": {},
   "source": [
    "## Add the particle indistinguishability "
   ]
  },
  {
   "cell_type": "markdown",
   "metadata": {},
   "source": [
    "$$ Q_{\\text{sys}}(T) = \\prod_{i=1}^{N_{\\text{clust}}} \\frac{1}{N!}Q(T)^{N_{\\text{clust}}(T)} $$\n",
    "$$ \\ln{Q_{\\text{sys}}(T)} = \\sum_{i=1}^{N_{\\text{clust}}} N_{\\text{clust}}(T) \\ln{Q(T)} - \\sum_{i=1}^{N_{\\text{clust}}} \\ln{N!}$$"
   ]
  },
  {
   "cell_type": "code",
   "execution_count": 84,
   "metadata": {},
   "outputs": [],
   "source": [
    "def add_lnq_indi(ntemp, nclust, pop, lnq_sys):\n",
    "    # ntemp     : input     - number of temperatures at which the system is simulated\n",
    "    # nclust    : input     - number of clusters in the system\n",
    "    # pop       : input     - population of each cluster at each temperature\n",
    "    # lnq_sys   : input     - ln of the partition function of the system\n",
    "    \n",
    "    lnq_indi = np.zeros(ntemp)\n",
    "    for i in range(ntemp):\n",
    "        for j in range(nclust):\n",
    "            lnq_sys[i] += - sp.log(sp.factorial(pop[i][j]))\n",
    "            \n",
    "    return lnq_indi"
   ]
  },
  {
   "cell_type": "markdown",
   "metadata": {},
   "source": [
    "#### Tests"
   ]
  },
  {
   "cell_type": "code",
   "execution_count": 85,
   "metadata": {},
   "outputs": [
    {
     "name": "stdout",
     "output_type": "stream",
     "text": [
      "[-0.771298070337215, 0.363034254943387, 1.52439686978342, 2.76303425494339, 3.97870192966279]\n"
     ]
    }
   ],
   "source": [
    "ntemp = 5\n",
    "nclust = 4\n",
    "\n",
    "pop = np.array([[0.5, 0.3, 0.1, 0.1],\n",
    "                [0.4, 0.3, 0.2, 0.1],\n",
    "                [0.3, 0.3, 0.3, 0.1],\n",
    "                [0.2, 0.3, 0.4, 0.1],\n",
    "                [0.1, 0.3, 0.5, 0.1]])\n",
    "\n",
    "lnq_sys = [-1.1, -3.33066907e-16,  1.15, 2.4,  3.65]\n",
    "\n",
    "add_lnq_indi(ntemp, nclust, pop, lnq_sys)\n",
    "print(lnq_sys)"
   ]
  },
  {
   "cell_type": "markdown",
   "metadata": {},
   "source": [
    "## Calculation of the Helmholtz energy\n",
    "$$ A(T) = -kT \\ln{Q} $$"
   ]
  },
  {
   "cell_type": "code",
   "execution_count": 86,
   "metadata": {},
   "outputs": [],
   "source": [
    "def calculate_helmholtz_energy(ntemp, temp, lnq):\n",
    "    # ntemp     : input     - number of temperatures at which the system is simulated\n",
    "    # temp      : input     - temperature of the system\n",
    "    # lnq       : input     - ln of the partition function of the system\n",
    "    # A         : output    - Helmholtz energy of the system\n",
    "    \n",
    "    A = np.zeros(ntemp)\n",
    "    for i in range(ntemp):\n",
    "        A[i] = - kb*temp[i] * lnq[i]\n",
    "        \n",
    "    return A"
   ]
  },
  {
   "cell_type": "markdown",
   "metadata": {},
   "source": [
    "#### Tests"
   ]
  },
  {
   "cell_type": "code",
   "execution_count": 87,
   "metadata": {},
   "outputs": [
    {
     "name": "stdout",
     "output_type": "stream",
     "text": [
      "[-1.38313459e-19 -6.76517912e-21 -1.32542285e-20 -2.79745610e-20\n",
      " -3.47923498e-20 -5.00347125e-20 -7.14873109e-20 -1.00221296e-19]\n"
     ]
    }
   ],
   "source": [
    "ntemp = 8\n",
    "temp = np.array([100.15, 200.0, 300.0, 406.05, 500.0, 604.0, 730.4, 850.0])\n",
    "lnq = np.array([100.03, 2.45, 3.2, 4.99, 5.04, 6.0, 7.089, 8.54])\n",
    "\n",
    "A = calculate_helmholtz_energy(ntemp, temp, lnq)\n",
    "print(A)"
   ]
  },
  {
   "cell_type": "code",
   "execution_count": null,
   "metadata": {},
   "outputs": [],
   "source": []
  }
 ],
 "metadata": {
  "kernelspec": {
   "display_name": "base",
   "language": "python",
   "name": "python3"
  },
  "language_info": {
   "codemirror_mode": {
    "name": "ipython",
    "version": 3
   },
   "file_extension": ".py",
   "mimetype": "text/x-python",
   "name": "python",
   "nbconvert_exporter": "python",
   "pygments_lexer": "ipython3",
   "version": "3.10.9"
  }
 },
 "nbformat": 4,
 "nbformat_minor": 2
}
