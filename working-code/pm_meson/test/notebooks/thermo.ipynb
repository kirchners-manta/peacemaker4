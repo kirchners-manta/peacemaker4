{
 "cells": [
  {
   "cell_type": "code",
   "execution_count": 11,
   "metadata": {},
   "outputs": [],
   "source": [
    "import numpy as np"
   ]
  },
  {
   "cell_type": "markdown",
   "metadata": {},
   "source": [
    "# Calculation of thermodynamic data"
   ]
  },
  {
   "cell_type": "markdown",
   "metadata": {},
   "source": [
    "This is done in the end of all qce iterations. </br>\n",
    "The partition functions, volumes and populations are calculated for each molecule at each temperature. </br>\n",
    "They are then used for the calculation of the thermodynamic data."
   ]
  },
  {
   "cell_type": "markdown",
   "metadata": {},
   "source": [
    "## calculation of the system partition function\n",
    "Attention: This subroutine is missing the summand arising from the particle </br>\n",
    "indistinguishability.\n",
    "\n",
    "$$ Q_{\\text{sys}}(T) = \\prod_{i=1}^{N_{\\text{clust}}} Q(T)^{N_{\\text{clust}}(T)} $$\n",
    "$$ \\ln{Q_{\\text{sys}}(T)} = \\sum_{i=1}^{N_{\\text{clust}}} N_{\\text{clust}}(T) \\ln{Q(T)} $$"
   ]
  },
  {
   "cell_type": "code",
   "execution_count": 12,
   "metadata": {},
   "outputs": [],
   "source": [
    "def calc_lnq_sys(ntemp, nclust, pop, ln_clust, lnq_sys):\n",
    "    # ntemp     : input     - number of temperatures at which the system is simulated\n",
    "    # nclust    : input     - number of clusters in the system\n",
    "    # pop       : input     - population of each cluster at each temperature\n",
    "    # ln_clust  : input     - ln of the population of each cluster\n",
    "    # lnq_sys   : output    - ln of the partition function of the system\n",
    "    \n",
    "    lnq_sys = np.zeros(ntemp)\n",
    "    for i in range(ntemp):\n",
    "        for j in range(nclust):\n",
    "            lnq_sys[i] += pop[i][j] * ln_clust[i][j]\n",
    "            \n",
    "    return lnq_sys"
   ]
  },
  {
   "cell_type": "markdown",
   "metadata": {},
   "source": [
    "#### Tests"
   ]
  },
  {
   "cell_type": "code",
   "execution_count": 13,
   "metadata": {},
   "outputs": [
    {
     "name": "stdout",
     "output_type": "stream",
     "text": [
      "[-1.10000000e+00 -3.33066907e-16  1.15000000e+00  2.40000000e+00\n",
      "  3.65000000e+00]\n"
     ]
    }
   ],
   "source": [
    "ntemp = 5\n",
    "nclust = 4\n",
    "\n",
    "pop = np.array([[0.5, 0.3, 0.1, 0.1],\n",
    "                [0.4, 0.3, 0.2, 0.1],\n",
    "                [0.3, 0.3, 0.3, 0.1],\n",
    "                [0.2, 0.3, 0.4, 0.1],\n",
    "                [0.1, 0.3, 0.5, 0.1]])\n",
    "\n",
    "ln_clust = np.array([[-5.2, 3.8, 2.3, 1.3],\n",
    "                     [-4.2, 3.3, 2.8, 1.3],\n",
    "                     [-3.2, 3.3, 3.3, 1.3],\n",
    "                     [-2.2, 3.3, 4.3, 1.3],\n",
    "                     [-1.2, 3.3, 5.3, 1.3]])\n",
    "\n",
    "lnq_sys = np.zeros(ntemp)\n",
    "\n",
    "lnq_sys = calc_lnq_sys(ntemp, nclust, pop, ln_clust, lnq_sys)\n",
    "print(lnq_sys)"
   ]
  },
  {
   "cell_type": "code",
   "execution_count": null,
   "metadata": {},
   "outputs": [],
   "source": []
  }
 ],
 "metadata": {
  "kernelspec": {
   "display_name": "base",
   "language": "python",
   "name": "python3"
  },
  "language_info": {
   "codemirror_mode": {
    "name": "ipython",
    "version": 3
   },
   "file_extension": ".py",
   "mimetype": "text/x-python",
   "name": "python",
   "nbconvert_exporter": "python",
   "pygments_lexer": "ipython3",
   "version": "3.10.9"
  }
 },
 "nbformat": 4,
 "nbformat_minor": 2
}
