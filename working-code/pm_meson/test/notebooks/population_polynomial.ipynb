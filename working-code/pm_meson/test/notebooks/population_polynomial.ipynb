{
 "cells": [
  {
   "cell_type": "code",
   "execution_count": 99,
   "metadata": {},
   "outputs": [],
   "source": [
    "import numpy as np\n",
    "#from multivar_horner import HornerMultivarPolynomial\n",
    "import sympy as sp"
   ]
  },
  {
   "cell_type": "markdown",
   "metadata": {},
   "source": [
    "# Population polynomial - polynomial.f90 : newton"
   ]
  },
  {
   "cell_type": "markdown",
   "metadata": {},
   "source": [
    "The subroutine calculates the solution for n d-dimensional polynomial equations using the Newton-Raphson method in combination with the Horner method for multivariate polynomials. \n",
    "The Horner method is used for the calculation of the value of the polynomial and its derivatives at a given point."
   ]
  },
  {
   "cell_type": "markdown",
   "metadata": {},
   "source": [
    "#### $\\textbf{Newton-Raphson method using derivatives}$\n",
    "The Newton-Raphson method is an iterative method for finding the roots of a function. The method requires both the function $f(x)$ and the derivative $f'(x)$ at arbitrary points $x$. The formula consists geometrically of extending the tangent line at a current point $x_i$ until it intersects the x-axis. The intersection point is the next guess $x_{i+1}$. The formula for the one dimensional case is given by: </p>\n",
    "$$x_{i+1} = x_i - \\frac{f(x_i)}{f'(x_i)}$$\n",
    "This can be expressed in terms of a multiplication of the inverse of the Jacobian matrix with the function vector. The Jacobian matrix is the matrix of all first-order partial derivatives of the function. The formula for the multivariate case is given by: </p>\n",
    "$$x_{i+1} = x_i - J_f^{-1}(x_i) f(x_i)$$\n",
    "where $J$ is the Jacobian matrix and $f(x_i)$ is the function vector. The Jacobian matrix is given by: </p>\n",
    "$$J_f = \\begin{bmatrix} \\frac{\\partial f_1}{\\partial x_1} & \\frac{\\partial f_1}{\\partial x_2} & \\cdots & \\frac{\\partial f_1}{\\partial x_n} \\\\ \\frac{\\partial f_2}{\\partial x_1} & \\frac{\\partial f_2}{\\partial x_2} & \\cdots & \\frac{\\partial f_2}{\\partial x_n} \\\\ \\vdots & \\vdots & \\ddots & \\vdots \\\\ \\frac{\\partial f_n}{\\partial x_1} & \\frac{\\partial f_n}{\\partial x_2} & \\cdots & \\frac{\\partial f_n}{\\partial x_n} \\end{bmatrix}$$\n",
    "\n",
    "The subroutine calculates the inverse of the Jacobian matrix directly for the dimensions one, two and three. For higher dimensions, the subroutine uses the LU decomposition to calculate the inverse of the Jacobian matrix. The LU decomposition is a method for solving systems of linear equations. The method decomposes the matrix into a lower triangular matrix and an upper triangular matrix. The inverse of the Jacobian matrix is then calculated by solving the linear system for each column of the identity matrix. (Replace by LAPACK?) </p> \n",
    "\n",
    "#### $\\textbf{Horner method for multivariate polynomials}$\n",
    "The value of the function and its derivatives at a given point are calculated using the Horner method. The Horner method is a method for evaluating polynomials. The method is based on the factorization of the polynomial. In the one-dimensional case, the polynomial is written as: </p>\n",
    "$$p(x) = a_0 + a_1 x + a_2 x^2 + \\cdots + a_n x^n = a_0 + x(a_1 + x(a_2 + \\cdots + x(a_{n-1} + a_n x)))$$\n",
    "The derivative of the polynomial is calculated in a similar way using the chain rule. The multivariate polynomial is written as: </p>\n",
    "$$p(x_1, x_2, \\cdots, x_n) = a_0 + a_1 x_1 + a_2 x_1^2 + \\cdots + a_n x_1^{n_1} + a_{n+1} x_2 + a_{n+2} x_1 x_2 + \\cdots + a_{n+m} x_1^{n_1} x_2^{n_2} \\cdots x_m^{n_m}$$\n",
    "This is achieved by recursively evaluating the polynomial for each variable. </p></br>"
   ]
  },
  {
   "cell_type": "markdown",
   "metadata": {},
   "source": [
    "### Helper for finding the order of the polynomial coefficients in the array"
   ]
  },
  {
   "cell_type": "code",
   "execution_count": 116,
   "metadata": {},
   "outputs": [],
   "source": [
    "# Array telling which coefficient belongs to which index\n",
    "def coeff_order(degree):\n",
    "    # degree           : input         - Array containing the highest degree of each monomer\n",
    "    \n",
    "    coeff = np.zeros((np.product(degree), len(degree)))\n",
    "    \n",
    "    if len(degree) == 1:\n",
    "        for i in range(degree[0]):\n",
    "            coeff[i] = i\n",
    "            coeff = coeff.astype(int)\n",
    "        return coeff\n",
    "    elif len(degree) == 2:\n",
    "        for i in range(degree[0]):\n",
    "            for j in range(degree[1]):\n",
    "                coeff[i*(degree[1])+j] = [i,j]\n",
    "                coeff = coeff.astype(int)\n",
    "    elif len(degree) == 3:\n",
    "        for i in range(degree[0]):\n",
    "            for j in range(degree[1]):\n",
    "                for k in range(degree[2]):\n",
    "                    coeff[i*degree[1]+j*degree[2]+j+k] = [i,j,k]\n",
    "                    coeff = coeff.astype(int)\n",
    "    elif len(degree) == 4:\n",
    "        for i in range(degree[0]):\n",
    "            for j in range(degree[1]):\n",
    "                for k in range(degree[2]):\n",
    "                    for l in range(degree[3]):\n",
    "                        coeff[i+j*(degree[0])+k*(degree[0])*(degree[1])+l*(degree[0])*(degree[1])*(degree[2])] = [i,j,k,l]\n",
    "                        coeff = coeff.astype(int)\n",
    "    else: \n",
    "        print(\"The number of monomers is too high\")\n",
    "    \n",
    "\n",
    "    # n_comp is the number of possible combinations of the monomers in the system\n",
    "    n_comp = 1\n",
    "    for i in range(1, len(degree)+1):\n",
    "        n_comp = n_comp * degree[i-1]\n",
    "\n",
    "    # coeff_order is the array containing the degree of each monomer for all the possible combinations\n",
    "    # and all equations. It has the size of [n_comp*nr_monomers, nr_monomers]\n",
    "    coeff_order = np.zeros((np.product(degree)*len(degree), len(degree)))\n",
    "\n",
    "    # Loop over all clusters and set the coefficients\n",
    "    for cluster in range(len(coeff)):\n",
    "        index = coeff[cluster][0]\n",
    "\n",
    "        for j in range(1, len(degree)):\n",
    "            index += coeff[cluster][j] * np.product(degree[:j])\n",
    "\n",
    "        for k in range(0, len(degree)):\n",
    "            coeff_order[index + k*np.product(degree)] += coeff[cluster]\n",
    "    \n",
    "    return coeff_order"
   ]
  },
  {
   "cell_type": "markdown",
   "metadata": {},
   "source": [
    "####  Degree = Highest population of the monomer in the clusterset + 1\n",
    "##### One monomer - highest degree [4]"
   ]
  },
  {
   "cell_type": "code",
   "execution_count": null,
   "metadata": {},
   "outputs": [],
   "source": [
    "degree = []\n",
    "degree = [5]\n",
    "coeffs_all = coeff_order(degree)\n",
    "\n",
    "print(\"Length of coefficient array: \" , len(coeffs_all))\n",
    "print(\"coefficient array: \", \"\\n\", coeffs_all[0:5])"
   ]
  },
  {
   "cell_type": "markdown",
   "metadata": {},
   "source": [
    "##### Two monomers - highest degree [3,3]"
   ]
  },
  {
   "cell_type": "code",
   "execution_count": null,
   "metadata": {},
   "outputs": [],
   "source": [
    "degree = (4,4)\n",
    "coeffs_all = coeff_order(degree)\n",
    "\n",
    "print(\"Length of coefficient array: \",len(coeffs_all))\n",
    "print(\"coefficient array: \", \"\\n\", coeffs_all[16:32])"
   ]
  },
  {
   "cell_type": "markdown",
   "metadata": {},
   "source": [
    "##### Three monomers - highest degree [3,2,3]"
   ]
  },
  {
   "cell_type": "code",
   "execution_count": 119,
   "metadata": {},
   "outputs": [
    {
     "name": "stdout",
     "output_type": "stream",
     "text": [
      "Length of coefficient array:  144\n"
     ]
    }
   ],
   "source": [
    "degree = (4,3,4)\n",
    "coeffs_all = coeff_order(degree)\n",
    "\n",
    "print(\"Length of coefficient array: \", len(coeffs_all))\n",
    "array = np.array([i for i in range(1, 145)])\n",
    "coeffs_all = np.column_stack((array, coeffs_all))\n",
    "print(\"coefficient array: \", \"\\n\", coeffs_all[0:48])"
   ]
  },
  {
   "cell_type": "markdown",
   "metadata": {},
   "source": [
    "##### Four monomers - highest degree [4,1,2,2]"
   ]
  },
  {
   "cell_type": "code",
   "execution_count": 121,
   "metadata": {},
   "outputs": [
    {
     "name": "stdout",
     "output_type": "stream",
     "text": [
      "Length of coefficient array:  360\n",
      "coefficient array:  \n",
      " [[ 1.  0.  0.  0.  0.]\n",
      " [ 2.  1.  0.  0.  0.]\n",
      " [ 3.  2.  0.  0.  0.]\n",
      " [ 4.  3.  0.  0.  0.]\n",
      " [ 5.  4.  0.  0.  0.]\n",
      " [ 6.  0.  1.  0.  0.]\n",
      " [ 7.  1.  1.  0.  0.]\n",
      " [ 8.  2.  1.  0.  0.]\n",
      " [ 9.  3.  1.  0.  0.]\n",
      " [10.  4.  1.  0.  0.]\n",
      " [11.  0.  0.  1.  0.]\n",
      " [12.  1.  0.  1.  0.]\n",
      " [13.  2.  0.  1.  0.]\n",
      " [14.  3.  0.  1.  0.]\n",
      " [15.  4.  0.  1.  0.]\n",
      " [16.  0.  1.  1.  0.]\n",
      " [17.  1.  1.  1.  0.]\n",
      " [18.  2.  1.  1.  0.]\n",
      " [19.  3.  1.  1.  0.]\n",
      " [20.  4.  1.  1.  0.]\n",
      " [21.  0.  0.  2.  0.]\n",
      " [22.  1.  0.  2.  0.]\n",
      " [23.  2.  0.  2.  0.]\n",
      " [24.  3.  0.  2.  0.]\n",
      " [25.  4.  0.  2.  0.]\n",
      " [26.  0.  1.  2.  0.]\n",
      " [27.  1.  1.  2.  0.]\n",
      " [28.  2.  1.  2.  0.]\n",
      " [29.  3.  1.  2.  0.]\n",
      " [30.  4.  1.  2.  0.]\n",
      " [31.  0.  0.  0.  1.]\n",
      " [32.  1.  0.  0.  1.]\n",
      " [33.  2.  0.  0.  1.]\n",
      " [34.  3.  0.  0.  1.]\n",
      " [35.  4.  0.  0.  1.]\n",
      " [36.  0.  1.  0.  1.]\n",
      " [37.  1.  1.  0.  1.]\n",
      " [38.  2.  1.  0.  1.]\n",
      " [39.  3.  1.  0.  1.]\n",
      " [40.  4.  1.  0.  1.]\n",
      " [41.  0.  0.  1.  1.]\n",
      " [42.  1.  0.  1.  1.]\n",
      " [43.  2.  0.  1.  1.]\n",
      " [44.  3.  0.  1.  1.]\n",
      " [45.  4.  0.  1.  1.]\n",
      " [46.  0.  1.  1.  1.]\n",
      " [47.  1.  1.  1.  1.]\n",
      " [48.  2.  1.  1.  1.]\n",
      " [49.  3.  1.  1.  1.]\n",
      " [50.  4.  1.  1.  1.]\n",
      " [51.  0.  0.  2.  1.]\n",
      " [52.  1.  0.  2.  1.]\n",
      " [53.  2.  0.  2.  1.]\n",
      " [54.  3.  0.  2.  1.]\n",
      " [55.  4.  0.  2.  1.]\n",
      " [56.  0.  1.  2.  1.]\n",
      " [57.  1.  1.  2.  1.]\n",
      " [58.  2.  1.  2.  1.]\n",
      " [59.  3.  1.  2.  1.]\n",
      " [60.  4.  1.  2.  1.]\n",
      " [61.  0.  0.  0.  2.]\n",
      " [62.  1.  0.  0.  2.]\n",
      " [63.  2.  0.  0.  2.]\n",
      " [64.  3.  0.  0.  2.]\n",
      " [65.  4.  0.  0.  2.]\n",
      " [66.  0.  1.  0.  2.]\n",
      " [67.  1.  1.  0.  2.]\n",
      " [68.  2.  1.  0.  2.]\n",
      " [69.  3.  1.  0.  2.]\n",
      " [70.  4.  1.  0.  2.]\n",
      " [71.  0.  0.  1.  2.]\n",
      " [72.  1.  0.  1.  2.]\n",
      " [73.  2.  0.  1.  2.]\n",
      " [74.  3.  0.  1.  2.]\n",
      " [75.  4.  0.  1.  2.]\n",
      " [76.  0.  1.  1.  2.]\n",
      " [77.  1.  1.  1.  2.]\n",
      " [78.  2.  1.  1.  2.]\n",
      " [79.  3.  1.  1.  2.]\n",
      " [80.  4.  1.  1.  2.]\n",
      " [81.  0.  0.  2.  2.]\n",
      " [82.  1.  0.  2.  2.]\n",
      " [83.  2.  0.  2.  2.]\n",
      " [84.  3.  0.  2.  2.]\n",
      " [85.  4.  0.  2.  2.]\n",
      " [86.  0.  1.  2.  2.]\n",
      " [87.  1.  1.  2.  2.]\n",
      " [88.  2.  1.  2.  2.]\n",
      " [89.  3.  1.  2.  2.]\n",
      " [90.  4.  1.  2.  2.]]\n"
     ]
    }
   ],
   "source": [
    "degree = (5,2,3,3)\n",
    "coeffs_all = coeff_order(degree)\n",
    "\n",
    "print(\"Length of coefficient array: \", len(coeffs_all))\n",
    "array = np.array([i for i in range(1, 361)])\n",
    "coeffs_all = np.column_stack((array, coeffs_all))\n",
    "print(\"coefficient array: \", \"\\n\", coeffs_all[0:90])"
   ]
  },
  {
   "cell_type": "markdown",
   "metadata": {},
   "source": [
    "### Solve polynomials with sympy"
   ]
  },
  {
   "cell_type": "markdown",
   "metadata": {},
   "source": [
    "Example polynomials: </p>\n",
    "$ f(x,y) = -1 + x + y $ </br>\n",
    "$ g(x,y) = -3 + 2x + 4y $ </p> \n",
    "\n",
    "Solution: $[x, y] = [0.5, 0.5]$ </p>"
   ]
  },
  {
   "cell_type": "code",
   "execution_count": 43,
   "metadata": {},
   "outputs": [
    {
     "name": "stdout",
     "output_type": "stream",
     "text": [
      "{x: 1/2, y: 1/2}\n"
     ]
    }
   ],
   "source": [
    "x,y = sp.symbols('x, y')\n",
    "eqs = [x + y -1, -3 + 2*x + 4*y]\n",
    "sol = sp.solve(eqs, (x, y))\n",
    "print(sol)"
   ]
  },
  {
   "cell_type": "markdown",
   "metadata": {},
   "source": [
    "Example polynomials: </p>\n",
    "$ f(x,y) = -1 + x^2 + y^2 $ </br>\n",
    "$ g(x,y) = 2x - y $ </p> \n",
    "\n",
    "Solution: $[x, y] = [ \\frac{1}{\\sqrt{5}},  \\frac{2}{\\sqrt{5}}$] </p>\n",
    "$~~~~~~~~~~~~~~~~~~~~~~~~~~~\\Bigg( [- \\frac{1}{\\sqrt{5}}, - \\frac{2}{\\sqrt{5}}] \\Bigg)$ </p>"
   ]
  },
  {
   "cell_type": "code",
   "execution_count": 44,
   "metadata": {},
   "outputs": [
    {
     "name": "stdout",
     "output_type": "stream",
     "text": [
      "[(sqrt(5)/5, 2*sqrt(5)/5)]\n"
     ]
    }
   ],
   "source": [
    "x,y = sp.symbols('x, y')\n",
    "eqs = [x**2 + y**2 -1, 2*x - y]\n",
    "sol = sp.solve(eqs, (x, y))\n",
    "\n",
    "#Show only the with x and y between 0 and 1\n",
    "sol = [s for s in sol if 0 <= s[0] <= 1 and 0 <= s[1] <= 1]\n",
    "print(sol)"
   ]
  },
  {
   "cell_type": "markdown",
   "metadata": {},
   "source": [
    "Example polynomials: </p>\n",
    "$ f(x,y) = 2 + 3x - x^2 + 5x^3 - 15y + 2y^2 + 8y^3 + 20xy + x^2y + 12xy^2 + 100x^2y^2 + 1000x^3y^2 + 598x^2y^3 - 2105x^3y^3$ </br>\n",
    "$ g(x,y) = x + x^2 + 2x^3 + y - 5y^2 -27.7xy^2 - 3x^2y^2 $ </p> \n",
    "\n",
    "Solution: $[x, y] = [0.1, 0.2]$ "
   ]
  },
  {
   "cell_type": "code",
   "execution_count": 57,
   "metadata": {},
   "outputs": [
    {
     "name": "stdout",
     "output_type": "stream",
     "text": [
      "[(0.100000000000000, 0.200000000000000)]\n"
     ]
    }
   ],
   "source": [
    "np.set_printoptions(precision=12)\n",
    "x,y = sp.symbols('x, y')\n",
    "eqs = [2 + 3*x - x**2 + 5*x**3 - 15*y + 2*y**2 + 8*y**3 + 20*x*y + x**2*y + 12*x*y**2 + 100*x**2*y**2 + 1000*x**3*y**2 + 598*x**2*y**3 - 2105*x**3*y**3, x + x**2 + 2*x**3 + y - 5*y**2 -27.7*x*y**2 - 3*x**2*y**2 ]\n",
    "sol = sp.solve(eqs, (x, y))\n",
    "\n",
    "#Show only the with x and y between 0 and 1\n",
    "sol = [s for s in sol if 0 <= s[0] <= 1 and 0 <= s[1] <= 1]\n",
    "print(sol)"
   ]
  },
  {
   "cell_type": "markdown",
   "metadata": {},
   "source": [
    "Example polynomials: </p>\n",
    "$ f(x,y,z) = -1.2568 + x + x^2 + 5x^3 - y + 3y^2 + 4z + xy + xyz^2$ </br>\n",
    "$ g(x,y,z) = -0.3129 + x^3 + 8y^2 - z^3 + yz^2 + 3x^3z $ </br> \n",
    "$ h(x,y,z) = 0.983 + 5x^3 - y + 8y^2 - 4z + z^2 + x^2y $ </p>\n",
    "\n",
    "Solution: $[x, y, z] = [0.1, 0.2, 0.3]$ "
   ]
  },
  {
   "cell_type": "code",
   "execution_count": 46,
   "metadata": {},
   "outputs": [
    {
     "name": "stdout",
     "output_type": "stream",
     "text": [
      "[(0.100000000000000, 0.200000000000000, 0.300000000000000)]\n"
     ]
    }
   ],
   "source": [
    "x,y,z= sp.symbols('x, y, z')\n",
    "eqs = [-1.2568 + x + x**2 + 5*x**3 - y + 3*y**2 + 4*z + x*y + x*y*z**2, -0.3129 + x**3 + 8*y**2 - z**3 + y*z**2 + 3*x**3*z, 0.983 + 5*x**3 - y + 8*y**2 - 4*z + z**2 + x**2*y]\n",
    "sol = sp.solve(eqs, (x, y, z))\n",
    "\n",
    "#Show only the with x and y between 0 and 1\n",
    "sol = [s for s in sol if 0 <= s[0] <= 1 and 0 <= s[1] <= 1]\n",
    "print(sol)"
   ]
  },
  {
   "cell_type": "code",
   "execution_count": 56,
   "metadata": {},
   "outputs": [
    {
     "name": "stdout",
     "output_type": "stream",
     "text": [
      "-1.404168\n",
      "3.59108\n",
      "-0.5648799999999994\n"
     ]
    }
   ],
   "source": [
    "np.set_printoptions(precision=12)\n",
    "x = 0.2000000000000\n",
    "y = 0.3000000000000\n",
    "f = -2 + x + x**2 + 7*x**3 + 2*y + x*y + 8*x**2*y - 2*x**3*y - 5*y**2 + x*y**2 - x**2*y**2 + 3*x**3*y**2 - y**3 + x*y**3 + x**2*y**3 + 12*x**3*y**3\n",
    "print(f)\n",
    "\n",
    "# detivative of f with respect to x\n",
    "f_x = 1 + 2*x + 21*x**2 + y + 16*x*y - 6*x**2*y + y**2 - 2*x*y**2 + 9*x**2*y**2 + y**3 + 2*x*y**3 + 36*x**2*y**3\n",
    "print(f_x)\n",
    "# detivative of f with respect to y\n",
    "f_y = 2 + x + 8*x**2 - 2*x**3 - 10*y + 2*x*y - 2*x**2*y + 6*x**3*y - 3*y**2 + 3*x*y**2 + 3*x**2*y**2 + 36*x**3*y**2\n",
    "print(f_y)"
   ]
  },
  {
   "cell_type": "markdown",
   "metadata": {},
   "source": []
  }
 ],
 "metadata": {
  "kernelspec": {
   "display_name": "base",
   "language": "python",
   "name": "python3"
  },
  "language_info": {
   "codemirror_mode": {
    "name": "ipython",
    "version": 3
   },
   "file_extension": ".py",
   "mimetype": "text/x-python",
   "name": "python",
   "nbconvert_exporter": "python",
   "pygments_lexer": "ipython3",
   "version": "3.10.9"
  }
 },
 "nbformat": 4,
 "nbformat_minor": 2
}
