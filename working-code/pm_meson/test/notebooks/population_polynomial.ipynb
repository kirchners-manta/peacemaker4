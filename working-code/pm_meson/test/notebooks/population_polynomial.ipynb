{
 "cells": [
  {
   "cell_type": "code",
   "execution_count": 16,
   "metadata": {},
   "outputs": [],
   "source": [
    "import numpy as np\n",
    "#from multivar_horner import HornerMultivarPolynomial\n",
    "import sympy as sp"
   ]
  },
  {
   "cell_type": "markdown",
   "metadata": {},
   "source": [
    "# Population polynomial - polynomial.f90 : newton"
   ]
  },
  {
   "cell_type": "markdown",
   "metadata": {},
   "source": [
    "The subroutine calculates the solution for n d-dimensional polynomial equations using the Newton-Raphson method in combination with the Horner method for multivariate polynomials. \n",
    "The Horner method is used for the calculation of the value of the polynomial and its derivatives at a given point."
   ]
  },
  {
   "cell_type": "markdown",
   "metadata": {},
   "source": [
    "#### $\\textbf{Newton-Raphson method using derivatives}$\n",
    "The Newton-Raphson method is an iterative method for finding the roots of a function. The method requires both the function $f(x)$ and the derivative $f'(x)$ at arbitrary points $x$. The formula consists geometrically of extending the tangent line at a current point $x_i$ until it intersects the x-axis. The intersection point is the next guess $x_{i+1}$. The formula for the one dimensional case is given by: </p>\n",
    "$$x_{i+1} = x_i - \\frac{f(x_i)}{f'(x_i)}$$\n",
    "This can be expressed in terms of a multiplication of the inverse of the Jacobian matrix with the function vector. The Jacobian matrix is the matrix of all first-order partial derivatives of the function. The formula for the multivariate case is given by: </p>\n",
    "$$x_{i+1} = x_i - J_f^{-1}(x_i) f(x_i)$$\n",
    "where $J$ is the Jacobian matrix and $f(x_i)$ is the function vector. The Jacobian matrix is given by: </p>\n",
    "$$J_f = \\begin{bmatrix} \\frac{\\partial f_1}{\\partial x_1} & \\frac{\\partial f_1}{\\partial x_2} & \\cdots & \\frac{\\partial f_1}{\\partial x_n} \\\\ \\frac{\\partial f_2}{\\partial x_1} & \\frac{\\partial f_2}{\\partial x_2} & \\cdots & \\frac{\\partial f_2}{\\partial x_n} \\\\ \\vdots & \\vdots & \\ddots & \\vdots \\\\ \\frac{\\partial f_n}{\\partial x_1} & \\frac{\\partial f_n}{\\partial x_2} & \\cdots & \\frac{\\partial f_n}{\\partial x_n} \\end{bmatrix}$$\n",
    "\n",
    "The subroutine calculates the inverse of the Jacobian matrix directly for the dimensions one, two and three. For higher dimensions, the subroutine uses the LU decomposition to calculate the inverse of the Jacobian matrix. The LU decomposition is a method for solving systems of linear equations. The method decomposes the matrix into a lower triangular matrix and an upper triangular matrix. The inverse of the Jacobian matrix is then calculated by solving the linear system for each column of the identity matrix. (Replace by LAPACK?) </p> \n",
    "\n",
    "#### $\\textbf{Horner method for multivariate polynomials}$\n",
    "The value of the function and its derivatives at a given point are calculated using the Horner method. The Horner method is a method for evaluating polynomials. The method is based on the factorization of the polynomial. In the one-dimensional case, the polynomial is written as: </p>\n",
    "$$p(x) = a_0 + a_1 x + a_2 x^2 + \\cdots + a_n x^n = a_0 + x(a_1 + x(a_2 + \\cdots + x(a_{n-1} + a_n x)))$$\n",
    "The derivative of the polynomial is calculated in a similar way using the chain rule. The multivariate polynomial is written as: </p>\n",
    "$$p(x_1, x_2, \\cdots, x_n) = a_0 + a_1 x_1 + a_2 x_1^2 + \\cdots + a_n x_1^{n_1} + a_{n+1} x_2 + a_{n+2} x_1 x_2 + \\cdots + a_{n+m} x_1^{n_1} x_2^{n_2} \\cdots x_m^{n_m}$$\n",
    "This is achieved by recursively evaluating the polynomial for each variable. </p></br>"
   ]
  },
  {
   "cell_type": "markdown",
   "metadata": {},
   "source": [
    "#### $\\textbf{Explicit usage}$\n",
    "One of the main tasks of the peacemaker code is the determination of the set of equilibrium cluster populations $\\{N_i\\}$. In the canonical ensemble, the equilibrium populations are determined by the minimization of the free energy (Helmholtz energy). The free energy is given by: </p>\n",
    "$$F = -k_{\\text{B}}T \\cdot \\ln{Q}$$\n",
    "where $Q$ is the partition function. The partition function is given by: </p>\n",
    "$$ Q = \\prod_{i=1}^L \\frac{1}{N_i!} q_i^{N_i}$$\n",
    "where $q_i$ is the partition function of the cluster $i$ and $L$ is the the total number of clusters in the clusterset. The partition function of the cluster $i$ is given by: </p>\n",
    "$$ q_i = q_{\\text{trans}}~q_{\\text{elec}}~q_{\\text{vib}}~q_{\\text{rot}}$$\n",
    "Thus, using Stirling's approximation: $\\ln{N!} = N \\ln{N} - N$, the Helmholtz energy can be expressed as: </p>\n",
    "$$\\begin{aligned} F  &= -k_{\\text{B}}T \\cdot \\ln{\\prod_{i=1}^L \\frac{1}{N_i!} q_i^{N_i}} \\\\\n",
    "     &= -k_{\\text{B}}T \\cdot \\sum_{i=1}^L \\ln{q_i^{N_i}} + \\ln{\\frac{1}{N_i!}} \\\\\n",
    "     &= -k_{\\text{B}}T \\cdot \\sum_{i=1}^L N_i\\ln{q_i} - \\ln{N_i!}\\\\\n",
    "     &= -k_{\\text{B}}T \\cdot \\sum_{i=1}^L N_i\\ln{q_i} - N_i\\ln{N_i}+N_i \\end{aligned}$$\n",
    "The expression has to be minimized with respect to the set of equilibrium populations $\\{N_i\\}$. </p>\n",
    "$$ \\begin{aligned}  &(1)~~~\\frac{\\partial F}{\\partial N_i} = -k_{\\text{B}}T \\cdot \\bigg( \\ln{q_i} - \\ln{N_i} \\bigg) = -k_{\\text{B}}T\\ln{\\frac{q_i}{N_i}} = 0 \\\\\n",
    "                    &(2)~~~\\frac{\\partial F}{\\partial N_i} = \\sum_{c=1}^K n_i^c \\frac{\\partial F}{\\partial N_c} = -k_{\\text{B}}T \\cdot \\sum_{c=1}^{K} n_i^c \\frac{\\partial}{\\partial N_c} \\bigg( \\sum_{i=1}^L N_i\\ln{q_i} - N_i\\ln{N_i}+N_i \\bigg) = -k_{\\text{B}}T \\sum_{c=1}^K n_i^c \\ln{\\frac{q_c}{N_c}} = 0 \\end{aligned}  $$\n",
    "\n",
    "\n",
    "$$ \\begin{aligned} (1) = (2) ~~~~&\\Leftrightarrow~~~~ \\sum_{c=1}^{K} n_i^c \\ln{\\frac{q_c}{N_c}} = \\ln{\\frac{q_i}{N_i}} \\\\\n",
    "                                 &\\Leftrightarrow~~~~ N_i = q_i \\prod_{c=1}^{K} \\bigg( \\frac{N_c}{q_c} \\bigg)^{n_i^c} \\end{aligned} $$\n",
    "\n",
    "With $K$ being the total number of components in the system. </br>\n",
    "This reduces the problem to finding the the monomer populations $N_c$, since the cluster polulations can be determined from them. \n",
    "For doing this, the conservation of the total number of atoms has to be taken into account, to construct the population polynomial. The conservation of the total number of atoms is given by: </p>\n",
    "$$ \\begin{aligned} \\sum_c^K N_c^{\\text{tot}} &= \\sum_{i=1}^L \\sum_{c=1}^{K} n_i^c N_i \\\\\n",
    "\\Leftrightarrow~~~~~~ 0 &= \\frac{\\sum_{i=1}^L \\sum_{c=1}^{K} n_i^c N_i}{\\sum_c^K N_c^{\\text{tot}}} - 1 \\\\\n",
    "                        &= \\frac{1}{\\sum_c^K N_c^{\\text{tot}}} \\sum_{i=1}^L \\sum_{c=1}^{K} n_i^c \\prod_c^K \\bigg[ q_i \\bigg( \\frac{N_c}{q_c} \\bigg)^{n_i^c} \\bigg] - 1 \\end{aligned} $$\n",
    "where $N_{\\text{tot}}$ is the total number of atoms in the system. </p>\n",
    "\n",
    "For soving an polynomial with $N_c$ unknowns, as many equations as unknowns are needed. The quantity Z is introduced. It does not have to represent any physical quantity. </p>\n",
    "$$\\textbf{n} = \\begin{bmatrix} n_1^a & n_2^a & \\cdots & n_L^a \\\\ n_1^b & n_2^b & \\cdots & n_L^b \\\\ \\vdots & \\vdots & \\ddots & \\vdots \\\\ n_1^K & n_2^K & \\cdots & n_L^K \\end{bmatrix}; ~~~~~\n",
    "   \\vec{N} = \\begin{bmatrix} N_1 \\\\ N_2 \\\\ \\vdots \\\\ N_L \\end{bmatrix}; ~~~~~\n",
    "   \\vec{N^{\\text{tot}}} = \\begin{bmatrix} N_a^{\\text{tot}} \\\\ N_b^{\\text{tot}} \\\\ \\vdots \\\\ N_K^{\\text{tot}} \\end{bmatrix}; ~~~~~\n",
    "   \\vec{Z} = \\begin{bmatrix} Z_1 \\\\ Z_2 \\\\ \\vdots \\\\ Z_K \\end{bmatrix}$$\n",
    "   It is obvious that: </p>\n",
    "$$ \\textbf{n} \\cdot \\vec{N} = \\vec{N^{\\text{tot}}}$$\n",
    "and thus: </p>\n",
    "$$ \\vec{Z}^T \\cdot \\textbf{n} \\cdot \\vec{N} = \\vec{Z}^T \\vec{N^{\\text{tot}}} $$\n",
    "Using the same rearrangement as above, the equation can be written as: </p>\n",
    "$$ 0 = \\frac{1}{\\sum_c^K Z_c N_c^{\\text{tot}}} \\sum_{i=1}^L \\sum_{c=1}^{K} Z_c n_i^c \\prod_c^K \\bigg[ q_i \\bigg( \\frac{N_c}{q_c} \\bigg)^{n_i^c} \\bigg] - 1 $$  \n",
    "\n",
    "\n",
    "The unknowns are the monomer populations $N_c$ and the powers are the number of particles of the corresponding component in the cluster.\n",
    "The rest is calculated as coefficients of the polynomial. In $\\textbf{Peacemaker}$ the -1 is obtained by setting the coefficient of the part with degree zero for all components to -1. </p>\n",
    "For a binary system with $K=2$ components, the population polynomial is given by: </p>\n",
    "$$  0 = \\sum_{i=1}^L \\frac{ n_i^a + n_i^b}{N_{\\text{tot}}} \\cdot q_i \\bigg( \\frac{N_a}{q_a} \\bigg)^{n_i^a} \\bigg( \\frac{N_b}{q_b} \\bigg)^{n_i^b} - 1 $$\n",
    "which can be written as ($N_a = x, N_b = y$): </p>\n",
    "$$ 0 = \\sum_{i=1}^L c_i \\cdot \\text{x}^{n_i^a} \\text{y}^{n_i^b} -1 $$\n",
    "For every cluster the coefficient has to be determined.\n",
    "In Peacemaker the generation of the $N_c$ linear independend equations is done by iterating $N_c$ times over the calculation of the coefficients. In the first round (for the first equation) $Z_c$ is one for all components. In the second round $Z_c$ is one for all components but two for the second component. This is done until $Z_c$ is one for all components but $K$ for the last component. Then the calculated coefficents are sorted into an array and solved by the $\\textbf{newton}$ subroutine. </p>"
   ]
  },
  {
   "cell_type": "markdown",
   "metadata": {},
   "source": [
    "## Newton Algorithm to solve the Population Polynomial - Test"
   ]
  },
  {
   "cell_type": "markdown",
   "metadata": {},
   "source": [
    "### Helper for finding the order of the polynomial coefficients in the array"
   ]
  },
  {
   "cell_type": "code",
   "execution_count": 17,
   "metadata": {},
   "outputs": [],
   "source": [
    "# Array telling which coefficient belongs to which index\n",
    "def coeff_order(degree):\n",
    "    # degree           : input         - Array containing the highest degree of each monomer\n",
    "    \n",
    "    coeff = np.zeros((np.product(degree), len(degree)))\n",
    "    \n",
    "    if len(degree) == 1:\n",
    "        for i in range(degree[0]):\n",
    "            coeff[i] = i\n",
    "            coeff = coeff.astype(int)\n",
    "        return coeff\n",
    "    elif len(degree) == 2:\n",
    "        for i in range(degree[0]):\n",
    "            for j in range(degree[1]):\n",
    "                coeff[i*(degree[1])+j] = [i,j]\n",
    "                coeff = coeff.astype(int)\n",
    "    elif len(degree) == 3:\n",
    "        for i in range(degree[0]):\n",
    "            for j in range(degree[1]):\n",
    "                for k in range(degree[2]):\n",
    "                    coeff[i*degree[1]+j*degree[2]+j+k] = [i,j,k]\n",
    "                    coeff = coeff.astype(int)\n",
    "    elif len(degree) == 4:\n",
    "        for i in range(degree[0]):\n",
    "            for j in range(degree[1]):\n",
    "                for k in range(degree[2]):\n",
    "                    for l in range(degree[3]):\n",
    "                        coeff[i+j*(degree[0])+k*(degree[0])*(degree[1])+l*(degree[0])*(degree[1])*(degree[2])] = [i,j,k,l]\n",
    "                        coeff = coeff.astype(int)\n",
    "    else: \n",
    "        print(\"The number of monomers is too high\")\n",
    "    \n",
    "\n",
    "    # n_comp is the number of possible combinations of the monomers in the system\n",
    "    n_comp = 1\n",
    "    for i in range(1, len(degree)+1):\n",
    "        n_comp = n_comp * degree[i-1]\n",
    "\n",
    "    # coeff_order is the array containing the degree of each monomer for all the possible combinations\n",
    "    # and all equations. It has the size of [n_comp*nr_monomers, nr_monomers]\n",
    "    coeff_order = np.zeros((np.product(degree)*len(degree), len(degree)))\n",
    "\n",
    "    # Loop over all clusters and set the coefficients\n",
    "    for cluster in range(len(coeff)):\n",
    "        index = coeff[cluster][0]\n",
    "\n",
    "        for j in range(1, len(degree)):\n",
    "            index += coeff[cluster][j] * np.product(degree[:j])\n",
    "\n",
    "        for k in range(0, len(degree)):\n",
    "            coeff_order[index + k*np.product(degree)] += coeff[cluster]\n",
    "    \n",
    "    return coeff_order"
   ]
  },
  {
   "cell_type": "markdown",
   "metadata": {},
   "source": [
    "####  Degree = Highest population of the monomer in the clusterset + 1\n",
    "##### One monomer - highest degree [4]"
   ]
  },
  {
   "cell_type": "code",
   "execution_count": 18,
   "metadata": {},
   "outputs": [
    {
     "name": "stdout",
     "output_type": "stream",
     "text": [
      "Length of coefficient array:  5\n",
      "coefficient array:  \n",
      " [[0]\n",
      " [1]\n",
      " [2]\n",
      " [3]\n",
      " [4]]\n"
     ]
    }
   ],
   "source": [
    "degree = []\n",
    "degree = [5]\n",
    "coeffs_all = coeff_order(degree)\n",
    "\n",
    "print(\"Length of coefficient array: \" , len(coeffs_all))\n",
    "print(\"coefficient array: \", \"\\n\", coeffs_all[0:5])"
   ]
  },
  {
   "cell_type": "markdown",
   "metadata": {},
   "source": [
    "##### Two monomers - highest degree [3,3]"
   ]
  },
  {
   "cell_type": "code",
   "execution_count": 19,
   "metadata": {},
   "outputs": [
    {
     "name": "stdout",
     "output_type": "stream",
     "text": [
      "Length of coefficient array:  32\n",
      "coefficient array:  \n",
      " [[0. 0.]\n",
      " [1. 0.]\n",
      " [2. 0.]\n",
      " [3. 0.]\n",
      " [0. 1.]\n",
      " [1. 1.]\n",
      " [2. 1.]\n",
      " [3. 1.]\n",
      " [0. 2.]\n",
      " [1. 2.]\n",
      " [2. 2.]\n",
      " [3. 2.]\n",
      " [0. 3.]\n",
      " [1. 3.]\n",
      " [2. 3.]\n",
      " [3. 3.]]\n"
     ]
    }
   ],
   "source": [
    "degree = (4,4)\n",
    "coeffs_all = coeff_order(degree)\n",
    "\n",
    "print(\"Length of coefficient array: \",len(coeffs_all))\n",
    "print(\"coefficient array: \", \"\\n\", coeffs_all[16:32])"
   ]
  },
  {
   "cell_type": "markdown",
   "metadata": {},
   "source": [
    "##### Three monomers - highest degree [3,2,3]"
   ]
  },
  {
   "cell_type": "code",
   "execution_count": 20,
   "metadata": {},
   "outputs": [
    {
     "name": "stdout",
     "output_type": "stream",
     "text": [
      "Length of coefficient array:  144\n",
      "coefficient array:  \n",
      " [[ 1.  0.  0.  0.]\n",
      " [ 2.  1.  0.  0.]\n",
      " [ 3.  2.  0.  0.]\n",
      " [ 4.  3.  0.  0.]\n",
      " [ 5.  0.  0.  0.]\n",
      " [ 6.  0.  0.  0.]\n",
      " [ 7.  0.  0.  0.]\n",
      " [ 8.  3.  1.  0.]\n",
      " [ 9.  0.  0.  0.]\n",
      " [10.  0.  0.  0.]\n",
      " [11.  0.  0.  0.]\n",
      " [12.  3.  2.  0.]\n",
      " [13.  0.  0.  1.]\n",
      " [14.  1.  0.  1.]\n",
      " [15.  2.  0.  1.]\n",
      " [16.  3.  0.  1.]\n",
      " [17.  0.  0.  0.]\n",
      " [18.  0.  0.  0.]\n",
      " [19.  0.  0.  0.]\n",
      " [20.  3.  1.  1.]\n",
      " [21.  0.  0.  0.]\n",
      " [22.  0.  0.  0.]\n",
      " [23.  0.  0.  0.]\n",
      " [24.  3.  2.  1.]\n",
      " [25.  0.  0.  2.]\n",
      " [26.  1.  0.  2.]\n",
      " [27.  2.  0.  2.]\n",
      " [28.  3.  0.  2.]\n",
      " [29.  0.  0.  0.]\n",
      " [30.  0.  0.  0.]\n",
      " [31.  2.  1.  2.]\n",
      " [32.  3.  1.  2.]\n",
      " [33.  0.  0.  0.]\n",
      " [34.  0.  0.  0.]\n",
      " [35.  2.  2.  2.]\n",
      " [36.  3.  2.  2.]\n",
      " [37.  0.  0.  0.]\n",
      " [38.  0.  0.  0.]\n",
      " [39.  0.  0.  0.]\n",
      " [40.  3.  0.  3.]\n",
      " [41.  0.  0.  0.]\n",
      " [42.  0.  0.  0.]\n",
      " [43.  0.  0.  0.]\n",
      " [44.  3.  1.  3.]\n",
      " [45.  0.  0.  0.]\n",
      " [46.  0.  0.  0.]\n",
      " [47.  0.  0.  0.]\n",
      " [48.  3.  2.  3.]]\n"
     ]
    }
   ],
   "source": [
    "degree = (4,3,4)\n",
    "coeffs_all = coeff_order(degree)\n",
    "\n",
    "print(\"Length of coefficient array: \", len(coeffs_all))\n",
    "array = np.array([i for i in range(1, 145)])\n",
    "coeffs_all = np.column_stack((array, coeffs_all))\n",
    "print(\"coefficient array: \", \"\\n\", coeffs_all[0:48])"
   ]
  },
  {
   "cell_type": "markdown",
   "metadata": {},
   "source": [
    "##### Four monomers - highest degree [4,1,2,2]"
   ]
  },
  {
   "cell_type": "code",
   "execution_count": 21,
   "metadata": {},
   "outputs": [
    {
     "name": "stdout",
     "output_type": "stream",
     "text": [
      "Length of coefficient array:  360\n",
      "coefficient array:  \n",
      " [[ 1.  0.  0.  0.  0.]\n",
      " [ 2.  1.  0.  0.  0.]\n",
      " [ 3.  2.  0.  0.  0.]\n",
      " [ 4.  3.  0.  0.  0.]\n",
      " [ 5.  4.  0.  0.  0.]\n",
      " [ 6.  0.  1.  0.  0.]\n",
      " [ 7.  1.  1.  0.  0.]\n",
      " [ 8.  2.  1.  0.  0.]\n",
      " [ 9.  3.  1.  0.  0.]\n",
      " [10.  4.  1.  0.  0.]\n",
      " [11.  0.  0.  1.  0.]\n",
      " [12.  1.  0.  1.  0.]\n",
      " [13.  2.  0.  1.  0.]\n",
      " [14.  3.  0.  1.  0.]\n",
      " [15.  4.  0.  1.  0.]\n",
      " [16.  0.  1.  1.  0.]\n",
      " [17.  1.  1.  1.  0.]\n",
      " [18.  2.  1.  1.  0.]\n",
      " [19.  3.  1.  1.  0.]\n",
      " [20.  4.  1.  1.  0.]\n",
      " [21.  0.  0.  2.  0.]\n",
      " [22.  1.  0.  2.  0.]\n",
      " [23.  2.  0.  2.  0.]\n",
      " [24.  3.  0.  2.  0.]\n",
      " [25.  4.  0.  2.  0.]\n",
      " [26.  0.  1.  2.  0.]\n",
      " [27.  1.  1.  2.  0.]\n",
      " [28.  2.  1.  2.  0.]\n",
      " [29.  3.  1.  2.  0.]\n",
      " [30.  4.  1.  2.  0.]\n",
      " [31.  0.  0.  0.  1.]\n",
      " [32.  1.  0.  0.  1.]\n",
      " [33.  2.  0.  0.  1.]\n",
      " [34.  3.  0.  0.  1.]\n",
      " [35.  4.  0.  0.  1.]\n",
      " [36.  0.  1.  0.  1.]\n",
      " [37.  1.  1.  0.  1.]\n",
      " [38.  2.  1.  0.  1.]\n",
      " [39.  3.  1.  0.  1.]\n",
      " [40.  4.  1.  0.  1.]\n",
      " [41.  0.  0.  1.  1.]\n",
      " [42.  1.  0.  1.  1.]\n",
      " [43.  2.  0.  1.  1.]\n",
      " [44.  3.  0.  1.  1.]\n",
      " [45.  4.  0.  1.  1.]\n",
      " [46.  0.  1.  1.  1.]\n",
      " [47.  1.  1.  1.  1.]\n",
      " [48.  2.  1.  1.  1.]\n",
      " [49.  3.  1.  1.  1.]\n",
      " [50.  4.  1.  1.  1.]\n",
      " [51.  0.  0.  2.  1.]\n",
      " [52.  1.  0.  2.  1.]\n",
      " [53.  2.  0.  2.  1.]\n",
      " [54.  3.  0.  2.  1.]\n",
      " [55.  4.  0.  2.  1.]\n",
      " [56.  0.  1.  2.  1.]\n",
      " [57.  1.  1.  2.  1.]\n",
      " [58.  2.  1.  2.  1.]\n",
      " [59.  3.  1.  2.  1.]\n",
      " [60.  4.  1.  2.  1.]\n",
      " [61.  0.  0.  0.  2.]\n",
      " [62.  1.  0.  0.  2.]\n",
      " [63.  2.  0.  0.  2.]\n",
      " [64.  3.  0.  0.  2.]\n",
      " [65.  4.  0.  0.  2.]\n",
      " [66.  0.  1.  0.  2.]\n",
      " [67.  1.  1.  0.  2.]\n",
      " [68.  2.  1.  0.  2.]\n",
      " [69.  3.  1.  0.  2.]\n",
      " [70.  4.  1.  0.  2.]\n",
      " [71.  0.  0.  1.  2.]\n",
      " [72.  1.  0.  1.  2.]\n",
      " [73.  2.  0.  1.  2.]\n",
      " [74.  3.  0.  1.  2.]\n",
      " [75.  4.  0.  1.  2.]\n",
      " [76.  0.  1.  1.  2.]\n",
      " [77.  1.  1.  1.  2.]\n",
      " [78.  2.  1.  1.  2.]\n",
      " [79.  3.  1.  1.  2.]\n",
      " [80.  4.  1.  1.  2.]\n",
      " [81.  0.  0.  2.  2.]\n",
      " [82.  1.  0.  2.  2.]\n",
      " [83.  2.  0.  2.  2.]\n",
      " [84.  3.  0.  2.  2.]\n",
      " [85.  4.  0.  2.  2.]\n",
      " [86.  0.  1.  2.  2.]\n",
      " [87.  1.  1.  2.  2.]\n",
      " [88.  2.  1.  2.  2.]\n",
      " [89.  3.  1.  2.  2.]\n",
      " [90.  4.  1.  2.  2.]]\n"
     ]
    }
   ],
   "source": [
    "degree = (5,2,3,3)\n",
    "coeffs_all = coeff_order(degree)\n",
    "\n",
    "print(\"Length of coefficient array: \", len(coeffs_all))\n",
    "array = np.array([i for i in range(1, 361)])\n",
    "coeffs_all = np.column_stack((array, coeffs_all))\n",
    "print(\"coefficient array: \", \"\\n\", coeffs_all[0:90])"
   ]
  },
  {
   "cell_type": "markdown",
   "metadata": {},
   "source": [
    "### Solve polynomials with sympy"
   ]
  },
  {
   "cell_type": "markdown",
   "metadata": {},
   "source": [
    "Example polynomials: </p>\n",
    "$ f(x,y) = -1 + x + y $ </br>\n",
    "$ g(x,y) = -3 + 2x + 4y $ </p> \n",
    "\n",
    "Solution: $[x, y] = [0.5, 0.5]$ </p>"
   ]
  },
  {
   "cell_type": "code",
   "execution_count": 22,
   "metadata": {},
   "outputs": [
    {
     "name": "stdout",
     "output_type": "stream",
     "text": [
      "{x: 1/2, y: 1/2}\n"
     ]
    }
   ],
   "source": [
    "x,y = sp.symbols('x, y')\n",
    "eqs = [x + y -1, -3 + 2*x + 4*y]\n",
    "sol = sp.solve(eqs, (x, y))\n",
    "print(sol)"
   ]
  },
  {
   "cell_type": "markdown",
   "metadata": {},
   "source": [
    "Example polynomials: </p>\n",
    "$ f(x,y) = -1 + x^2 + y^2 $ </br>\n",
    "$ g(x,y) = 2x - y $ </p> \n",
    "\n",
    "Solution: $[x, y] = [ \\frac{1}{\\sqrt{5}},  \\frac{2}{\\sqrt{5}}$] </p>\n",
    "$~~~~~~~~~~~~~~~~~~~~~~~~~~~\\Bigg( [- \\frac{1}{\\sqrt{5}}, - \\frac{2}{\\sqrt{5}}] \\Bigg)$ </p>"
   ]
  },
  {
   "cell_type": "code",
   "execution_count": 23,
   "metadata": {},
   "outputs": [
    {
     "name": "stdout",
     "output_type": "stream",
     "text": [
      "[(sqrt(5)/5, 2*sqrt(5)/5)]\n"
     ]
    }
   ],
   "source": [
    "x,y = sp.symbols('x, y')\n",
    "eqs = [x**2 + y**2 -1, 2*x - y]\n",
    "sol = sp.solve(eqs, (x, y))\n",
    "\n",
    "#Show only the with x and y between 0 and 1\n",
    "sol = [s for s in sol if 0 <= s[0] <= 1 and 0 <= s[1] <= 1]\n",
    "print(sol)"
   ]
  },
  {
   "cell_type": "markdown",
   "metadata": {},
   "source": [
    "Example polynomials: </p>\n",
    "$ f(x,y) = 2 + 3x - x^2 + 5x^3 - 15y + 2y^2 + 8y^3 + 20xy + x^2y + 12xy^2 + 100x^2y^2 + 1000x^3y^2 + 598x^2y^3 - 2105x^3y^3$ </br>\n",
    "$ g(x,y) = x + x^2 + 2x^3 + y - 5y^2 -27.7xy^2 - 3x^2y^2 $ </p> \n",
    "\n",
    "Solution: $[x, y] = [0.1, 0.2]$ "
   ]
  },
  {
   "cell_type": "code",
   "execution_count": 24,
   "metadata": {},
   "outputs": [
    {
     "name": "stdout",
     "output_type": "stream",
     "text": [
      "[(0.100000000000000, 0.200000000000000)]\n"
     ]
    }
   ],
   "source": [
    "np.set_printoptions(precision=12)\n",
    "x,y = sp.symbols('x, y')\n",
    "eqs = [2 + 3*x - x**2 + 5*x**3 - 15*y + 2*y**2 + 8*y**3 + 20*x*y + x**2*y + 12*x*y**2 + 100*x**2*y**2 + 1000*x**3*y**2 + 598*x**2*y**3 - 2105*x**3*y**3, x + x**2 + 2*x**3 + y - 5*y**2 -27.7*x*y**2 - 3*x**2*y**2 ]\n",
    "sol = sp.solve(eqs, (x, y))\n",
    "\n",
    "#Show only the with x and y between 0 and 1\n",
    "sol = [s for s in sol if 0 <= s[0] <= 1 and 0 <= s[1] <= 1]\n",
    "print(sol)"
   ]
  },
  {
   "cell_type": "markdown",
   "metadata": {},
   "source": [
    "Example polynomials: </p>\n",
    "$ f(x,y,z) = -1.2568 + x + x^2 + 5x^3 - y + 3y^2 + 4z + xy + xyz^2$ </br>\n",
    "$ g(x,y,z) = -0.3129 + x^3 + 8y^2 - z^3 + yz^2 + 3x^3z $ </br> \n",
    "$ h(x,y,z) = 0.983 + 5x^3 - y + 8y^2 - 4z + z^2 + x^2y $ </p>\n",
    "\n",
    "Solution: $[x, y, z] = [0.1, 0.2, 0.3]$ "
   ]
  },
  {
   "cell_type": "code",
   "execution_count": 25,
   "metadata": {},
   "outputs": [],
   "source": [
    "#x,y,z= sp.symbols('x, y, z')\n",
    "#eqs = [-1.2568 + x + x**2 + 5*x**3 - y + 3*y**2 + 4*z + x*y + x*y*z**2, -0.3129 + x**3 + 8*y**2 - z**3 + y*z**2 + 3*x**3*z, 0.983 + 5*x**3 - y + 8*y**2 - 4*z + z**2 + x**2*y]\n",
    "#sol = sp.solve(eqs, (x, y, z))\n",
    "#\n",
    "##Show only the with x and y between 0 and 1\n",
    "#sol = [s for s in sol if 0 <= s[0] <= 1 and 0 <= s[1] <= 1]\n",
    "#print(sol)"
   ]
  },
  {
   "cell_type": "markdown",
   "metadata": {},
   "source": [
    "Example polynomials: </p>\n",
    "$ f(a, b, c, d) =  0.61790213 + a + 2a^2 + 3a^3 -5a^4 + ab - 2abcd - 5bc^2 - 8cd $ </br>\n",
    "$ g(a, b, c, d) = 0.3488084515 + a^3 - 4b + 6ac^2 + 5a^3bd^2 + 5bd $ </br>\n",
    "$ h(a, b, c, d) = -0.17944167 + 3a^2 -a^3 + a^3b + bcd^2 -c^2d^2 $ </br>\n",
    "$ i(a, b, c, d) = -0.1328316336 + a - a^2b + 8bc^2d^2 - 7c^2d + 6a^3d^2 $ </p>\n",
    "\n",
    "Solution: $[a, ~b, ~c, ~d] = [0.23,~ 0.53,~ 0.19,~ 0.64]$ "
   ]
  },
  {
   "cell_type": "code",
   "execution_count": 26,
   "metadata": {},
   "outputs": [],
   "source": [
    "#a,b,c,d = sp.symbols('a,b,c,d')\n",
    "#eqs = [0.61790213 + a + 2*a**2 + 3*a**3 -5*a**4 + a*b - 2*a*b*c*d - 5*b*c**2 - 8*c*d, 0.3488084515 + a**3 - 4*b + 6*a*c**2 + 5*a**3*b*d**2 + 5*b*d, -0.17944167 + 3*a**2 -a**3 + a**3*b + b*c*d**2 -c**2*d**2, \n",
    "#       -0.1328316336 + a - a**2*b + 8*b*c**2*d**2 - 7*c**2*d + 6*a**3*d**2]\n",
    "#sol = sp.solve(eqs, (a,b,c,d))\n",
    "#\n",
    "##Show only the with x and y between 0 and 1\n",
    "#sol = [s for s in sol if 0 <= s[0] <= 1 and 0 <= s[1] <= 1]\n",
    "#print(sol)"
   ]
  },
  {
   "cell_type": "markdown",
   "metadata": {},
   "source": [
    "### Horner"
   ]
  },
  {
   "cell_type": "code",
   "execution_count": 27,
   "metadata": {},
   "outputs": [
    {
     "name": "stdout",
     "output_type": "stream",
     "text": [
      "-1.404168\n",
      "3.59108\n",
      "-0.5648799999999994\n"
     ]
    }
   ],
   "source": [
    "np.set_printoptions(precision=12)\n",
    "x = 0.2000000000000\n",
    "y = 0.3000000000000\n",
    "f = -2 + x + x**2 + 7*x**3 + 2*y + x*y + 8*x**2*y - 2*x**3*y - 5*y**2 + x*y**2 - x**2*y**2 + 3*x**3*y**2 - y**3 + x*y**3 + x**2*y**3 + 12*x**3*y**3\n",
    "print(f)\n",
    "\n",
    "# detivative of f with respect to x\n",
    "f_x = 1 + 2*x + 21*x**2 + y + 16*x*y - 6*x**2*y + y**2 - 2*x*y**2 + 9*x**2*y**2 + y**3 + 2*x*y**3 + 36*x**2*y**3\n",
    "print(f_x)\n",
    "# detivative of f with respect to y\n",
    "f_y = 2 + x + 8*x**2 - 2*x**3 - 10*y + 2*x*y - 2*x**2*y + 6*x**3*y - 3*y**2 + 3*x*y**2 + 3*x**2*y**2 + 36*x**3*y**2\n",
    "print(f_y)"
   ]
  },
  {
   "cell_type": "markdown",
   "metadata": {},
   "source": [
    "# Calculation of the remaining coefficients\n",
    "$$ \\begin{aligned} N_i &= q_i \\prod_{c=1}^{K} \\bigg( \\frac{N_c}{q_c} \\bigg)^{n_i^c} \\\\\n",
    "   ln(N_i) &= ln(q_i) + \\sum_{c=1}^K n_i^c \\cdot  \\bigg( \\ln{N_c} - \\ln{q_c} \\bigg) \\end{aligned}$$"
   ]
  },
  {
   "cell_type": "code",
   "execution_count": 75,
   "metadata": {},
   "outputs": [],
   "source": [
    "def calculate_remaining_coefficents(monomer_populations, populations, lnq, clusterset, monomer):\n",
    "    # monomer_populations : input         - Array containing the monomer populations (length = number of monomers)\n",
    "    # populations         : input/output  - Array containing the populations of all the clusters (length = number of clusters)\n",
    "    # lnq                 : input         - Array containing the natural logarithm of the partition function\n",
    "    # lnq_monomer         : input         - Array containing the natural logarithm of the partition function of the monomers\n",
    "    # clusterset          : input         - Array containing the clusters\n",
    "    \n",
    "    for i in range(len(clusterset)):\n",
    "        populations[i] = lnq[i]\n",
    "        for c in range(len(monomer_populations)):\n",
    "            populations[i] += clusterset[i][c] * (np.log(monomer_populations[c]) - lnq[monomer[c]])\n",
    "        populations[i] = np.exp(populations[i])\n",
    "    \n",
    "    return populations"
   ]
  },
  {
   "cell_type": "markdown",
   "metadata": {},
   "source": [
    "#### Tests"
   ]
  },
  {
   "cell_type": "code",
   "execution_count": 76,
   "metadata": {},
   "outputs": [
    {
     "name": "stdout",
     "output_type": "stream",
     "text": [
      "[1.000000000000e-02 2.195246544376e-04 2.000000000000e-01\n",
      " 5.443077197365e-06 8.118571642079e-13 3.000000000000e-02]\n"
     ]
    }
   ],
   "source": [
    "clusterset = [[1, 0, 0], [1, 2, 0], [0, 1, 0], [1, 1, 1], [2, 1, 3], [0, 0, 1]]\n",
    "populations = np.zeros(len(clusterset))\n",
    "monomer_populations = [0.01, 0.2, 0.03]\n",
    "lnq = [1.2, 3.2, 1.3, 1.2, 0.5, 1.1]\n",
    "monomer = [0, 2, 5]\n",
    "\n",
    "populations = calculate_remaining_coefficents(monomer_populations, populations, lnq, clusterset, monomer)\n",
    "print(populations)"
   ]
  },
  {
   "cell_type": "code",
   "execution_count": 103,
   "metadata": {},
   "outputs": [
    {
     "name": "stdout",
     "output_type": "stream",
     "text": [
      "[2.000000000000e+023 1.088297856368e+171                 inf\n",
      " 1.128067738370e+082 1.200000000000e+023 2.523225797410e+148\n",
      " 3.100000000000e+022 1.142209387045e+164 5.400000000000e+020]\n"
     ]
    },
    {
     "name": "stderr",
     "output_type": "stream",
     "text": [
      "/tmp/ipykernel_9431/2948228026.py:12: RuntimeWarning: overflow encountered in exp\n",
      "  populations[i] = np.exp(populations[i])\n"
     ]
    }
   ],
   "source": [
    "clusterset = [[1, 0, 0, 0], [1, 2, 0, 5], [0, 1, 40, 2], [1, 1, 0, 1], [0, 1, 0, 0], [2, 0, 3, 1], [0, 0, 1, 0], [2, 3, 1, 1], [0, 0, 0, 1]]\n",
    "populations = np.zeros(len(clusterset))\n",
    "monomer_populations = [2.0e23, 1.2e23, 3.1e22, 5.4e20]\n",
    "lnq = [-3.2, 5.0, 25, 36.2, 4.0, 28.3, 0.8, 18.9, 1.0]\n",
    "monomer = [0, 4, 6, 8]\n",
    "\n",
    "populations = calculate_remaining_coefficents(monomer_populations, populations, lnq, clusterset, monomer)\n",
    "print(populations)"
   ]
  },
  {
   "cell_type": "code",
   "execution_count": null,
   "metadata": {},
   "outputs": [],
   "source": []
  }
 ],
 "metadata": {
  "kernelspec": {
   "display_name": "base",
   "language": "python",
   "name": "python3"
  },
  "language_info": {
   "codemirror_mode": {
    "name": "ipython",
    "version": 3
   },
   "file_extension": ".py",
   "mimetype": "text/x-python",
   "name": "python",
   "nbconvert_exporter": "python",
   "pygments_lexer": "ipython3",
   "version": "3.10.9"
  }
 },
 "nbformat": 4,
 "nbformat_minor": 2
}
