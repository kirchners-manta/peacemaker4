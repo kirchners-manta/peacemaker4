{
 "cells": [
  {
   "cell_type": "code",
   "execution_count": 135,
   "metadata": {},
   "outputs": [],
   "source": [
    "import numpy as np"
   ]
  },
  {
   "cell_type": "markdown",
   "metadata": {},
   "source": [
    "### Helper for coefficients"
   ]
  },
  {
   "cell_type": "code",
   "execution_count": 136,
   "metadata": {},
   "outputs": [],
   "source": [
    "def coeff_order(monomers, degree, clustersets):\n",
    "    # monomers      : Number of components in the system\n",
    "    # degree        : Array with length monomers containing the highest degrees of the components\n",
    "    # clustersets   : The coefficients are assigned corresponding to the composition of the clusters\n",
    "\n",
    "    # n_comp : number of coefficients for one polynomial\n",
    "    n_comp = 1\n",
    "    for i in range(1, len(degree)+1):\n",
    "        n_comp = n_comp * degree[i-1]\n",
    "\n",
    "    # The coeff array has the length of (n_comp * number of components in the system) since \n",
    "    # number of components in the system equations are needed to solve the problem\n",
    "    coeffs = np.zeros(n_comp*monomers)\n",
    "\n",
    "    # For each equation the first coeff is set to -1.0\n",
    "    for i in range(0, len(degree)):\n",
    "        coeffs[i*n_comp] = -1.0\n",
    "\n",
    "    print(coeffs)\n",
    "\n",
    "    # Loop over all possible combinations\n",
    "    for i in range(len(clustersets)):\n",
    "        index = clustersets[i][0]\n",
    "\n",
    "        for j in range(1, monomers):\n",
    "            index += clustersets[i][j] * np.product(degree[:j])\n",
    "\n",
    "        for k in range(1, monomers):\n",
    "            coeffs[index + (i-1)*n_comp] = 1"
   ]
  },
  {
   "cell_type": "code",
   "execution_count": 137,
   "metadata": {},
   "outputs": [
    {
     "name": "stdout",
     "output_type": "stream",
     "text": [
      "[-1.  0.  0.  0.  0.  0.  0.  0.  0.  0.  0.  0.  0.  0.  0.  0. -1.  0.\n",
      "  0.  0.  0.  0.  0.  0.  0.  0.  0.  0.  0.  0.  0.  0.]\n"
     ]
    }
   ],
   "source": [
    "monomers = 2\n",
    "degree = (4,4)\n",
    "clusterset = [[1,0], [0,1], [2,0]]\n",
    "\n",
    "coeff_order(monomers, degree, clusterset)"
   ]
  },
  {
   "cell_type": "markdown",
   "metadata": {},
   "source": []
  }
 ],
 "metadata": {
  "kernelspec": {
   "display_name": "base",
   "language": "python",
   "name": "python3"
  },
  "language_info": {
   "codemirror_mode": {
    "name": "ipython",
    "version": 3
   },
   "file_extension": ".py",
   "mimetype": "text/x-python",
   "name": "python",
   "nbconvert_exporter": "python",
   "pygments_lexer": "ipython3",
   "version": "3.6.15"
  }
 },
 "nbformat": 4,
 "nbformat_minor": 2
}
