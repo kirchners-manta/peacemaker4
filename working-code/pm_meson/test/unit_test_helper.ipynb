{
 "cells": [
  {
   "cell_type": "code",
   "execution_count": 92,
   "metadata": {},
   "outputs": [],
   "source": [
    "# constants\n",
    "from scipy import constants\n",
    "import numpy as np"
   ]
  },
  {
   "cell_type": "markdown",
   "metadata": {},
   "source": [
    "##### Constants (Peacemaker)"
   ]
  },
  {
   "cell_type": "code",
   "execution_count": 93,
   "metadata": {},
   "outputs": [],
   "source": [
    "pi = 4.0 * np.arctan(1.0)\n",
    "planck = 6.62606957e-34         # J s\n",
    "avogadro = 6.0221413e23\n",
    "kb = 1.3806488e-23              # J K^-1\n",
    "speed_of_light = 299792458.0    # m s^-1\n",
    "amu = 1.660538921e-27           # kg\n",
    "gas_constant = avogadro*kb\n",
    "hbar = planck/(2.0*pi)\n",
    "global_eps = 1.0e-10"
   ]
  },
  {
   "cell_type": "markdown",
   "metadata": {},
   "source": [
    "# Partition Functions"
   ]
  },
  {
   "cell_type": "markdown",
   "metadata": {},
   "source": [
    "### Vibrational Partition Fuction (calculate_lnqvib)"
   ]
  },
  {
   "cell_type": "markdown",
   "metadata": {},
   "source": [
    "#### Harmonic oscillator\n",
    "$q_{\\text{vib}} = \\frac{\\exp(-\\Theta^{\\text{vib}}/2T)}{1-\\exp(-\\Theta^{\\text{vib}}/T)}$ </p>\n",
    "$\\Theta^{\\text{vib}} = \\frac{h\\nu}{k_B}$ </p>\n",
    "$\\frac{h\\nu}{k_BT} = \\frac{hc}{k_BT} \\cdot \\~{v}$ "
   ]
  },
  {
   "cell_type": "code",
   "execution_count": 94,
   "metadata": {},
   "outputs": [],
   "source": [
    "# Case 1: \n",
    "#           Free rotator = False\n",
    "#           Anharmonicity = 0\n",
    "\n",
    "def lnqvib_case1(lnqvib, temp, freqs):\n",
    "    \"\"\"\n",
    "    Calculate the vibrational partition function for a free rotator\n",
    "    \"\"\"\n",
    "    # hc/k\n",
    "    factor = planck * speed_of_light * 100 / kb \n",
    "    \n",
    "    for i in range(len(freqs)):\n",
    "        # Harmonic oscillator\n",
    "        t_vib = factor * freqs[i]\n",
    "        lnq = -t_vib / (2.0 * temp) - np.log(1 - np.exp(-t_vib / temp))\n",
    "        \n",
    "        lnqvib += lnq\n",
    "    return lnqvib"
   ]
  },
  {
   "cell_type": "markdown",
   "metadata": {},
   "source": [
    "#### Morse oscillator \n",
    "$E_n = hc\\nu [(n+ \\frac{1}{2})-\\mathcal{X}_e(n+ \\frac{1}{2})^2]~~~~~~~~~~~~~~~~~~~~~~~~~~~~~~~~~~~~~~~~~~~~~~$ \n",
    "$\\mathcal{X}_e$ : the anharmonicity constant </p>\n",
    "$q_i^{\\text{morse}} = \\prod_{\\mu=1}^{\\mu_{\\text{max}}} \\sum_{n=0}^{n^{\\text{max}}} \\exp(-(n+ \\frac{1}{2})) \\frac{\\Theta_{i,\\mu}^{\\text{vib}}}{T}+\\mathcal{X}_e(n+ \\frac{1}{2})^2\\frac{\\Theta_{i,\\mu}^{\\text{vib}}}{T}~~~~~~$  $\\mu$ : vibrational modes </p> \n",
    "$~~~~~~~~~~~~~~~~~~~~~~~~~~~~~~~~~~~~~~~~~~~~~~~~~~~~~~~~~~~~~~~~~~~~~~~~~~~~~~~~~~~~~~~~~~~~~~~~~~~~~~$ \n",
    "$n^{\\text{max}}$ : highest vibrational energy level before dissociation for the respective mode </p>\n",
    "\n",
    "$\\Rightarrow$ Strekalov $\\Rightarrow$ </p>\n",
    "$q_i^{\\text{morse}} = \\prod_{\\mu=1}^{\\mu_{\\text{max}}} \\frac{1}{2 \\cdot \\sinh(\\frac{\\Theta_{i,\\mu}^{\\text{vib}}}{2T})} \\exp(\\mathcal{X}\\frac{\\Theta_{i,\\mu}^{\\text{vib}}}{T}(\\frac{1}{4}+\\frac{1}{2 \\cdot \\sinh(\\frac{\\Theta_{\\mu}^{\\text{vib}}}{2T})^2}))$ </p>"
   ]
  },
  {
   "cell_type": "code",
   "execution_count": 95,
   "metadata": {},
   "outputs": [],
   "source": [
    "# Case 2:\n",
    "#           Free rotator = False\n",
    "#           Anharmonicity /= 0\n",
    "\n",
    "def lnqvib_case2(lnqvib, temp, freqs, anharm_const):\n",
    "    \"\"\"\n",
    "    Calculate the vibrational partition function for a free rotator\n",
    "    \"\"\"\n",
    "    # hc/k\n",
    "    factor = planck * speed_of_light * 100 / kb \n",
    "    \n",
    "    for i in range(len(freqs)):\n",
    "        # Morse oscillator\n",
    "        t_vib = factor * freqs[i]\n",
    "        # denk an die logaritmus gesetze\n",
    "        lnqvib = lnqvib - np.log(2.0 * np.sinh(t_vib / (2.0 * temp))) + anharm_const * (t_vib / temp) * (0.25 + 1.0 / (2.0 * np.sinh(t_vib / (2.0 * temp))**2))\n",
    "        \n",
    "    return lnqvib"
   ]
  },
  {
   "cell_type": "code",
   "execution_count": 96,
   "metadata": {},
   "outputs": [
    {
     "name": "stdout",
     "output_type": "stream",
     "text": [
      "result 0.2584469613283448\n"
     ]
    }
   ],
   "source": [
    "# Case 1: Example\n",
    "temp = 298.00\n",
    "freqs = [100, 200, 300]\n",
    "lnqvib = 0.0\n",
    "lnqvib = lnqvib_case1(lnqvib, temp, freqs)\n",
    "print('result',lnqvib)"
   ]
  },
  {
   "cell_type": "code",
   "execution_count": 97,
   "metadata": {},
   "outputs": [
    {
     "name": "stdout",
     "output_type": "stream",
     "text": [
      "result 21.647769951871787\n"
     ]
    }
   ],
   "source": [
    "# Case 2: Example\n",
    "temp = 298.00\n",
    "freqs = [5.0, 648.0, 1000.0, 3555.7]\n",
    "lnqvib = 0.0\n",
    "anharm_const = 0.34\n",
    "lnqvib = lnqvib_case2(lnqvib, temp, freqs, anharm_const)\n",
    "print('result',lnqvib)"
   ]
  },
  {
   "cell_type": "code",
   "execution_count": null,
   "metadata": {},
   "outputs": [],
   "source": []
  }
 ],
 "metadata": {
  "kernelspec": {
   "display_name": "base",
   "language": "python",
   "name": "python3"
  },
  "language_info": {
   "codemirror_mode": {
    "name": "ipython",
    "version": 3
   },
   "file_extension": ".py",
   "mimetype": "text/x-python",
   "name": "python",
   "nbconvert_exporter": "python",
   "pygments_lexer": "ipython3",
   "version": "3.10.9"
  }
 },
 "nbformat": 4,
 "nbformat_minor": 2
}
