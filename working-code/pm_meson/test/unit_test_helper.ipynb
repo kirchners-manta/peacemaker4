{
 "cells": [
  {
   "cell_type": "code",
   "execution_count": 194,
   "metadata": {},
   "outputs": [],
   "source": [
    "import numpy as np"
   ]
  },
  {
   "cell_type": "markdown",
   "metadata": {},
   "source": [
    "##### Constants (Peacemaker)"
   ]
  },
  {
   "cell_type": "code",
   "execution_count": 160,
   "metadata": {},
   "outputs": [],
   "source": [
    "pi = 4.0 * np.arctan(1.0)\n",
    "planck = 6.62606957e-34         # J s\n",
    "avogadro = 6.0221413e23\n",
    "kb = 1.3806488e-23              # J K^-1\n",
    "speed_of_light = 299792458.0    # m s^-1\n",
    "amu = 1.660538921e-27           # kg\n",
    "gas_constant = avogadro*kb\n",
    "hbar = planck/(2.0*pi)\n",
    "global_eps = 1.0e-10"
   ]
  },
  {
   "cell_type": "markdown",
   "metadata": {},
   "source": [
    "# Partition Functions"
   ]
  },
  {
   "cell_type": "markdown",
   "metadata": {},
   "source": [
    "### Translational Partition Function (calculate_lnqtrans)"
   ]
  },
  {
   "cell_type": "markdown",
   "metadata": {},
   "source": [
    "$q_{\\text{trans}} = \\frac{V-b_{xv}V_{\\text{excl}}}{\\Lambda^3}$ </p>\n",
    "$ \\ln(q_{\\text{trans}}) = \\ln(V-V_{\\text{excl}}\\cdot b_{xv}) -3\\ln(\\Lambda)$ </p>\n",
    "$\\Lambda = \\sqrt{\\frac{h^2}{2\\pi mkT}}$ </p>"
   ]
  },
  {
   "cell_type": "code",
   "execution_count": 161,
   "metadata": {},
   "outputs": [],
   "source": [
    "# Calculates the partition function for one cluster\n",
    "\n",
    "def calculate_lnqtrans(lnqtrans, bxv, temp, v, mass, v_excl):\n",
    "    # lnqtrans  : input/output  - ln of the translational partition function\n",
    "    # bxv       : input         - van der Waals scaling factor \n",
    "    # temp      : input         - temperature\n",
    "    # v         : input         - volume of the cluster\n",
    "    # mass      : input         - mass of the cluster\n",
    "    # v_excl    : input         - excluded volume\n",
    "    \n",
    "    m = mass*amu\n",
    "    lambda_ = planck/np.sqrt(2.0*pi*m*kb*temp)\n",
    "    \n",
    "    lnqtrans = np.log(v-bxv*v_excl) - 3.0*np.log(lambda_)\n",
    "    return lnqtrans"
   ]
  },
  {
   "cell_type": "markdown",
   "metadata": {},
   "source": [
    "#### Tests"
   ]
  },
  {
   "cell_type": "code",
   "execution_count": 162,
   "metadata": {},
   "outputs": [
    {
     "name": "stdout",
     "output_type": "stream",
     "text": [
      "62.78833143890738\n"
     ]
    }
   ],
   "source": [
    "lnqtrans = 0\n",
    "bxv = 0.8\n",
    "temp = 298.0\n",
    "v = 2.0\n",
    "mass = 0.01\n",
    "v_excl = 0.1\n",
    "lnqtrans = calculate_lnqtrans(lnqtrans, bxv, temp, v, mass, v_excl)\n",
    "print(lnqtrans)"
   ]
  },
  {
   "cell_type": "markdown",
   "metadata": {},
   "source": [
    "### Vibrational Partition Fuction (calculate_lnqvib)"
   ]
  },
  {
   "cell_type": "markdown",
   "metadata": {},
   "source": [
    "Harmonic oscillator </p>\n",
    "$q_{\\text{vib}} = \\frac{\\exp(-\\Theta^{\\text{vib}}/2T)}{1-\\exp(-\\Theta^{\\text{vib}}/T)}$ </p>\n",
    "$\\ln(q_{\\text{vib}}) = -\\frac{\\Theta^{\\text{vib}}}{2T} - \\ln(1-\\exp(-\\Theta^{\\text{vib}}/T))$ </p>\n",
    "$\\Theta^{\\text{vib}} = \\frac{h\\nu}{k_B}$ </p>\n",
    "$\\frac{h\\nu}{k_BT} = \\frac{hc}{k_BT} \\cdot \\~{v}$ </p>"
   ]
  },
  {
   "cell_type": "markdown",
   "metadata": {},
   "source": [
    "Morse oscillator (Anharmonic effects in the quantum cluster equilibrium method -2017) </p>\n",
    "$E_n = hc\\nu [(n+ \\frac{1}{2})-\\mathcal{X}_e(n+ \\frac{1}{2})^2]~~~~~~~~~~~~~~~~~~~~~~~~~~~~~~~~~~~~~~~~~~~~~~$ \n",
    "$\\mathcal{X}_e$ : the anharmonicity constant </p>\n",
    "$q_i^{\\text{morse}} = \\prod_{\\mu=1}^{\\mu_{\\text{max}}} \\sum_{n=0}^{n^{\\text{max}}} \\exp(-(n+ \\frac{1}{2})) \\frac{\\Theta_{i,\\mu}^{\\text{vib}}}{T}+\\mathcal{X}_e(n+ \\frac{1}{2})^2\\frac{\\Theta_{i,\\mu}^{\\text{vib}}}{T}~~~~~~$  $\\mu$ : vibrational modes </p> \n",
    "$~~~~~~~~~~~~~~~~~~~~~~~~~~~~~~~~~~~~~~~~~~~~~~~~~~~~~~~~~~~~~~~~~~~~~~~~~~~~~~~~~~~~~~~~~~~~~~~~~~~~~~$ \n",
    "$n^{\\text{max}}$ : highest vibrational energy level before dissociation for the respective mode </p>\n",
    "\n",
    "$\\Rightarrow$ Strekalov $\\Rightarrow$ </p>\n",
    "$q_i^{\\text{morse}} = \\prod_{\\mu=1}^{\\mu_{\\text{max}}} \\frac{1}{2 \\cdot \\sinh(\\frac{\\Theta_{i,\\mu}^{\\text{vib}}}{2T})} \\exp(\\mathcal{X}\\frac{\\Theta_{i,\\mu}^{\\text{vib}}}{T}(\\frac{1}{4}+\\frac{1}{2 \\cdot \\sinh(\\frac{\\Theta_{\\mu}^{\\text{vib}}}{2T})^2}))$ </p>\n",
    "$ ln(q_i^{\\text{morse}}) = \\sum_{\\mu=1}^{\\mu_{\\text{max}}} \\Big[-\\ln(2 \\cdot \\sinh(\\frac{\\Theta_{i,\\mu}^{\\text{vib}}}{2T})) + \\mathcal{X}\\frac{\\Theta_{i,\\mu}^{\\text{vib}}}{T}(\\frac{1}{4}+\\frac{1}{2 \\cdot \\sinh(\\frac{\\Theta_{\\mu}^{\\text{vib}}}{2T})^2})\\Big]$ </p>"
   ]
  },
  {
   "cell_type": "markdown",
   "metadata": {},
   "source": [
    "Free rotator (Supramolecular Binding Thermodynamics by Dispersion-Corrected Density Functional Theory - Grimme 2012) </p>\n",
    "\n",
    "$\\mu = \\frac{h}{8 \\pi^2 \\nu}$ </p>\n",
    "$\\mu' = \\frac{\\mu B_{\\text{av}}}{\\mu + B_{\\text{av}}}~~~~~~~~~~~~~~~~~~~~~~~$ Moment of inertia of the cluster with frequency $\\omega$</p>\n",
    "$B_{\\text{av}} = \\sum_{n} \\frac{I_n}{N}~~~~~~~~~~~~~~~~~~~$ Avarage moment of inertia of the cluster</p>\n",
    "$T_{\\text{rot}} = \\frac{\\hbar^2}{2 k_{\\text{B}} \\mu'}$ </p>\n",
    "$q^{\\text{rot}} = \\frac{1}{\\sigma} \\sqrt{\\frac{\\pi T}{T_{\\text{rot}}} }~~~~~~~~~~~~~~~~~$ $\\sigma$ rotational symmetry nuber </p>\n",
    "$\\ln(q^{\\text{rot}}) = \\ln(\\frac{1}{\\sigma}) + \\frac{1}{2} \\ln(\\frac{\\pi T}{T_{\\text{rot}}})$ </p>\n",
    "$w(\\omega) = \\frac{1}{1+(\\text{rotor cutoff}/\\nu)^4}$"
   ]
  },
  {
   "cell_type": "markdown",
   "metadata": {},
   "source": [
    "$q_{\\text{vib,fr}} = w(\\omega) \\cdot q_{\\text{ho}} + (1-w(\\omega)) \\cdot q_{\\text{fr}}~~~$ or \n",
    "$~~~q_{\\text{vib}} = q_{\\text{aho}}$  </p>"
   ]
  },
  {
   "cell_type": "code",
   "execution_count": 163,
   "metadata": {},
   "outputs": [],
   "source": [
    "# Calculates the vibrational partition function for one cluster\n",
    "\n",
    "def calculate_lnqvib(lnqvib, temp, freqs, inertia, sigma, rotor_cutoff, anharm_const):\n",
    "    # lnqvib       : input/output  - ln of the vibrational partition function\n",
    "    # temp         : input         - temperature\n",
    "    # freqs        : input         - vibrational frequencies\n",
    "    # inertia      : input         - moments of inertia (number of moments of inertia depends on shape of the cluster)\n",
    "    # sigma        : input         - symmetry number of the cluster\n",
    "    # rotor_cutoff : input         - cutoff frequency for the free rotor approximation\n",
    "    # anharm_const : input         - anharmonicity constant\n",
    "\n",
    "    # hc/k\n",
    "    factor = planck * speed_of_light * 100 / kb \n",
    "    # Avarage moment of inertia\n",
    "    Bav = sum(inertia)/len(inertia) * amu * 1.0e-20\n",
    "\n",
    "    # Initialize variables\n",
    "    lnq_aho = 0.0\n",
    "    lnq_ho = 0.0\n",
    "    lnq_fr = 0.0\n",
    "    lnqvib = 0.0\n",
    "    w = 1.0\n",
    "    \n",
    "    for i in range(len(freqs)):\n",
    "        # Case 1: Harmonic oscillator\n",
    "        if (anharm_const == 0.0):\n",
    "            t_vib = factor * freqs[i]\n",
    "            lnq_ho = -t_vib / (2.0 * temp) - np.log(1 - np.exp(-t_vib / temp))\n",
    "\n",
    "        \n",
    "            # Case 1.1: Free rotor\n",
    "            if (rotor_cutoff > 0.0):\n",
    "                mu = planck/(8.0 * pi**2 * freqs[i] * speed_of_light * 100.0)\n",
    "                mu_prime = mu*Bav/(mu+Bav)\n",
    "                trot = hbar**2/(2.0*kb*mu_prime)\n",
    "                lnq_fr = np.log(1.0/sigma * (np.sqrt(pi*temp/trot)))\n",
    "                w = 1.0/(1+(rotor_cutoff/freqs[i])**4)\n",
    "                \n",
    "        # Case 2: Anharmonic oscillator\n",
    "        else:\n",
    "            t_vib = factor * freqs[i]\n",
    "            # (Logarithm laws)\n",
    "            lnqvib = lnqvib - np.log(2.0 * np.sinh(t_vib / (2.0 * temp))) + anharm_const * (t_vib / temp) * (0.25 + 1.0 / (2.0 * np.sinh(t_vib / (2.0 * temp))**2))\n",
    "        \n",
    "        lnqvib += w * lnq_ho + (1.0 - w) * lnq_fr\n",
    "    return lnqvib"
   ]
  },
  {
   "cell_type": "markdown",
   "metadata": {},
   "source": [
    "##### Tests"
   ]
  },
  {
   "cell_type": "code",
   "execution_count": 164,
   "metadata": {},
   "outputs": [
    {
     "name": "stdout",
     "output_type": "stream",
     "text": [
      "result -1.3967910870430646\n"
     ]
    }
   ],
   "source": [
    "# Case 1 : Harmonic oscillator\n",
    "lnqvib = 0.0\n",
    "temp = 315.00\n",
    "freqs = [11.4, 25.6, 68.7, 134.9, 3555.9]\n",
    "inertia = [212.4, 212.4]\n",
    "sigma = 2\n",
    "rotor_cutoff = 0\n",
    "anharm_const = 0.0\n",
    "lnqvib = calculate_lnqvib(lnqvib, temp, freqs, inertia, sigma, rotor_cutoff, anharm_const)\n",
    "print('result',lnqvib)"
   ]
  },
  {
   "cell_type": "code",
   "execution_count": 165,
   "metadata": {},
   "outputs": [
    {
     "name": "stdout",
     "output_type": "stream",
     "text": [
      "result -3.855446885285766\n",
      "result 1.7676272441463634\n"
     ]
    }
   ],
   "source": [
    "# Case 1.1 : Harmonic oscillator with free rotator\n",
    "lnqvib = 0.0\n",
    "temp = 298.00\n",
    "freqs = [5.0, 648.0, 1000.0, 3555.7]\n",
    "inertia = [3.2, 5.9, 89.3, 1.0]\n",
    "sigma = 1\n",
    "rotor_cutoff = 3000.0\n",
    "anharm_const = 0.0\n",
    "lnqvib = calculate_lnqvib(lnqvib, temp, freqs, inertia, sigma, rotor_cutoff, anharm_const)\n",
    "print('result',lnqvib)\n",
    "\n",
    "# Case 1.1 : Harmonic oscillator with free rotator\n",
    "lnqvib = 0.0\n",
    "temp = 298.00\n",
    "freqs = [100.0, 200.0, 300.0]\n",
    "inertia = [1.0, 1.0, 1.0]\n",
    "sigma = 1\n",
    "rotor_cutoff = 3000.0\n",
    "anharm_const = 0.0\n",
    "lnqvib = calculate_lnqvib(lnqvib, temp, freqs, inertia, sigma, rotor_cutoff, anharm_const)\n",
    "print('result',lnqvib)"
   ]
  },
  {
   "cell_type": "code",
   "execution_count": 166,
   "metadata": {},
   "outputs": [
    {
     "name": "stdout",
     "output_type": "stream",
     "text": [
      "result -3.8012813311299443\n",
      "result 23.9041034243484\n"
     ]
    }
   ],
   "source": [
    "# Case 2 : Anharmonic oscillator\n",
    "lnqvib = 0.0\n",
    "temp = 298.00\n",
    "freqs = [180.0, 270.0, 3550.0]\n",
    "inertia = [1.0, 3.0, 1.0]\n",
    "sigma = 1\n",
    "rotor_cutoff = 3000.0\n",
    "anharm_const = 0.6\n",
    "lnqvib = calculate_lnqvib(lnqvib, temp, freqs, inertia, sigma, rotor_cutoff, anharm_const)\n",
    "print('result',lnqvib)\n",
    "\n",
    "# Case 2 : Anharmonic oscillator\n",
    "lnqvib = 0.0\n",
    "temp = 315.00\n",
    "freqs = [5.0, 648.0, 1000.0, 3555.7]\n",
    "inertia = [38.6, 43.9, 112.9]\n",
    "sigma = 1\n",
    "rotor_cutoff = 0\n",
    "anharm_const = 0.34\n",
    "lnqvib = calculate_lnqvib(lnqvib, temp, freqs, inertia, sigma, rotor_cutoff, anharm_const)\n",
    "print('result',lnqvib)"
   ]
  },
  {
   "cell_type": "markdown",
   "metadata": {},
   "source": [
    "### Rotational Partition Function (calculate_lnqrot)"
   ]
  },
  {
   "cell_type": "markdown",
   "metadata": {},
   "source": [
    "Atom </p>\n",
    "$q_{\\text{rot}} = 1$\n",
    "$\\ln(q_{\\text{rot}}) = 0$ </p> </br>\n",
    "\n",
    "Linear cluster </p>\n",
    "$q_{\\text{rot}} = \\frac{1}{\\sigma}  \\cdot \\frac{T}{\\Theta^{\\text{rot}}}$  </p>\n",
    "$\\ln(q_{\\text{rot}}) = \\ln(\\frac{1}{\\sigma}) + \\ln(\\frac{T}{\\Theta^{\\text{rot}}})$ </p> </br>\n",
    "\n",
    "Nonlinear cluster </p>\n",
    "$q_{\\text{rot}} = \\frac{1}{\\sigma}  \\cdot \\sqrt{\\frac{\\pi T^3}{\\Theta^{\\text{rot}}_1\\Theta^{\\text{rot}}_2\\Theta^{\\text{rot}}_3}}$  </p>\n",
    "$\\ln(q_{\\text{rot}}) = \\ln(\\frac{1}{\\sigma}) + \\ln(\\sqrt{\\frac{\\pi T^3}{\\Theta^{\\text{rot}}_1\\Theta^{\\text{rot}}_2\\Theta^{\\text{rot}}_3}})$ </p> </br>\n",
    "\n",
    "$T_{\\text{rot}} = \\Theta^{\\text{rot}} = \\frac{\\hbar^2}{2 k_{\\text{B}} I}$ </p>"
   ]
  },
  {
   "cell_type": "code",
   "execution_count": 167,
   "metadata": {},
   "outputs": [],
   "source": [
    "# Calculates the rotational partition function for one cluster\n",
    "\n",
    "def calculate_lnrot(lnq, temp, inertia, sigma, atom, linear):\n",
    "    # lnq     : input/output  - ln of the rotational partition function\n",
    "    # temp    : input         - temperature\n",
    "    # inertia : input         - moments of inertia (number of moments of inertia depends on shape of the cluster)\n",
    "    # sigma   : input         - symmetry number of the cluster\n",
    "    # atom    : input         - boolean, true if cluster is atom\n",
    "    # linear  : input         - boolean, true if cluster is linear\n",
    "    \n",
    "    \n",
    "    # Case 1: Cluster is an atom\n",
    "    if (atom):\n",
    "        lnq = 0.0\n",
    "    # Case 2: Cluster is not an atom\n",
    "    else:\n",
    "        lnq = 1.0\n",
    "        for i in range(len(inertia)):\n",
    "            # Calculate the rotational temperature\n",
    "            trot = hbar**2/(2.0*kb*inertia[i]*amu*1.0e-20)\n",
    "            # Calculate the part of the rotational partition function \n",
    "            # that is equal for linear and non-linear clusters\n",
    "            lnq *= temp/trot\n",
    "            \n",
    "        # Case 2.1: Linear cluster\n",
    "        # The inertia array contains two equal moments of inertia\n",
    "        # The square root is taken to account for the degeneracy of the rotational levels\n",
    "        if (linear):\n",
    "            lnq = 1/sigma * np.sqrt(lnq)\n",
    "            \n",
    "        # Case 2.2: Non-linear cluster\n",
    "        # The inertia array contains three moments of inertia\n",
    "        else:\n",
    "            lnq = 1/sigma * np.sqrt(pi*lnq)\n",
    "            #print('lnq n',lnq)\n",
    "                \n",
    "        lnq = np.log(lnq)\n",
    "            \n",
    "    return lnq\n",
    "            "
   ]
  },
  {
   "cell_type": "markdown",
   "metadata": {},
   "source": [
    "#### Tests"
   ]
  },
  {
   "cell_type": "code",
   "execution_count": 168,
   "metadata": {},
   "outputs": [
    {
     "name": "stdout",
     "output_type": "stream",
     "text": [
      "result 0.0\n"
     ]
    }
   ],
   "source": [
    "# Case 1: Cluster is an atom\n",
    "lnq = 0.0\n",
    "temp = 298.00\n",
    "inertia = [1.0, 1.0, 1.0]\n",
    "sigma = 1\n",
    "atom = True\n",
    "linear = False\n",
    "lnq = calculate_lnrot(lnq, temp, inertia, sigma, atom, linear)\n",
    "print('result',lnq)"
   ]
  },
  {
   "cell_type": "code",
   "execution_count": 169,
   "metadata": {},
   "outputs": [
    {
     "name": "stdout",
     "output_type": "stream",
     "text": [
      "result 6.130167446075413\n"
     ]
    }
   ],
   "source": [
    "# Case 2.1: Linear cluster\n",
    "lnq = 0.0\n",
    "temp = 298.00\n",
    "inertia = [37.4, 37.4] \n",
    "sigma = 1\n",
    "atom = False\n",
    "linear = True\n",
    "lnq = calculate_lnrot(lnq, temp, inertia, sigma, atom, linear)\n",
    "print('result',lnq)"
   ]
  },
  {
   "cell_type": "code",
   "execution_count": 170,
   "metadata": {},
   "outputs": [
    {
     "name": "stdout",
     "output_type": "stream",
     "text": [
      "result 9.17613133433584\n"
     ]
    }
   ],
   "source": [
    "# Case 2.2: Non-linear cluster\n",
    "lnq = 0.0\n",
    "temp = 298.00\n",
    "inertia = [21.2, 43.2, 70.0]\n",
    "sigma = 2\n",
    "atom = False\n",
    "linear = False\n",
    "lnq = calculate_lnrot(lnq, temp, inertia, sigma, atom, linear)\n",
    "print('result',lnq)"
   ]
  },
  {
   "cell_type": "markdown",
   "metadata": {},
   "source": [
    "### Electronic Partition Function (calculate_lnqelec)"
   ]
  },
  {
   "cell_type": "markdown",
   "metadata": {},
   "source": [
    "$q_{\\text{elec}} = g \\cdot \\exp(-\\frac{E_{\\text{elec}}}{kT})$ </p>\n",
    "$\\ln(q_{\\text{elec}}) = \\ln(g) - \\frac{E_{\\text{elec}}}{kT}$ </p>"
   ]
  },
  {
   "cell_type": "code",
   "execution_count": 171,
   "metadata": {},
   "outputs": [],
   "source": [
    "# Calculates the electronic partition function for one cluster\n",
    "\n",
    "def calculate_lnqelec(lnqelec, temp, energy):\n",
    "    # lnq  : input/output  - ln of the electronic partition function\n",
    "    # temp : input         - temperature\n",
    "    \n",
    "    lnqelec = -1.0/avogadro * energy/(kb*temp) * 1000.0 # kJ/mol to J/mol (energy is in kJ/mol)\n",
    "    return lnqelec"
   ]
  },
  {
   "cell_type": "markdown",
   "metadata": {},
   "source": [
    "#### Tests"
   ]
  },
  {
   "cell_type": "code",
   "execution_count": 172,
   "metadata": {},
   "outputs": [
    {
     "name": "stdout",
     "output_type": "stream",
     "text": [
      "result 10.653072928364542\n"
     ]
    }
   ],
   "source": [
    "lnqelec = 0.0\n",
    "temp = 318.15\n",
    "energy = -28.18\n",
    "lnqelec = calculate_lnqelec(lnqelec, temp, energy)\n",
    "print('result',lnqelec)"
   ]
  },
  {
   "cell_type": "markdown",
   "metadata": {},
   "source": [
    "### Mean Field partition function (calculate_lnqint)"
   ]
  },
  {
   "cell_type": "markdown",
   "metadata": {},
   "source": [
    "$ \\epsilon_{\\text{mf}} = - a_{mf} \\cdot \\frac{N}{V}$ </p>\n",
    "$ N = \\text{number of components} \\cdot  N_{\\text{tot}}$ </p>\n",
    "$ N_{\\text{tot}} = \\sum^{N_{\\text{components}}} \\text{monomer amount of the component (\\%)} \\cdot N_\\text{A} = N_\\text{A}$ </p>\n",
    "$ ln(q_{\\text{int}}) = -\\frac{\\epsilon_{\\text{mf}}}{K_{\\text{B}}T} $ </p>"
   ]
  },
  {
   "cell_type": "code",
   "execution_count": 173,
   "metadata": {},
   "outputs": [],
   "source": [
    "# Calculates the mean field partition function for one cluster\n",
    "\n",
    "def calculate_lnqint(lnqint, amf, temp, v, composition, ntot):\n",
    "    # lnqint       : input/output  - ln of the mean field partition function\n",
    "    # amf          : input         - van der Waals pressure scaling factor\n",
    "    # temp         : input         - temperature\n",
    "    # v            : input         - volume of the cluster\n",
    "    # composition  : input         - composition \n",
    "    # ntot         : input         - total number of particles\n",
    "    \n",
    "    e_mf = -amf * sum(composition) * ntot / v\n",
    "    lnqint = -e_mf / (kb * temp)    \n",
    "    \n",
    "    return lnqint"
   ]
  },
  {
   "cell_type": "markdown",
   "metadata": {},
   "source": [
    "#### Tests"
   ]
  },
  {
   "cell_type": "code",
   "execution_count": 174,
   "metadata": {},
   "outputs": [
    {
     "name": "stdout",
     "output_type": "stream",
     "text": [
      "result 0.2492468468447588\n"
     ]
    }
   ],
   "source": [
    "lnqint = 0.0\n",
    "amf = 1.0e-48\n",
    "temp = 450.0\n",
    "v = 3.5e-3\n",
    "composition = [1, 6, 2]\n",
    "ntot = (0.3 + 0.5 + 0.2) * avogadro\n",
    "lnqint = calculate_lnqint(lnqint, amf, temp, v, composition, ntot)\n",
    "print('result',lnqint)"
   ]
  },
  {
   "cell_type": "markdown",
   "metadata": {},
   "source": []
  },
  {
   "cell_type": "markdown",
   "metadata": {},
   "source": [
    "# Temp. derivatives of the partition functions"
   ]
  },
  {
   "cell_type": "markdown",
   "metadata": {},
   "source": [
    "### Translational Partition Function Derivative (calculate_dlnqtrans)"
   ]
  },
  {
   "cell_type": "markdown",
   "metadata": {},
   "source": [
    "$ \\ln(q_{\\text{trans}}) = -3\\ln(\\Lambda) + \\ln(V-V_{\\text{excl}}\\cdot b_{xv}) $ </p>\n",
    "$\\Lambda = \\sqrt{\\frac{h^2}{2\\pi mkT}}$ </p> \n",
    "\n",
    "*$b_{xv}$ scales linear with the temperature with the linear dependence parameter $b_{xv, \\text{temp}}$ \n",
    "and thus we know: $\\frac{db_{xv}}{dT} = b_{xv, \\text{temp}}$*</p>\n",
    "\n",
    "\n",
    "$ \\frac{d\\ln(q_{\\text{trans}})}{dT} = \\frac{3}{2T} + \\frac{-V_{\\text{excl}}\\cdot b_{xv, \\text{temp}}}{V-V_{\\text{excl}}\\cdot b_{xv}}$ </p>"
   ]
  },
  {
   "cell_type": "code",
   "execution_count": 175,
   "metadata": {},
   "outputs": [],
   "source": [
    "# Calculates the temp. derivative of the ln of the translational partition function for one cluster\n",
    "\n",
    "def calculate_dlnqtrans(dlnqtrans, bxv, bxv_temp, temp, v, v_excl):\n",
    "    # dlnqtrans  : input/output  - derivative of ln of the translational partition function\n",
    "    # bxv        : input         - van der Waals scaling factor\n",
    "    # bxv_temp   : input         - derivative of van der Waals scaling factor with respect to temperature\n",
    "    # temp       : input         - temperature\n",
    "    # v          : input         - volume of the cluster\n",
    "    # v_excl     : input         - excluded volume\n",
    "    \n",
    "    dlnqtrans = 1.5 / temp + (v_excl * bxv_temp) / (v_excl * bxv - v)\n",
    "    return dlnqtrans"
   ]
  },
  {
   "cell_type": "markdown",
   "metadata": {},
   "source": [
    "#### Tests"
   ]
  },
  {
   "cell_type": "code",
   "execution_count": 176,
   "metadata": {},
   "outputs": [
    {
     "name": "stdout",
     "output_type": "stream",
     "text": [
      "result -0.033709804222354325\n"
     ]
    }
   ],
   "source": [
    "dlnqtrans = 0.0\n",
    "bxv = 0.8\n",
    "bxv_temp = 0.9\n",
    "temp = 431.0\n",
    "v = 2.5e-3\n",
    "v_excl = 1e-4\n",
    "\n",
    "dlnqtrans = calculate_dlnqtrans(dlnqtrans, bxv, bxv_temp, temp, v, v_excl)\n",
    "print('result',dlnqtrans)"
   ]
  },
  {
   "cell_type": "code",
   "execution_count": 177,
   "metadata": {},
   "outputs": [
    {
     "name": "stdout",
     "output_type": "stream",
     "text": [
      "result -12.995241116751258\n"
     ]
    }
   ],
   "source": [
    "dlnqtrans = 0.0\n",
    "bxv = 2\n",
    "bxv_temp = 1.3\n",
    "temp = 315.2\n",
    "v = 2.1\n",
    "v_excl = 1\n",
    "\n",
    "dlnqtrans = calculate_dlnqtrans(dlnqtrans, bxv, bxv_temp, temp, v, v_excl)\n",
    "print('result',dlnqtrans)"
   ]
  },
  {
   "cell_type": "markdown",
   "metadata": {},
   "source": [
    "### Vibrational Partition Function Derivative (calculate_dlnqvib)"
   ]
  },
  {
   "cell_type": "markdown",
   "metadata": {},
   "source": [
    "Harmonic oscillator </p>\n",
    "$\\ln(q_{\\text{vib}}) = -\\frac{\\Theta^{\\text{vib}}}{2T} - \\ln(1-\\exp(-\\Theta^{\\text{vib}}/T))$ </p>\n",
    "$\\frac{d\\ln(q_{\\text{vib}})}{dT} = \\frac{\\Theta^{\\text{vib}}}{2T^2} + \\frac{\\Theta^{\\text{vib}}}{T^2(\\exp(\\Theta^{\\text{vib}}/T)-1)}$"
   ]
  },
  {
   "cell_type": "markdown",
   "metadata": {},
   "source": [
    "Anharmonic oscillator </p>\n",
    "$ ln(q_i^{\\text{morse}}) = \\sum_{\\mu=1}^{\\mu_{\\text{max}}} \\Big[-\\ln(2 \\cdot \\sinh(\\frac{\\Theta_{i,\\mu}^{\\text{vib}}}{2T})) + \\mathcal{X}\\frac{\\Theta_{i,\\mu}^{\\text{vib}}}{T}(\\frac{1}{4}+\\frac{1}{2 \\cdot \\sinh(\\frac{\\Theta_{\\mu}^{\\text{vib}}}{2T})^2})\\Big]$ </p>\n",
    "$ \\frac{d\\ln(q_i^{\\text{morse}})}{dT} = \\sum_{\\mu=1}^{\\mu_{\\text{max}}} \\Bigg[ \\dfrac{\\Theta_{i,\\mu}^{\\text{vib}}\\cosh\\left(\\frac{\\Theta_{i,\\mu}^{\\text{vib}}}{2T}\\right)}{2\\sinh\\left(\\frac{\\Theta_{i,\\mu}^{\\text{vib}}}{2T}\\right)\\,T^2}-\\dfrac{\\Theta_{i,\\mu}^{\\text{vib}}x\\cdot\\left(\\frac{1}{2\\sinh^2\\left(\\frac{\\Theta_{i,\\mu}^{\\text{vib}}}{2T}\\right)}+\\frac{1}{4}\\right)}{T^2}+\\dfrac{{\\Theta_{i,\\mu}^{\\text{vib}}}^2x\\cosh\\left(\\frac{\\Theta_{i,\\mu}^{\\text{vib}}}{2T}\\right)}{2\\sinh^3\\left(\\frac{\\Theta_{i,\\mu}^{\\text{vib}}}{2T}\\right)\\,T^3} \\Bigg]$ "
   ]
  },
  {
   "cell_type": "markdown",
   "metadata": {},
   "source": [
    "Free rotator </p>\n",
    "$\\ln(q^{\\text{rot}}) = \\ln(\\frac{1}{\\sigma}) + \\frac{1}{2} \\ln(\\frac{\\pi T}{T_{\\text{rot}}})$ </p>\n",
    "$\\frac{d\\ln(q^{\\text{rot}})}{dT} = \\frac{1}{2T}$"
   ]
  },
  {
   "cell_type": "code",
   "execution_count": 178,
   "metadata": {},
   "outputs": [],
   "source": [
    "# Calculates the temp. derivative of the ln of the vibrational partition function for one cluster\n",
    "\n",
    "def calculate_dlnqvib(dlnqvib, temp, freqs, rotor_cutoff, anharm_const):\n",
    "    # dlnqvib       : input/output - temp. derivative of the ln of the vibrational partition function\n",
    "    # temp         : input         - temperature\n",
    "    # freqs        : input         - vibrational frequencies\n",
    "    # inertia      : input         - moments of inertia (number of moments of inertia depends on shape of the cluster)\n",
    "    # sigma        : input         - symmetry number of the cluster\n",
    "    # rotor_cutoff : input         - cutoff frequency for the free rotor approximation\n",
    "    # anharm_const : input         - anharmonicity constant\n",
    "\n",
    "    # hc/k\n",
    "    factor = planck * speed_of_light * 100 / kb \n",
    "\n",
    "    # Initialize variables\n",
    "    dlnq_ho = 0.0\n",
    "    dlnq_fr = 0.0\n",
    "    dlnqvib = 0.0\n",
    "    w = 1.0\n",
    "    \n",
    "    for i in range(len(freqs)):\n",
    "        t_vib = factor * freqs[i]\n",
    "        \n",
    "        # Case 1: Harmonic oscillator and free rotor (if rotor_cutoff = 0.0 then w = 1.0) -> no if statement needed\n",
    "        if (anharm_const == 0.0):\n",
    "            dlnq_ho = t_vib / (2.0 * temp**2) + (t_vib / (temp**2 * (np.exp(t_vib / temp) - 1)))\n",
    "\n",
    "            # Case 1.1 : HO and Free rotor              \n",
    "            dlnq_fr = 1.0 / (2.0 * temp)\n",
    "            w = 1.0/(1+(rotor_cutoff/freqs[i])**4)\n",
    "                \n",
    "        # Case 2: Anharmonic oscillator\n",
    "        else:\n",
    "            dlnqvib = dlnqvib + (t_vib * np.cosh(t_vib/(2.0*temp))) / (2.0 * np.sinh(t_vib/(2.0*temp)) * temp**2) \\\n",
    "                              - (t_vib * anharm_const * (0.25 + 1.0 / (2.0 * np.sinh(t_vib / (2.0 * temp))**2))) / temp**2 \\\n",
    "                              + (t_vib**2 * anharm_const * np.cosh(t_vib/(2.0*temp))) / (2.0 * np.sinh(t_vib/(2.0*temp))**3 * temp**3)    \n",
    "            \n",
    "        dlnqvib += w * dlnq_ho + (1.0 - w) * dlnq_fr\n",
    "    return dlnqvib"
   ]
  },
  {
   "cell_type": "markdown",
   "metadata": {},
   "source": [
    "#### Tests"
   ]
  },
  {
   "cell_type": "code",
   "execution_count": 179,
   "metadata": {},
   "outputs": [
    {
     "name": "stdout",
     "output_type": "stream",
     "text": [
      "result 0.03860909908840071\n"
     ]
    }
   ],
   "source": [
    "# Case 1 : Harmonic oscillator\n",
    "dlnqvib = 0.0\n",
    "temp = 315.00\n",
    "freqs = [11.4, 25.6, 68.7, 134.9, 3555.9]\n",
    "rotor_cutoff = 0\n",
    "anharm_const = 0.0\n",
    "\n",
    "dlnqvib = calculate_dlnqvib(dlnqvib, temp, freqs, rotor_cutoff, anharm_const)\n",
    "print('result',dlnqvib)"
   ]
  },
  {
   "cell_type": "code",
   "execution_count": 180,
   "metadata": {},
   "outputs": [
    {
     "name": "stdout",
     "output_type": "stream",
     "text": [
      "result 0.02798357483860576\n"
     ]
    }
   ],
   "source": [
    "# Case 1.1 : Harmonic oscillator, rotor_cutoff > 0\n",
    "dlnqvib = 0.0\n",
    "temp = 315.00\n",
    "freqs = [11.4, 25.6, 68.7, 134.9, 3555.9]\n",
    "rotor_cutoff = 2398.0\n",
    "anharm_const = 0.0\n",
    "\n",
    "dlnqvib = calculate_dlnqvib(dlnqvib, temp, freqs, rotor_cutoff, anharm_const)\n",
    "print('result',dlnqvib)"
   ]
  },
  {
   "cell_type": "code",
   "execution_count": 181,
   "metadata": {},
   "outputs": [
    {
     "name": "stdout",
     "output_type": "stream",
     "text": [
      "result 0.6617367002746789\n"
     ]
    }
   ],
   "source": [
    "# Case 2 : Anharmonic oscillator\n",
    "dlnqvib = 0.0\n",
    "temp = 315.00\n",
    "freqs = [11.4, 25.6, 68.7, 134.9, 3555.9, 10000.0]\n",
    "rotor_cutoff = 0\n",
    "anharm_const = 3.5\n",
    "\n",
    "dlnqvib = calculate_dlnqvib(dlnqvib, temp, freqs, rotor_cutoff, anharm_const)\n",
    "print('result',dlnqvib)"
   ]
  },
  {
   "cell_type": "markdown",
   "metadata": {},
   "source": [
    "### Rotational Partition Function Derivative (calculate_dlnqrot)"
   ]
  },
  {
   "cell_type": "markdown",
   "metadata": {},
   "source": [
    "Atom </p>\n",
    "$\\ln(q_{\\text{rot}}) = 0$ </p> \n",
    "$\\frac{d\\ln(q_{\\text{rot}})}{dT} = 0$ </p> </br>\n",
    "\n",
    "Linear cluster </p>\n",
    "$\\ln(q_{\\text{rot}}) = \\ln(\\frac{1}{\\sigma}) + \\ln(\\frac{T}{\\Theta^{\\text{rot}}})$ </p> \n",
    "$\\frac{d\\ln(q_{\\text{rot}})}{dT} = \\frac{1}{T}$ </p> </br>\n",
    "\n",
    "Nonlinear cluster </p>\n",
    "$\\ln(q_{\\text{rot}}) = \\ln(\\frac{1}{\\sigma}) + \\ln(\\sqrt{\\frac{\\pi T^3}{\\Theta^{\\text{rot}}_1\\Theta^{\\text{rot}}_2\\Theta^{\\text{rot}}_3}})$ </p> \n",
    "$\\frac{d\\ln(q_{\\text{rot}})}{dT} = \\frac{3}{2T}$ </p> </br>"
   ]
  },
  {
   "cell_type": "code",
   "execution_count": 190,
   "metadata": {},
   "outputs": [],
   "source": [
    "# Calculates the temp. derivative of the ln of the rotational partition function for one cluster\n",
    "\n",
    "def calculate_dlnqrot(dlnqrot, temp, atom, linear):\n",
    "    # lnq     : input/output  - ln of the rotational partition function\n",
    "    # temp    : input         - temperature\n",
    "    # atom    : input         - boolean, true if cluster is atom\n",
    "    # linear  : input         - boolean, true if cluster is linear\n",
    "    \n",
    "    \n",
    "    # Case 1: Cluster is an atom\n",
    "    if (atom):\n",
    "        dlnqrot = 0.0\n",
    "    # Case 2: Cluster is not an atom\n",
    "    else:\n",
    "        # Case 2.1: Linear cluster\n",
    "        # The inertia array contains two equal moments of inertia\n",
    "        # The square root is taken to account for the degeneracy of the rotational levels\n",
    "        if (linear):\n",
    "            dlnqrot = 1.0/temp\n",
    "            \n",
    "        # Case 2.2: Non-linear cluster\n",
    "        # The inertia array contains three moments of inertia\n",
    "        else:\n",
    "            dlnqrot = 3.0/(2.0*temp)\n",
    "            \n",
    "    return dlnqrot\n",
    "            "
   ]
  },
  {
   "cell_type": "markdown",
   "metadata": {},
   "source": [
    "#### Tests"
   ]
  },
  {
   "cell_type": "code",
   "execution_count": 187,
   "metadata": {},
   "outputs": [
    {
     "name": "stdout",
     "output_type": "stream",
     "text": [
      "result 0.0\n"
     ]
    }
   ],
   "source": [
    "# Case 1: Cluster is an atom\n",
    "dlnqrot = 0.0\n",
    "temp = 512.00\n",
    "atom = True\n",
    "linear = False\n",
    "dlnqrot = calculate_dlnqrot(dlnqrot, temp, atom, linear)\n",
    "print('result',dlnqrot)"
   ]
  },
  {
   "cell_type": "code",
   "execution_count": 188,
   "metadata": {},
   "outputs": [
    {
     "name": "stdout",
     "output_type": "stream",
     "text": [
      "result 0.001953125\n"
     ]
    }
   ],
   "source": [
    "# Case 2.1: Linear cluster\n",
    "dlnqrot = 0.0\n",
    "temp = 512.00\n",
    "atom = False\n",
    "linear = True\n",
    "dlnqrot = calculate_dlnqrot(dlnqrot, temp, atom, linear)\n",
    "print('result',dlnqrot)"
   ]
  },
  {
   "cell_type": "code",
   "execution_count": 189,
   "metadata": {},
   "outputs": [
    {
     "name": "stdout",
     "output_type": "stream",
     "text": [
      "result 0.0029296875\n"
     ]
    }
   ],
   "source": [
    "# Case 2.2: Non-linear cluster\n",
    "dlnqrot = 0.0\n",
    "temp = 512.00\n",
    "atom = False\n",
    "linear = False\n",
    "dlnqrot = calculate_dlnqrot(dlnqrot, temp, atom, linear)\n",
    "print('result',dlnqrot)"
   ]
  },
  {
   "cell_type": "markdown",
   "metadata": {},
   "source": [
    "### Electronic Partition Function Derivative (calculate_dlnqelec)"
   ]
  },
  {
   "cell_type": "markdown",
   "metadata": {},
   "source": [
    "$\\ln(q_{\\text{elec}}) = \\ln(g) - \\frac{E_{\\text{elec}}}{kT}$ </p>\n",
    "$\\frac{d\\ln(q_{\\text{elec}})}{dT} = \\frac{E_{\\text{elec}}}{kT^2}$ </p>"
   ]
  },
  {
   "cell_type": "code",
   "execution_count": 191,
   "metadata": {},
   "outputs": [],
   "source": [
    "# Calculates the temp. derivative of the ln of the electronic partition function for one cluster\n",
    "\n",
    "def calculate_dlnqelec(dlnqelec, temp, energy):\n",
    "    # lnq  : input/output  - ln of the electronic partition function\n",
    "    # temp : input         - temperature\n",
    "    \n",
    "    dlnqelec = 1.0/avogadro * energy/(kb*temp**2) * 1000.0 # kJ/mol to J/mol (energy is in kJ/mol)\n",
    "    return dlnqelec"
   ]
  },
  {
   "cell_type": "markdown",
   "metadata": {},
   "source": [
    "#### Tests"
   ]
  },
  {
   "cell_type": "code",
   "execution_count": 193,
   "metadata": {},
   "outputs": [
    {
     "name": "stdout",
     "output_type": "stream",
     "text": [
      "result -0.08107320744165505\n"
     ]
    }
   ],
   "source": [
    "dlnqelec = 0.0\n",
    "temp = 318.15\n",
    "energy = -68.23\n",
    "\n",
    "dlnqelec = calculate_dlnqelec(dlnqelec, temp, energy)\n",
    "print('result',dlnqelec)"
   ]
  },
  {
   "cell_type": "code",
   "execution_count": 192,
   "metadata": {},
   "outputs": [
    {
     "name": "stdout",
     "output_type": "stream",
     "text": [
      "result -0.03348443478976754\n"
     ]
    }
   ],
   "source": [
    "dlnqelec = 0.0\n",
    "temp = 318.15\n",
    "energy = -28.18\n",
    "\n",
    "dlnqelec = calculate_dlnqelec(dlnqelec, temp, energy)\n",
    "print('result',dlnqelec)"
   ]
  },
  {
   "cell_type": "markdown",
   "metadata": {},
   "source": [
    "# Second temp. derivatives of the partition functions"
   ]
  },
  {
   "cell_type": "markdown",
   "metadata": {},
   "source": [
    "### Vibrational Partition Function second Derivative (calculate_ddlnqvib)"
   ]
  },
  {
   "cell_type": "markdown",
   "metadata": {},
   "source": [
    "$\\dfrac{n\\cdot\\left(\\left(2x\\sinh^4\\left(\\frac{n}{2T}\\right)-4\\cosh\\left(\\frac{n}{2T}\\right)\\sinh^3\\left(\\frac{n}{2T}\\right)+4x\\sinh^2\\left(\\frac{n}{2T}\\right)\\right)T^2+\\left(-n\\sinh^4\\left(\\frac{n}{2T}\\right)+n\\cosh^2\\left(\\frac{n}{2T}\\right)\\sinh^2\\left(\\frac{n}{2T}\\right)-8nx\\cosh\\left(\\frac{n}{2T}\\right)\\sinh\\left(\\frac{n}{2T}\\right)\\right)T-n^2x\\sinh^2\\left(\\frac{n}{2T}\\right)+3n^2x\\cosh^2\\left(\\frac{n}{2T}\\right)\\right)}{4\\sinh^4\\left(\\frac{n}{2T}\\right)\\,T^5}$"
   ]
  },
  {
   "cell_type": "markdown",
   "metadata": {},
   "source": []
  }
 ],
 "metadata": {
  "kernelspec": {
   "display_name": "base",
   "language": "python",
   "name": "python3"
  },
  "language_info": {
   "codemirror_mode": {
    "name": "ipython",
    "version": 3
   },
   "file_extension": ".py",
   "mimetype": "text/x-python",
   "name": "python",
   "nbconvert_exporter": "python",
   "pygments_lexer": "ipython3",
   "version": "3.10.9"
  }
 },
 "nbformat": 4,
 "nbformat_minor": 2
}
