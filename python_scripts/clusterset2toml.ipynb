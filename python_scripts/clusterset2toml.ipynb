{
 "cells": [
  {
   "cell_type": "code",
   "execution_count": 1,
   "metadata": {},
   "outputs": [
    {
     "name": "stdout",
     "output_type": "stream",
     "text": [
      "Requirement already satisfied: tomlkit in /home/katrin/mambaforge/lib/python3.10/site-packages (0.12.1)\n",
      "Note: you may need to restart the kernel to use updated packages.\n"
     ]
    }
   ],
   "source": [
    "%pip install tomlkit\n",
    "import tomlkit\n",
    "\n",
    "\n",
    "def parse_old_clusterfile(file_path):\n",
    "    # Read the content of the file\n",
    "    with open(file_path, 'r') as f:\n",
    "        lines = f.readlines()\n",
    "\n",
    "    # A dictionary to store parsed data\n",
    "    data = {}\n",
    "    \n",
    "    current_section = None\n",
    "\n",
    "    # Loop through each line\n",
    "    for line in lines:\n",
    "        line = line.strip()  # Remove leading/trailing whitespace\n",
    "\n",
    "        # If the line starts with \"[\", it's a section header\n",
    "        if line.startswith('['):\n",
    "            current_section = line[1:-1]\n",
    "            data[current_section] = {}\n",
    "        else:\n",
    "            # Check for monomer keyword\n",
    "            if line == \"monomer\":\n",
    "                data[current_section][\"isMonomer\"] = True\n",
    "            elif \"composition\" in line:\n",
    "                comps = line.split()[1:]\n",
    "                data[current_section][\"composition\"] = [int(comp) for comp in comps]\n",
    "            elif \"sigma\" in line:\n",
    "                data[current_section][\"sigma\"] = int(line.split()[1])\n",
    "            elif \"energy\" in line:\n",
    "                data[current_section][\"energy\"] = float(line.split()[1])\n",
    "            elif \"volume\" in line:\n",
    "                data[current_section][\"volume\"] = float(line.split()[1])\n",
    "            elif \"coordinates\" in line:\n",
    "                data[current_section][\"coordinates\"] = line.split()[1]\n",
    "            elif \"frequencies\" in line:\n",
    "                data[current_section][\"frequencies\"] = line.split()[1]\n",
    "\n",
    "    return data\n",
    "\n",
    "def write_to_toml(data, output_path):\n",
    "    with open(output_path, 'w') as f:\n",
    "        f.write(tomlkit.dumps(data))\n",
    "\n",
    "def main():\n",
    "    old_config_path = \"test_clusterset\"  # old clusterset file\n",
    "    new_config_path = \"clusterset.toml\"  # new clusterset file\n",
    "\n",
    "    parsed_cluster_data = parse_old_clusterfile(old_config_path)\n",
    "    write_to_toml(parsed_cluster_data, new_config_path)\n",
    "\n",
    "if __name__ == \"__main__\":\n",
    "    main()"
   ]
  },
  {
   "cell_type": "code",
   "execution_count": null,
   "metadata": {},
   "outputs": [],
   "source": []
  }
 ],
 "metadata": {
  "kernelspec": {
   "display_name": "base",
   "language": "python",
   "name": "python3"
  },
  "language_info": {
   "codemirror_mode": {
    "name": "ipython",
    "version": 3
   },
   "file_extension": ".py",
   "mimetype": "text/x-python",
   "name": "python",
   "nbconvert_exporter": "python",
   "pygments_lexer": "ipython3",
   "version": "3.10.9"
  },
  "orig_nbformat": 4
 },
 "nbformat": 4,
 "nbformat_minor": 2
}
